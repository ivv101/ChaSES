{
 "cells": [
  {
   "cell_type": "code",
   "execution_count": null,
   "id": "73e66131-2147-4b1b-b97a-f00beab25c2a",
   "metadata": {},
   "outputs": [],
   "source": [
    "# if is_interactive():\n",
    "#     notebook_dir = os.path.abspath(os.path.dirname('__main__'))\n",
    "# else:    \n",
    "#     notebook_dir = os.path.abspath(os.path.dirname('__file__'))\n"
   ]
  },
  {
   "cell_type": "code",
   "execution_count": null,
   "id": "2c201524-6ce4-4881-8b9a-3428b24e42e8",
   "metadata": {},
   "outputs": [],
   "source": [
    "process_all_button = bk.Button(label='Process all', button_type='primary', width=100) \n",
    "    \n",
    "    def process_all_button_callback():\n",
    "        \n",
    "        # global glb\n",
    "        \n",
    "        bad_obsids_ccd = []\n",
    "        \n",
    "        all_dir = f'{cache_dir}/all'\n",
    "        \n",
    "        loop_progress = cxo_lib.loop_class(obsids)\n",
    "        \n",
    "        for obsid in obsids:\n",
    "            ccds = get_folders(obsid)\n",
    "            \n",
    "            # process_all_button.label = f'{i}/{len(obsids)}''\n",
    "            \n",
    "            for ccd in ccds:\n",
    "                \n",
    "                select_obsid.value = obsid\n",
    "                select_ccd.value = ccd\n",
    "                \n",
    "                try:\n",
    "                    res = apply_button_callback()\n",
    "                except:\n",
    "                    bad_obsids_ccd.append([obsid, ccd, 'error'])\n",
    "                    continue\n",
    "                \n",
    "                if res == 'empty':\n",
    "                #     # print(f'{obsid}_{ccd} empty')\n",
    "                    bad_obsids_ccd.append([obsid, ccd, 'empty'])\n",
    "                    continue\n",
    "                \n",
    "                hls = '_holes' if 0 in cb_group.active else ''\n",
    "                                                \n",
    "                os.system(f'cd {notebook_dir}; mkdir -p {all_dir}')\n",
    "                \n",
    "                tbl_json = json.loads(pd.DataFrame(tbl_source.data).to_json(orient='split', index=False, indent=4))\n",
    "                json.dump(tbl_json, open(f'{all_dir}/{obsid}_{ccd}{hls}.json', 'wt'))\n",
    "                \n",
    "                # glb = tbl_json\n",
    "                  \n",
    "                _ = clus_source_filtered.data.copy()    \n",
    "                pkl.dump(_, open(f'{all_dir}/{obsid}_{ccd}{hls}.pkl', 'wb'))\n",
    "                \n",
    "                bk.export_png(p, filename=f'{all_dir}/{obsid}_{ccd}{hls}.png')  \n",
    "                \n",
    "                # print(f'{obsid}_{ccd} done')\n",
    "                \n",
    "            loop_progress()\n",
    "            \n",
    "        pkl.dump(bad_obsids_ccd, open(f'{cache_dir}/bad_obsids_ccd.pkl', 'wb'))    \n",
    "        \n",
    "    process_all_button.on_click(process_all_button_callback) "
   ]
  },
  {
   "cell_type": "code",
   "execution_count": 8,
   "id": "b41f89ab-76f3-4bb1-a57b-dba6a675f7fc",
   "metadata": {},
   "outputs": [],
   "source": [
    "# bk.curdoc().clear()"
   ]
  },
  {
   "cell_type": "code",
   "execution_count": 9,
   "id": "03c04058-0441-4feb-9e35-3f74eb293eb7",
   "metadata": {},
   "outputs": [],
   "source": [
    "# from sklearn import datasets\n",
    "# n_samples = 10_000\n",
    "# noisy_moons_X, noisy_moons_y = datasets.make_moons(n_samples=n_samples, noise=0.)\n",
    "\n",
    "# no_structure = np.random.rand(n_samples, 2)\n",
    "\n",
    "# scaled_xy = ext_lib.scale(*noisy_moons_X.T)\n",
    "\n",
    "# X = np.transpose([scaled_xy['x'], scaled_xy['y']])\n",
    "\n",
    "# X = np.concatenate([X, no_structure])\n",
    "\n",
    "# X_moon = (X - X.min(0)) / (X.max(0) - X.min(0))\n",
    "\n",
    "# p = bk.figure()\n",
    "# p.scatter(*X_moon.T)\n",
    "# bk.show(p)"
   ]
  },
  {
   "cell_type": "code",
   "execution_count": 10,
   "id": "9c2ea31d-c072-4139-aa95-2db7f9161394",
   "metadata": {},
   "outputs": [],
   "source": [
    "# X, db = pkl.load(open('tmp.pkl', 'rb'))\n",
    "                \n",
    "# silhs = app1_lib.get_silhouette_samples(X, db)  \n",
    "# silhs"
   ]
  },
  {
   "cell_type": "code",
   "execution_count": 11,
   "id": "041a664b-7456-4ae4-a2c8-37f307cb9e9c",
   "metadata": {},
   "outputs": [],
   "source": [
    "# glb = ''"
   ]
  },
  {
   "cell_type": "code",
   "execution_count": 12,
   "id": "b687f2c5-21c0-4a99-8f16-daa2c0e9458b",
   "metadata": {},
   "outputs": [],
   "source": [
    "# class local_fits_class:\n",
    "    \n",
    "#     def __init__(self, fits_dir):   \n",
    "        \n",
    "#         self.fits_dir = fits_dir\n",
    "        \n",
    "#         obsids = subdirs_search(fits_dir)\n",
    "        \n",
    "#         self.obsids = {}\n",
    "        \n",
    "#         for obsid in obsids:\n",
    "            \n",
    "#             ccds = subdirs_search(f'{fits_dir}/{obsid}')\n",
    "            \n",
    "#             self.obsids[obsid] = {'ccds': ccds}\n",
    "            \n",
    "            \n",
    "            \n",
    "            \n",
    "        \n",
    "        \n",
    "        \n",
    "        \n",
    "#     def get_obsids(self, loc):\n",
    "    \n",
    "#         if loc == 'local':\n",
    "#             return np.sort([int(_) for _ in os.listdir(f'{self.fits_dir}') if _[0]!='.']).astype(str).tolist()\n",
    "        \n",
    "#         else:            \n",
    "#             return list(hug_tree.keys())    \n",
    "        \n",
    "        \n",
    "        \n",
    "    \n",
    "    "
   ]
  },
  {
   "cell_type": "code",
   "execution_count": 114,
   "id": "a0badc7d-0766-40b3-ab87-4ecebc5bffb3",
   "metadata": {},
   "outputs": [],
   "source": [
    "\n",
    "# json_files = json_files[ind]"
   ]
  },
  {
   "cell_type": "code",
   "execution_count": null,
   "id": "1be21bf9-2367-401a-a826-453b0669fb15",
   "metadata": {},
   "outputs": [],
   "source": []
  },
  {
   "cell_type": "code",
   "execution_count": 13,
   "id": "9f7a1662-34a0-4a4e-a858-fcdcb79215a8",
   "metadata": {},
   "outputs": [],
   "source": [
    "log = logging.getLogger('bokeh')"
   ]
  },
  {
   "cell_type": "code",
   "execution_count": null,
   "id": "801ee062-c24b-46d2-b149-b871fb2b114a",
   "metadata": {},
   "outputs": [],
   "source": [
    "# def get_ccd_folders_old(obsid, loc):\n",
    "    \n",
    "#     if loc == 'local':\n",
    "#         return subdirs_search(f\"{fits_dir['local']}/{obsid}\")\n",
    "#     else:            \n",
    "#         return [str(_) for _ in hug_tree[str(obsid)]]    "
   ]
  },
  {
   "cell_type": "code",
   "execution_count": 17,
   "id": "2173c015-bf5c-4cff-8f9f-8e5e0f05a4b3",
   "metadata": {},
   "outputs": [],
   "source": [
    "# head = fits.getheader('../data/333/acisf00333N003_evt2.fits.gz', 1)"
   ]
  },
  {
   "cell_type": "code",
   "execution_count": 18,
   "id": "962c14a2-4a8f-4951-8def-4c93297b6c0d",
   "metadata": {
    "lines_to_next_cell": 0
   },
   "outputs": [],
   "source": [
    "# [_[7:] for _ in set(head.keys()) if _[:7]=='BIASFIL']"
   ]
  },
  {
   "cell_type": "code",
   "execution_count": 19,
   "id": "f31de70b-17c6-4491-a752-56f9b8e2e920",
   "metadata": {},
   "outputs": [],
   "source": [
    "# fn = '../data/755/7/755_7_holes_evt2_05_8keV.fits'\n",
    "\n",
    "# fn = '../data/333/acisf00333N003_evt2.fits.gz'\n",
    "\n",
    "# fn = '../data/333/4/333_4_evt2_05_8keV.fits'\n",
    "\n",
    "# fits.getheader(fn, 1)"
   ]
  },
  {
   "cell_type": "code",
   "execution_count": null,
   "id": "d018c4c2-7723-43eb-be46-6e49a63d1198",
   "metadata": {
    "lines_to_next_cell": 2
   },
   "outputs": [],
   "source": []
  },
  {
   "cell_type": "code",
   "execution_count": 20,
   "id": "c4f1d310-b8d9-4606-83d3-2379793757c2",
   "metadata": {
    "lines_to_next_cell": 2
   },
   "outputs": [],
   "source": [
    "# url = 'https://static.bokeh.org/branding/logos/bokeh-logo.svg'\n",
    "\n",
    "# url = 'https://cxc.cfa.harvard.edu/cdaftp/byobsid/3/333/primary/acisf00333N003_full_img2.jpg'\n",
    "\n",
    "# local_fn = url.split('/')[-1]\n",
    "\n",
    "# urlretrieve(url, local_fn) \n"
   ]
  },
  {
   "cell_type": "code",
   "execution_count": 21,
   "id": "cc956788-728a-4841-9649-3190f2fd86dc",
   "metadata": {},
   "outputs": [],
   "source": [
    "# importlib.reload(ext_lib)"
   ]
  },
  {
   "cell_type": "code",
   "execution_count": 22,
   "id": "2d1902c7-a782-4291-b453-f036d5b4fed0",
   "metadata": {},
   "outputs": [],
   "source": [
    "# obsid = 333\n",
    "\n",
    "# %time ext_lib.get_evt2_file(obsid, path=f\"{fits_dir['local']}/{obsid}\", search_mask='full_img2.jpg')"
   ]
  },
  {
   "cell_type": "code",
   "execution_count": 23,
   "id": "263c3af2-4ff5-4d36-a141-e3701d7c54e3",
   "metadata": {},
   "outputs": [],
   "source": [
    "# url = 'https://live.staticflickr.com/803/40807467832_eaf4690da0_b.jpg'\n",
    "\n",
    "# p = bk.figure()\n",
    "# z = p.image_url(url=[url], x=0, y=1, visible=True)\n",
    "# p.x_range.start = p.y_range.start = 0\n",
    "# p.x_range.end = p.y_range.end = 1    \n",
    "# p.x_range.range_padding = p.y_range.range_padding = 0\n",
    "# bk.show(p)"
   ]
  },
  {
   "cell_type": "code",
   "execution_count": 24,
   "id": "53d3c9e5-1c8b-4161-b6de-95524069feb9",
   "metadata": {},
   "outputs": [],
   "source": [
    "# p = bk.figure(title='', tools=['hover'])\n",
    "# p.image?"
   ]
  },
  {
   "cell_type": "code",
   "execution_count": 25,
   "id": "9347ad8f-7633-43b3-9fcb-262fb7e29d9d",
   "metadata": {},
   "outputs": [],
   "source": [
    "# !wget https://live.staticflickr.com/803/40807467832_eaf4690da0_b.jpg"
   ]
  },
  {
   "cell_type": "code",
   "execution_count": 26,
   "id": "0b02f9f6-8d83-46ab-a767-6482d384fd3d",
   "metadata": {},
   "outputs": [],
   "source": [
    "# fn = '/home/ivv101/oyk/Extended_sources/2022/Chandra-ACIS-clusters-app/app/40807467832_eaf4690da0_b.jpg'"
   ]
  },
  {
   "cell_type": "code",
   "execution_count": null,
   "id": "c55550c3-1962-4369-b641-ab24d6ff0721",
   "metadata": {},
   "outputs": [],
   "source": []
  },
  {
   "cell_type": "code",
   "execution_count": 28,
   "id": "98a893aa-0d17-4d7f-b08c-fd6943ee6965",
   "metadata": {},
   "outputs": [],
   "source": [
    "# url = 'https://live.staticflickr.com/803/40807467832_eaf4690da0_b.jpg'\n",
    "\n",
    "# fn = '40807467832_eaf4690da0_b.jpg'\n",
    "\n",
    "# x, y, w, h = image_url_pars(fn)\n",
    "\n",
    "# p = bk.figure(title='zzz')\n",
    "# z = p.image_url(url=[url], x=0, y=1, w=1, h=1, visible=True)\n",
    "\n",
    "\n",
    "\n",
    "# z.glyph.x = x\n",
    "# z.glyph.y = y\n",
    "# z.glyph.w = w\n",
    "# z.glyph.h = h\n",
    "\n",
    "# def xxx():\n",
    "#     p.title.text = 'kkk'\n",
    "\n",
    "\n",
    "# p.x_range.start = p.y_range.start = 0\n",
    "# p.x_range.end = p.y_range.end = 1    \n",
    "# p.x_range.range_padding = p.y_range.range_padding = 0\n",
    "\n",
    "# xxx()\n",
    "\n",
    "\n",
    "# bk.show(p)"
   ]
  },
  {
   "cell_type": "code",
   "execution_count": null,
   "id": "614c4d32-7db0-490c-bfcd-6d9ee5fa0577",
   "metadata": {},
   "outputs": [],
   "source": [
    "        # k = scipy.stats.gaussian_kde([x,y], sigma)\n",
    "        # xi, yi = np.mgrid[x.min():x.max():nbins*1j, y.min():y.max():nbins*1j]\n",
    "        # zi = k(np.vstack([xi.flatten(), yi.flatten()]))    \n",
    "        # d = zi.reshape(xi.shape).T\n"
   ]
  },
  {
   "cell_type": "code",
   "execution_count": null,
   "id": "4bf15533-988d-49d1-bd1a-933cca8f8160",
   "metadata": {},
   "outputs": [],
   "source": [
    "            \n",
    "    \n",
    "    \n",
    "#     d = Div(text=\"start\")\n",
    "\n",
    "#     b = Button()\n",
    "\n",
    "#     def work():\n",
    "#         sleep(2)\n",
    "#         d.text = \"end\"\n"
   ]
  },
  {
   "cell_type": "code",
   "execution_count": 33,
   "id": "5cba8286-3730-4a9a-b120-d46e531c76d7",
   "metadata": {},
   "outputs": [
    {
     "name": "stdout",
     "output_type": "stream",
     "text": [
      "\n"
     ]
    }
   ],
   "source": []
  },
  {
   "cell_type": "code",
   "execution_count": null,
   "id": "e881eaef-89e1-4bf4-bd86-728ad38a1da3",
   "metadata": {},
   "outputs": [],
   "source": []
  },
  {
   "cell_type": "code",
   "execution_count": 34,
   "id": "1b25286e-3835-4c48-9396-7dede97b4df8",
   "metadata": {
    "lines_to_end_of_cell_marker": 2
   },
   "outputs": [],
   "source": [
    "# obsid = '333'\n",
    "# ccd = '4'\n",
    "# hls = ''\n",
    "\n",
    "# obsid_dir = f'{fits_dir[\"local\"]}/{obsid}'\n",
    "# fn_ccd = f'{obsid_dir}/{ccd}/{obsid}_{ccd}{hls}_evt2_05_8keV.fits'"
   ]
  },
  {
   "cell_type": "code",
   "execution_count": 35,
   "id": "9f992a5c-e41d-4ed7-a71a-52db368ed96d",
   "metadata": {},
   "outputs": [],
   "source": [
    "# fits.info(fn_ccd)"
   ]
  },
  {
   "cell_type": "code",
   "execution_count": 36,
   "id": "aad11d63-b4d8-489e-8e69-ca490a326df8",
   "metadata": {},
   "outputs": [],
   "source": [
    "# data, head = fits.getdata(fn_ccd, 1), fits.getheader(fn_ccd, 1)"
   ]
  },
  {
   "cell_type": "code",
   "execution_count": 37,
   "id": "d1b705b3-e9be-4198-a3d9-497bc85b3149",
   "metadata": {},
   "outputs": [],
   "source": [
    "# fits.getheader('zzz.fits', 1)"
   ]
  },
  {
   "cell_type": "code",
   "execution_count": 38,
   "id": "de85c1a3-9989-4ef0-ba66-259225f8cd63",
   "metadata": {},
   "outputs": [],
   "source": [
    "# evt2_data, head = ext_lib.process_fits(fn)\n",
    "# evt2_data"
   ]
  },
  {
   "cell_type": "code",
   "execution_count": 39,
   "id": "a3e7d9f9-98bb-41f9-9e8e-f15c754e0421",
   "metadata": {},
   "outputs": [],
   "source": [
    "#||||||||||||||||||||\\ \\\n",
    "#<style>\n",
    "#             .bk.sent-later {\n",
    "#                 font-size: 40px;\n",
    "#                 border: 1px solid green;\n",
    "#                 background-color: white;\n",
    "#             }\n",
    "#             </style>\n",
    "#     \"\"\")\n",
    "\n",
    "\n",
    "\n",
    "# a = bk.PreText(text='zzz\\nfff\\n\\nggg', width=400, height=500)\n",
    "\n",
    "# a.css_classes.append('sent-later')\n",
    "\n",
    "# bk.show(bk.layout([divTemplate, a]))"
   ]
  },
  {
   "cell_type": "code",
   "execution_count": 40,
   "id": "b0d3cbb6-487a-412a-a249-725b4c468e4d",
   "metadata": {
    "lines_to_next_cell": 0
   },
   "outputs": [],
   "source": [
    "# log.log?"
   ]
  },
  {
   "cell_type": "code",
   "execution_count": null,
   "id": "6bddab4e-5cd1-4717-b897-b9d94ec26e70",
   "metadata": {
    "lines_to_next_cell": 2
   },
   "outputs": [],
   "source": []
  },
  {
   "cell_type": "code",
   "execution_count": 41,
   "id": "a958b9b3-df37-4544-be54-e014282b5bc6",
   "metadata": {
    "lines_to_next_cell": 0
   },
   "outputs": [],
   "source": [
    "# a = app1_lib.friz_class()\n",
    "\n",
    "# a.freeze('zzz')\n",
    "\n",
    "# def tst():\n",
    "    \n",
    "#     global a\n",
    "    \n",
    "#     if a.unfreeze('zzz'): return \n",
    "    \n",
    "#     print('ttt')\n",
    "\n",
    "# tst()    "
   ]
  },
  {
   "cell_type": "code",
   "execution_count": 42,
   "id": "e0e66d22-aee9-4ed1-985d-6c2f1b8beb06",
   "metadata": {
    "lines_to_next_cell": 0
   },
   "outputs": [],
   "source": [
    "# i = 0\n",
    "\n",
    "# ttt = []\n",
    "\n",
    "# def modify_doc(doc):\n",
    "    \n",
    "    \n",
    "    \n",
    "#     freeze_select_ccd = False\n",
    "    \n",
    "#     p = bk.figure()\n",
    "    \n",
    "    \n",
    "    \n",
    "#     url755 = 'https://cxc.cfa.harvard.edu/cdaftp/byobsid/5/755/primary/acisf00755N004_full_img2.jpg'\n",
    "    \n",
    "#     url333 = 'https://cxc.cfa.harvard.edu/cdaftp/byobsid/3/333/primary/acisf00333N003_full_img2.jpg'\n",
    "    \n",
    "#     z = p.image_url(url=[url755], x=0, y=1, w=1, h=1, visible=True, global_alpha=0.5)\n",
    "    \n",
    "#     # div_image = bk.Div(text=f\"\"\"<img src=\"{url}\" alt=\"div_image\">\"\"\", width=450, height=450)\n",
    "    \n",
    "#     ttt.append(z)\n",
    "    \n",
    "#     z.data_source.data['url'][0] = url755\n",
    "    \n",
    "\n",
    "#     select_ccd = bk.Select(title='ccd',                            \n",
    "#                                value='1',\n",
    "#                                options=['1','2','3','4','5'],\n",
    "#                                width=50)\n",
    "\n",
    "#     but = bk.Button(label='clik')\n",
    "\n",
    "#     def but_callback():\n",
    "        \n",
    "#         nonlocal freeze_select_ccd\n",
    "        \n",
    "#         # ccds = get_ccd_folders(new, data_loc_active())\n",
    "        \n",
    "#         freeze_select_ccd = False\n",
    "\n",
    "#         select_ccd.options = ['7','8','9']  \n",
    "#         select_ccd.value = '7' \n",
    "\n",
    "#         print(select_ccd.options, select_ccd.value)\n",
    "\n",
    "        \n",
    "#     def select_ccd_callback(attr, old, new):\n",
    "        \n",
    "#         nonlocal freeze_select_ccd\n",
    "        \n",
    "# #         global i \n",
    "        \n",
    "# #         i += 1\n",
    "                \n",
    "#         if freeze_select_ccd:\n",
    "#             freeze_select_ccd = False\n",
    "#             return\n",
    "\n",
    "#         # ccds = get_ccd_folders(new, data_loc_active())\n",
    "        \n",
    "#         # select_ccd.value = str(i)\n",
    "\n",
    "#         print('zzz')\n",
    "\n",
    "#     but.on_click(but_callback) \n",
    "#     select_ccd.on_change('value', select_ccd_callback) \n",
    "    \n",
    "#     layout = bk.layout(select_ccd, but, p)\n",
    "    \n",
    "#     doc.add_root(layout)\n",
    "\n",
    "# bk.show(modify_doc, notebook_url='localhost:1111', port=8911) # change"
   ]
  },
  {
   "cell_type": "code",
   "execution_count": 43,
   "id": "d8bc6b57-35d6-42de-b5ef-83227124c6d1",
   "metadata": {
    "lines_to_next_cell": 0
   },
   "outputs": [],
   "source": [
    "# x = \"global\"\n",
    "\n",
    "# def foo():\n",
    "#     x = x * 2\n",
    "#     print(x)\n",
    "\n",
    "# foo()"
   ]
  },
  {
   "cell_type": "code",
   "execution_count": null,
   "id": "7235894b-7686-46c5-8bf3-4072e1afd507",
   "metadata": {
    "lines_to_next_cell": 2
   },
   "outputs": [],
   "source": []
  },
  {
   "cell_type": "code",
   "execution_count": 44,
   "id": "8bcef9de-c4f5-4e41-baf4-a2b16d30b567",
   "metadata": {},
   "outputs": [],
   "source": [
    "# from urllib.request import urlretrieve\n",
    "\n",
    "# obsid = 1042\n",
    "# ccd = 3\n",
    "\n",
    "# loc = 'hug'\n",
    "\n",
    "# holes = True\n",
    "\n",
    "\n",
    "\n",
    "# local_fits_dir = fits_dir['local']\n",
    "\n",
    "# hls = '_holes' if holes else ''\n",
    "        \n",
    "# evt2_fn = f'{obsid}_{ccd}{hls}_evt2_05_8keV.fits'\n",
    "\n",
    "# evt2_fn_local = f'{local_fits_dir}/{obsid}/{ccd}/{evt2_fn}'\n",
    "\n",
    "# if os.path.isfile(evt2_fn_local) or loc=='local':\n",
    "#     pass\n",
    "# elif loc=='hug':        \n",
    "#     url = f'{fits_dir[loc]}/{obsid}/{ccd}/{evt2_fn}'\n",
    "    \n",
    "#     os.system(f'mkdir -p {local_fits_dir}/{obsid}/{ccd}')\n",
    "    \n",
    "#     urlretrieve(url, evt2_fn_local)        \n",
    "# elif loc=='query':        \n",
    "#     status, url, evt2_fn_local = ext_lib.get_evt2_file(obsid, f'{local_fits_dir}/{obsid}')        \n",
    "#     if status != 'ok':\n",
    "#         sys.exit(status)  \n",
    "        \n",
    "        \n",
    "# scaled_xy = app1_lib.get_data(evt2_fn_local, ccd)    "
   ]
  },
  {
   "cell_type": "code",
   "execution_count": 45,
   "id": "48281baf-7bcf-4896-808e-f50d1a4daf2d",
   "metadata": {
    "lines_to_next_cell": 2
   },
   "outputs": [],
   "source": [
    "# https://huggingface.co/datasets/oyk100/Chandra-ACIS-clusters-data/resolve/main/755/2/755_2_evt2_05_8keV.fits"
   ]
  },
  {
   "cell_type": "code",
   "execution_count": 46,
   "id": "af9efca4-8662-4613-b5ec-aa1a5a4bd5b0",
   "metadata": {
    "lines_to_next_cell": 0
   },
   "outputs": [],
   "source": [
    "# # create json with data files structure\n",
    "\n",
    "# data_dir = '/home/ivv101/oyk/Extended_sources/2022/Chandra-ACIS-clusters-data'\n",
    "\n",
    "# lst = glob(f'{data_dir}/**/*fits', recursive=True)\n",
    "\n",
    "# dir_tree = {}\n",
    "\n",
    "# for f in lst:\n",
    "    \n",
    "#     obsid, ccd = np.array(f.split('/')[-3:-1], dtype=int).tolist()\n",
    "    \n",
    "#     if obsid not in dir_tree.keys():        \n",
    "#         dir_tree[obsid] = []\n",
    "    \n",
    "#     if ccd not in dir_tree[obsid]:\n",
    "#         dir_tree[obsid].append(ccd)\n",
    "#         dir_tree[obsid] = sorted(dir_tree[obsid])\n",
    "        \n",
    "# dir_tree = dict(sorted(dir_tree.items()))   \n",
    "\n",
    "# json.dump(dir_tree, open(f'{data_dir}/obsids.json', 'wt'))\n",
    "\n",
    "# # dir_tree"
   ]
  },
  {
   "cell_type": "code",
   "execution_count": null,
   "id": "bc75b532-7637-4c75-a78e-657008c23d8b",
   "metadata": {
    "lines_to_next_cell": 2
   },
   "outputs": [],
   "source": []
  },
  {
   "cell_type": "code",
   "execution_count": 47,
   "id": "562d7579-32c4-48fd-8446-6726f90a2e92",
   "metadata": {
    "lines_to_next_cell": 0
   },
   "outputs": [],
   "source": [
    "\n",
    "\n",
    "\n",
    "\n",
    "\n",
    "\n",
    "\n",
    "\n",
    "\n",
    "\n",
    "\n",
    "# a = np.array([\n",
    "#     [ 0,  2, 1],\n",
    "#     [ 0,  0, 3],\n",
    "#     [ 0,  0, 2],\n",
    "#     [-1,  8, 0],\n",
    "#     [-6,  7, 0],\n",
    "#     [-1,  1, 0]\n",
    "# ])\n",
    "\n",
    "# a[np.lexsort(a[:,::-1].T)] # sorts by first, second etc"
   ]
  },
  {
   "cell_type": "code",
   "execution_count": 48,
   "id": "16f2c2c8-1544-4942-a5d8-09be451df65d",
   "metadata": {},
   "outputs": [],
   "source": [
    "\n",
    "        \n",
    "#     def select_ccd_callback_aux():\n",
    "                \n",
    "#         global frz        \n",
    "#         if frz.unfreeze('select_ccd'): return\n",
    "    \n",
    "#         obsid = select_obsid.value\n",
    "#         ccd = select_ccd.value\n",
    "        \n",
    "#         if ccd == '':    \n",
    "#             show_jpg_img(obsid)\n",
    "#             p.title.text = obsid            \n",
    "#             return\n",
    "        \n",
    "#         p.title.text = f'{obsid}/{ccd}'\n",
    "        \n",
    "#         get_ccd_evt2(obsid, ccd)\n",
    "        \n",
    "#         show_ccd(obsid, ccd)\n",
    "    \n",
    "        \n",
    "#     show_ccd(obsid_ini, ccd_ini) \n",
    "    \n",
    "    \n",
    "#     def query_button_callback():\n",
    "        \n",
    "#         global frz        \n",
    "#         if frz.unfreeze('query_button'): return\n",
    "    \n",
    "#         frz.freeze('data_loc_rbg')\n",
    "#         data_loc_rbg.active = 1\n",
    "        \n",
    "#         tbl.visible = False\n",
    "        \n",
    "#         obsid = query_input.value.rstrip()\n",
    "#         obsid_dir = f\"{fits_dir['local']}/{obsid}\"\n",
    "                \n",
    "#         if obsid in get_obsid_folders('hug'):\n",
    "            \n",
    "#             ccds = get_ccd_folders(obsid, 'hug')\n",
    "#             ccd = [0]\n",
    "            \n",
    "#             ccd_dir = f'{obsid_dir}/{ccd}'\n",
    "            \n",
    "#             holes = True if holes_cb_group.active else False        \n",
    "#             hls = '_holes' if holes else ''\n",
    "        \n",
    "#             fn_ccd = f'{obsid}_{ccd}{hls}_evt2_05_8keV.fits'\n",
    "            \n",
    "#             fn_ccd_full = f'{ccd_dir}/{fn_ccd}'\n",
    "            \n",
    "#             if not os.path.isfile(fn_ccd_full):\n",
    "                \n",
    "#                 os.system(f'mkdir -p {ccd_dir}')\n",
    "                \n",
    "#                 url = f\"{fits_dir['hug']}/{obsid}/{ccd}/{fn_ccd}\"  \n",
    "                \n",
    "#                 urlretrieve(url, fn_ccd_full)  \n",
    "                                \n",
    "#         else:\n",
    "#             if not os.path.isdir(obsid_dir):\n",
    "\n",
    "#                 debug_info_window.text += f'create obsid {obsid} folder\\n'\n",
    "\n",
    "#                 status, url, evt2_filename = ext_lib.get_evt2_url(obsid) \n",
    "\n",
    "#                 debug_info_window.text += status + '\\n'        \n",
    "\n",
    "#                 if status != 'ok':\n",
    "#                     msg.text = status            \n",
    "#                     return\n",
    "\n",
    "#                 evt2_filename_full = f'{obsid_dir}/{evt2_filename}'\n",
    "\n",
    "#                 os.system(f'mkdir -p {obsid_dir}')\n",
    "#                 urlretrieve(url, evt2_filename_full)  \n",
    "\n",
    "#                 with fits.open(evt2_filename_full) as hdul:\n",
    "#                     _ = hdul[1].data\n",
    "#                     ccds = np.sort(np.unique(_['ccd_id'])).tolist()\n",
    "\n",
    "#                 [os.system(f'mkdir -p {obsid_dir}/{ccd}') for ccd in ccds]\n",
    "\n",
    "#             ccds = get_ccd_folders(obsid, 'local') \n",
    "\n",
    "#             ccd = ccds[0]      \n",
    "\n",
    "#             app1_lib.create_fits(obsid, ccd, fits_dir['local'], hls, use_cache)\n",
    "                \n",
    "#         local_obsids = get_obsid_folders('local')\n",
    "        \n",
    "#         select_obsid.options = local_obsids\n",
    "#         frz.freeze('select_obsid')\n",
    "#         select_obsid.value = obsid\n",
    "        \n",
    "#         select_ccd.options = ccds\n",
    "#         frz.freeze('select_ccd')\n",
    "#         select_ccd.value = ccd\n",
    "        \n",
    "        \n",
    "        \n",
    "#         show_ccd(obsid, ccd)\n",
    "        \n",
    "                            \n",
    "        \n",
    "        \n",
    "    \n",
    "        \n",
    "        \n",
    "        \n",
    "        \n",
    "        \n",
    "        \n",
    "   \n",
    "            \n",
    "#     def data_loc_rbg_callback(attr, old, new):\n",
    "        \n",
    "        \n",
    "        \n",
    "#         global frz              \n",
    "#         if frz.unfreeze('data_loc_rbg'): return\n",
    "    \n",
    "        \n",
    "\n",
    "# #         obsid = obsids[data_loc_active()][0]\n",
    "        \n",
    "# #         print(obsid)\n",
    "\n",
    "\n",
    "\n",
    "\n",
    "\n",
    "\n",
    "\n",
    "#         # frz.comment += f'{data_loc_active()}\\n'\n",
    "        \n",
    "#         cur_obsids = get_obsid_folders(new)\n",
    "        \n",
    "#         # frz.comment += f'{cur_obsids}\\n'\n",
    "        \n",
    "#         # debug_info_window.text += 'loc: ' + data_loc_active() + '\\n' \n",
    "#         # debug_info_window.text += cur_obsids + '\\n'     \n",
    "                       \n",
    "#         select_obsid.options = cur_obsids   \n",
    "#         select_obsid.value = cur_obsids[0]\n",
    "        \n",
    "#         # frz.comment += f'data_loc_rbg_callback done\\n'\n",
    "        \n",
    "        \n",
    "        \n",
    "        \n",
    "        \n",
    "        \n",
    "#         # select_obsid_callback(0, 0, select_obsid.value)\n",
    "                \n",
    "#         # cb()\n",
    "        \n",
    "        \n"
   ]
  },
  {
   "cell_type": "code",
   "execution_count": null,
   "id": "7f290cfb-270d-46af-ad1b-be3ad007b037",
   "metadata": {},
   "outputs": [],
   "source": []
  },
  {
   "cell_type": "code",
   "execution_count": 126,
   "id": "c08d101b-4ca9-465c-ba64-f9836e6c2dc0",
   "metadata": {},
   "outputs": [],
   "source": [
    "json_files = np.array(glob('app_cache/all/*.json'))\n",
    "obsids, ccds = np.transpose([re.findall(r'([0-9]+)', _) for _ in json_files]).astype(int)\n",
    "ind = np.lexsort((ccds, obsids))\n",
    "\n",
    "columns = json.load(open(json_files[0], 'rt'))['columns'] \n",
    "\n",
    "for i in ind:\n",
    "    \n",
    "    obsid, ccd, json_file = obsids[i], ccds[i], json_files[i]\n",
    "    \n",
    "    if obsid not in data:\n",
    "        data[obsid] = {}\n",
    "        \n",
    "    data[obsid][ccd] = json.load(open(json_file, 'rt'))['data']"
   ]
  },
  {
   "cell_type": "code",
   "execution_count": 132,
   "id": "e96b1b81-7d63-4976-8e64-8e7089cec426",
   "metadata": {},
   "outputs": [
    {
     "name": "stdout",
     "output_type": "stream",
     "text": [
      "CPU times: user 4.18 s, sys: 0 ns, total: 4.18 s\n",
      "Wall time: 4.18 s\n"
     ]
    },
    {
     "data": {
      "text/html": [
       "<div>\n",
       "<style scoped>\n",
       "    .dataframe tbody tr th:only-of-type {\n",
       "        vertical-align: middle;\n",
       "    }\n",
       "\n",
       "    .dataframe tbody tr th {\n",
       "        vertical-align: top;\n",
       "    }\n",
       "\n",
       "    .dataframe thead th {\n",
       "        text-align: right;\n",
       "    }\n",
       "</style>\n",
       "<table border=\"1\" class=\"dataframe\">\n",
       "  <thead>\n",
       "    <tr style=\"text-align: right;\">\n",
       "      <th></th>\n",
       "      <th>obsid</th>\n",
       "      <th>ccd</th>\n",
       "      <th>color</th>\n",
       "      <th>silhouette</th>\n",
       "      <th>area</th>\n",
       "      <th>n-n_bkg</th>\n",
       "      <th>signif.</th>\n",
       "      <th>sigmas</th>\n",
       "      <th>x</th>\n",
       "      <th>y</th>\n",
       "      <th>ra</th>\n",
       "      <th>dec</th>\n",
       "    </tr>\n",
       "  </thead>\n",
       "  <tbody>\n",
       "    <tr>\n",
       "      <th>0</th>\n",
       "      <td>88</td>\n",
       "      <td>0</td>\n",
       "      <td>#00ffff</td>\n",
       "      <td>-0.055185</td>\n",
       "      <td>0.099155</td>\n",
       "      <td>1089</td>\n",
       "      <td>0.000000e+00</td>\n",
       "      <td>NaN</td>\n",
       "      <td>3894.318470</td>\n",
       "      <td>4319.163761</td>\n",
       "      <td>170.376996</td>\n",
       "      <td>-60.588523</td>\n",
       "    </tr>\n",
       "    <tr>\n",
       "      <th>1</th>\n",
       "      <td>88</td>\n",
       "      <td>0</td>\n",
       "      <td>#aec7e8</td>\n",
       "      <td>0.360328</td>\n",
       "      <td>0.008555</td>\n",
       "      <td>113</td>\n",
       "      <td>0.000000e+00</td>\n",
       "      <td>7.012776</td>\n",
       "      <td>3919.598311</td>\n",
       "      <td>4618.884475</td>\n",
       "      <td>170.369899</td>\n",
       "      <td>-60.547564</td>\n",
       "    </tr>\n",
       "    <tr>\n",
       "      <th>2</th>\n",
       "      <td>88</td>\n",
       "      <td>0</td>\n",
       "      <td>#ff7f0e</td>\n",
       "      <td>0.367492</td>\n",
       "      <td>0.005676</td>\n",
       "      <td>76</td>\n",
       "      <td>5.100000e-09</td>\n",
       "      <td>5.845101</td>\n",
       "      <td>3988.898780</td>\n",
       "      <td>4496.171779</td>\n",
       "      <td>170.350652</td>\n",
       "      <td>-60.564340</td>\n",
       "    </tr>\n",
       "    <tr>\n",
       "      <th>0</th>\n",
       "      <td>88</td>\n",
       "      <td>1</td>\n",
       "      <td>#00ffff</td>\n",
       "      <td>0.041919</td>\n",
       "      <td>0.082157</td>\n",
       "      <td>1714</td>\n",
       "      <td>0.000000e+00</td>\n",
       "      <td>NaN</td>\n",
       "      <td>3923.736784</td>\n",
       "      <td>4002.941282</td>\n",
       "      <td>170.368874</td>\n",
       "      <td>-60.631743</td>\n",
       "    </tr>\n",
       "    <tr>\n",
       "      <th>1</th>\n",
       "      <td>88</td>\n",
       "      <td>1</td>\n",
       "      <td>#aec7e8</td>\n",
       "      <td>0.240753</td>\n",
       "      <td>0.005689</td>\n",
       "      <td>83</td>\n",
       "      <td>3.830000e-08</td>\n",
       "      <td>5.498657</td>\n",
       "      <td>3740.108534</td>\n",
       "      <td>3801.933536</td>\n",
       "      <td>170.420130</td>\n",
       "      <td>-60.659186</td>\n",
       "    </tr>\n",
       "    <tr>\n",
       "      <th>...</th>\n",
       "      <td>...</td>\n",
       "      <td>...</td>\n",
       "      <td>...</td>\n",
       "      <td>...</td>\n",
       "      <td>...</td>\n",
       "      <td>...</td>\n",
       "      <td>...</td>\n",
       "      <td>...</td>\n",
       "      <td>...</td>\n",
       "      <td>...</td>\n",
       "      <td>...</td>\n",
       "      <td>...</td>\n",
       "    </tr>\n",
       "    <tr>\n",
       "      <th>0</th>\n",
       "      <td>49899</td>\n",
       "      <td>6</td>\n",
       "      <td>#ff7f0e</td>\n",
       "      <td>0.740837</td>\n",
       "      <td>0.004603</td>\n",
       "      <td>42</td>\n",
       "      <td>2.247000e-07</td>\n",
       "      <td>5.177663</td>\n",
       "      <td>3046.450837</td>\n",
       "      <td>3341.619332</td>\n",
       "      <td>217.761098</td>\n",
       "      <td>-62.786959</td>\n",
       "    </tr>\n",
       "    <tr>\n",
       "      <th>0</th>\n",
       "      <td>49899</td>\n",
       "      <td>7</td>\n",
       "      <td>#00ffff</td>\n",
       "      <td>0.613671</td>\n",
       "      <td>0.018322</td>\n",
       "      <td>745</td>\n",
       "      <td>0.000000e+00</td>\n",
       "      <td>None</td>\n",
       "      <td>4161.139747</td>\n",
       "      <td>4124.918610</td>\n",
       "      <td>217.428037</td>\n",
       "      <td>-62.680257</td>\n",
       "    </tr>\n",
       "    <tr>\n",
       "      <th>0</th>\n",
       "      <td>49899</td>\n",
       "      <td>8</td>\n",
       "      <td>#00ffff</td>\n",
       "      <td>0.519509</td>\n",
       "      <td>0.035397</td>\n",
       "      <td>158</td>\n",
       "      <td>0.000000e+00</td>\n",
       "      <td>7.091009</td>\n",
       "      <td>5787.482931</td>\n",
       "      <td>3899.923924</td>\n",
       "      <td>216.943237</td>\n",
       "      <td>-62.710104</td>\n",
       "    </tr>\n",
       "    <tr>\n",
       "      <th>1</th>\n",
       "      <td>49899</td>\n",
       "      <td>8</td>\n",
       "      <td>#2ca02c</td>\n",
       "      <td>0.602707</td>\n",
       "      <td>0.005998</td>\n",
       "      <td>44</td>\n",
       "      <td>5.547000e-07</td>\n",
       "      <td>5.006371</td>\n",
       "      <td>5146.849878</td>\n",
       "      <td>3785.760620</td>\n",
       "      <td>217.134027</td>\n",
       "      <td>-62.726261</td>\n",
       "    </tr>\n",
       "    <tr>\n",
       "      <th>0</th>\n",
       "      <td>49899</td>\n",
       "      <td>9</td>\n",
       "      <td>#00ffff</td>\n",
       "      <td>0.851570</td>\n",
       "      <td>0.013711</td>\n",
       "      <td>79</td>\n",
       "      <td>1.900000e-09</td>\n",
       "      <td>6.004882</td>\n",
       "      <td>6839.512888</td>\n",
       "      <td>4304.926991</td>\n",
       "      <td>216.631211</td>\n",
       "      <td>-62.653285</td>\n",
       "    </tr>\n",
       "  </tbody>\n",
       "</table>\n",
       "<p>12236 rows × 12 columns</p>\n",
       "</div>"
      ],
      "text/plain": [
       "    obsid  ccd    color  silhouette      area n-n_bkg       signif.    sigmas  \\\n",
       "0      88    0  #00ffff   -0.055185  0.099155    1089  0.000000e+00       NaN   \n",
       "1      88    0  #aec7e8    0.360328  0.008555     113  0.000000e+00  7.012776   \n",
       "2      88    0  #ff7f0e    0.367492  0.005676      76  5.100000e-09  5.845101   \n",
       "0      88    1  #00ffff    0.041919  0.082157    1714  0.000000e+00       NaN   \n",
       "1      88    1  #aec7e8    0.240753  0.005689      83  3.830000e-08  5.498657   \n",
       "..    ...  ...      ...         ...       ...     ...           ...       ...   \n",
       "0   49899    6  #ff7f0e    0.740837  0.004603      42  2.247000e-07  5.177663   \n",
       "0   49899    7  #00ffff    0.613671  0.018322     745  0.000000e+00      None   \n",
       "0   49899    8  #00ffff    0.519509  0.035397     158  0.000000e+00  7.091009   \n",
       "1   49899    8  #2ca02c    0.602707  0.005998      44  5.547000e-07  5.006371   \n",
       "0   49899    9  #00ffff    0.851570  0.013711      79  1.900000e-09  6.004882   \n",
       "\n",
       "              x            y          ra        dec  \n",
       "0   3894.318470  4319.163761  170.376996 -60.588523  \n",
       "1   3919.598311  4618.884475  170.369899 -60.547564  \n",
       "2   3988.898780  4496.171779  170.350652 -60.564340  \n",
       "0   3923.736784  4002.941282  170.368874 -60.631743  \n",
       "1   3740.108534  3801.933536  170.420130 -60.659186  \n",
       "..          ...          ...         ...        ...  \n",
       "0   3046.450837  3341.619332  217.761098 -62.786959  \n",
       "0   4161.139747  4124.918610  217.428037 -62.680257  \n",
       "0   5787.482931  3899.923924  216.943237 -62.710104  \n",
       "1   5146.849878  3785.760620  217.134027 -62.726261  \n",
       "0   6839.512888  4304.926991  216.631211 -62.653285  \n",
       "\n",
       "[12236 rows x 12 columns]"
      ]
     },
     "execution_count": 132,
     "metadata": {},
     "output_type": "execute_result"
    }
   ],
   "source": [
    "%%time\n",
    "\n",
    "dfs = []\n",
    "\n",
    "for obsid, v in data.items():\n",
    "    for ccd, d in v.items():\n",
    "        \n",
    "        df = pd.DataFrame(d, columns=columns)\n",
    "\n",
    "        df.insert(0, 'obsid', obsid)\n",
    "        df.insert(1, 'ccd', ccd)\n",
    "        \n",
    "        dfs.append(df)\n",
    "        \n",
    "        \n",
    "df = pd.concat(dfs)\n",
    "df"
   ]
  },
  {
   "cell_type": "code",
   "execution_count": 5,
   "id": "20085d04-26ab-46a1-ae60-a328a1dd08be",
   "metadata": {},
   "outputs": [
    {
     "data": {
      "text/plain": [
       "5256"
      ]
     },
     "execution_count": 5,
     "metadata": {},
     "output_type": "execute_result"
    }
   ],
   "source": [
    "fits_dir = '/mnt/data_ssd/holes'\n",
    "holes_files = glob(f'{fits_dir}/**/*holes*', recursive=True)\n",
    "len(holes_files)"
   ]
  },
  {
   "cell_type": "code",
   "execution_count": 6,
   "id": "56fde179-b38e-4815-9b10-7df511205283",
   "metadata": {},
   "outputs": [],
   "source": [
    "import extended_library as ext_lib"
   ]
  },
  {
   "cell_type": "code",
   "execution_count": 7,
   "id": "5b064af2-6440-4cea-a8f0-d0925eddd55e",
   "metadata": {},
   "outputs": [
    {
     "name": "stdout",
     "output_type": "stream",
     "text": [
      "CPU times: user 43.6 s, sys: 192 ms, total: 43.8 s\n",
      "Wall time: 43.8 s\n"
     ]
    }
   ],
   "source": [
    "%time sizes = np.array([len(ext_lib.process_fits(_)[0]) for _ in holes_files])"
   ]
  },
  {
   "cell_type": "code",
   "execution_count": 43,
   "id": "829d0de2-ece3-495d-b198-471bc01a85d0",
   "metadata": {},
   "outputs": [
    {
     "ename": "ModuleNotFoundError",
     "evalue": "No module named 'sherpa'",
     "output_type": "error",
     "traceback": [
      "\u001b[0;31m---------------------------------------------------------------------------\u001b[0m",
      "\u001b[0;31mModuleNotFoundError\u001b[0m                       Traceback (most recent call last)",
      "Input \u001b[0;32mIn [43]\u001b[0m, in \u001b[0;36m<cell line: 1>\u001b[0;34m()\u001b[0m\n\u001b[0;32m----> 1\u001b[0m \u001b[38;5;28;01mfrom\u001b[39;00m \u001b[38;5;21;01msherpa\u001b[39;00m\u001b[38;5;21;01m.\u001b[39;00m\u001b[38;5;21;01mastro\u001b[39;00m \u001b[38;5;28;01mimport\u001b[39;00m xspec\n",
      "\u001b[0;31mModuleNotFoundError\u001b[0m: No module named 'sherpa'"
     ]
    }
   ],
   "source": [
    "from sherpa.astro import xspec"
   ]
  },
  {
   "cell_type": "code",
   "execution_count": 27,
   "id": "07e98ae3-7bce-49ba-ad2f-c21f58e9cace",
   "metadata": {},
   "outputs": [
    {
     "data": {
      "text/plain": [
       "(35648.460806697105, 9651.0, 391459.961346449)"
      ]
     },
     "execution_count": 27,
     "metadata": {},
     "output_type": "execute_result"
    }
   ],
   "source": [
    "np.mean(sizes), np.median(sizes), np.std(sizes)"
   ]
  },
  {
   "cell_type": "code",
   "execution_count": 36,
   "id": "3b432619-6e14-4092-9cc1-37063e0be5c0",
   "metadata": {},
   "outputs": [],
   "source": [
    "np.bincount(sizes)"
   ]
  },
  {
   "cell_type": "code",
   "execution_count": 42,
   "id": "0cee2e25-f42f-48c5-931a-f959c4c11ea0",
   "metadata": {},
   "outputs": [
    {
     "data": {
      "text/plain": [
       "array([  1,   1,   1, ...,   4,   5, 377])"
      ]
     },
     "execution_count": 42,
     "metadata": {},
     "output_type": "execute_result"
    }
   ],
   "source": [
    "np.sort(bc[idx])"
   ]
  },
  {
   "cell_type": "code",
   "execution_count": 41,
   "id": "56ae8d76-22be-488c-bdb7-a07170f8027f",
   "metadata": {},
   "outputs": [
    {
     "data": {
      "text/html": [
       "\n",
       "  <div class=\"bk-root\" id=\"17b2fe50-b3fe-4e7c-8422-8bf84509c50f\" data-root-id=\"3185\"></div>\n"
      ]
     },
     "metadata": {},
     "output_type": "display_data"
    },
    {
     "data": {
      "application/javascript": [
       "(function(root) {\n",
       "  function embed_document(root) {\n",
       "  const docs_json = {\"b3507d32-0d47-4a74-aa53-7460b8e1ee4e\":{\"defs\":[],\"roots\":{\"references\":[{\"attributes\":{\"background_fill_color\":\"#fafafa\",\"below\":[{\"id\":\"3196\"}],\"center\":[{\"id\":\"3199\"},{\"id\":\"3203\"}],\"left\":[{\"id\":\"3200\"}],\"renderers\":[{\"id\":\"3209\"}],\"title\":{\"id\":\"3186\"},\"toolbar\":{\"id\":\"3204\"},\"x_range\":{\"id\":\"3188\"},\"x_scale\":{\"id\":\"3192\"},\"y_range\":{\"id\":\"3190\"},\"y_scale\":{\"id\":\"3194\"}},\"id\":\"3185\",\"subtype\":\"Figure\",\"type\":\"Plot\"},{\"attributes\":{},\"id\":\"3194\",\"type\":\"LinearScale\"},{\"attributes\":{},\"id\":\"3350\",\"type\":\"AllLabels\"},{\"attributes\":{\"bottom\":{\"value\":0},\"fill_alpha\":{\"value\":0.1},\"fill_color\":{\"value\":\"navy\"},\"hatch_alpha\":{\"value\":0.1},\"left\":{\"field\":\"left\"},\"line_alpha\":{\"value\":0.1},\"line_color\":{\"value\":\"white\"},\"right\":{\"field\":\"right\"},\"top\":{\"field\":\"top\"}},\"id\":\"3207\",\"type\":\"Quad\"},{\"attributes\":{},\"id\":\"3201\",\"type\":\"BasicTicker\"},{\"attributes\":{\"ticker\":null},\"id\":\"3349\",\"type\":\"LogTickFormatter\"},{\"attributes\":{},\"id\":\"3204\",\"type\":\"Toolbar\"},{\"attributes\":{\"data\":{\"left\":[-100,494,624,652,687,734,801,804,822,856,867,987,1053,1072,1094,1118,1200,1211,1253,1295,1304,1323,1338,1375,1422,1473,1483,1489,1498,1522,1532,1611,1665,1701,1706,1714,1733,1740,1751,1752,1784,1791,1805,1827,1841,1842,1851,1861,1885,1894,1921,1926,1928,1938,1951,1961,1963,1966,1967,1986,1995,1999,2003,2007,2010,2014,2030,2033,2055,2057,2060,2068,2069,2071,2086,2104,2110,2115,2120,2122,2126,2128,2134,2136,2139,2145,2151,2153,2158,2159,2166,2172,2174,2201,2207,2237,2242,2245,2248,2252,2265,2267,2272,2280,2289,2297,2300,2301,2305,2311,2315,2323,2327,2328,2329,2330,2333,2334,2340,2346,2360,2363,2373,2374,2375,2379,2380,2388,2389,2406,2407,2411,2422,2431,2432,2436,2438,2441,2447,2451,2453,2454,2455,2459,2460,2461,2468,2476,2478,2479,2486,2487,2490,2495,2499,2500,2507,2508,2509,2511,2515,2517,2522,2526,2531,2533,2543,2550,2552,2554,2570,2584,2590,2594,2596,2603,2604,2605,2611,2612,2614,2616,2621,2622,2623,2625,2626,2627,2658,2662,2666,2672,2674,2678,2680,2686,2687,2692,2693,2698,2700,2701,2705,2706,2708,2709,2717,2719,2723,2724,2728,2731,2733,2739,2742,2746,2747,2748,2752,2754,2759,2763,2772,2774,2776,2777,2778,2792,2793,2800,2803,2804,2805,2806,2811,2812,2814,2818,2824,2825,2828,2829,2833,2834,2838,2840,2842,2843,2845,2846,2848,2852,2853,2854,2856,2857,2859,2860,2862,2863,2865,2866,2870,2872,2875,2876,2880,2881,2888,2889,2890,2896,2897,2899,2900,2902,2904,2905,2914,2922,2925,2926,2928,2930,2934,2939,2942,2943,2944,2947,2952,2954,2955,2958,2961,2967,2970,2974,2976,2978,2981,2985,2986,2988,2990,2994,2995,2999,3001,3002,3003,3004,3010,3013,3015,3017,3019,3020,3023,3024,3025,3027,3029,3030,3032,3034,3042,3043,3046,3048,3053,3056,3060,3063,3064,3065,3066,3068,3069,3070,3073,3079,3086,3088,3094,3096,3100,3102,3103,3104,3105,3107,3108,3114,3115,3116,3119,3124,3125,3128,3131,3132,3134,3142,3143,3147,3149,3150,3152,3157,3158,3160,3163,3165,3166,3167,3169,3175,3179,3184,3186,3187,3190,3192,3197,3198,3202,3204,3205,3207,3208,3209,3212,3213,3217,3218,3220,3221,3225,3226,3227,3232,3233,3239,3240,3242,3244,3246,3248,3253,3254,3255,3260,3263,3266,3268,3271,3272,3275,3288,3294,3296,3297,3298,3300,3303,3306,3310,3313,3316,3317,3318,3319,3321,3324,3331,3333,3334,3335,3336,3337,3342,3348,3349,3352,3356,3358,3359,3360,3363,3366,3367,3368,3370,3375,3379,3385,3386,3388,3389,3391,3394,3396,3402,3403,3406,3413,3416,3417,3422,3423,3431,3434,3441,3442,3443,3445,3452,3453,3455,3456,3457,3458,3459,3462,3466,3474,3475,3479,3480,3483,3488,3490,3508,3509,3517,3522,3525,3527,3528,3532,3534,3537,3540,3544,3548,3557,3565,3566,3567,3570,3573,3576,3578,3582,3584,3585,3587,3591,3598,3600,3604,3605,3609,3610,3614,3616,3619,3621,3622,3624,3632,3633,3637,3647,3653,3654,3660,3661,3662,3671,3677,3690,3698,3701,3715,3724,3728,3730,3731,3733,3735,3736,3737,3738,3743,3744,3748,3754,3758,3762,3763,3766,3773,3776,3780,3787,3791,3794,3809,3816,3817,3821,3824,3826,3827,3833,3834,3836,3841,3842,3845,3849,3857,3858,3863,3864,3872,3877,3880,3883,3886,3890,3891,3894,3900,3908,3910,3917,3918,3923,3929,3931,3936,3946,3948,3951,3954,3956,3958,3959,3968,3971,3974,3977,3978,3989,3996,3997,4000,4002,4008,4011,4012,4017,4019,4023,4025,4027,4033,4034,4043,4045,4046,4053,4057,4062,4073,4077,4086,4090,4091,4101,4108,4110,4112,4122,4126,4127,4131,4133,4134,4138,4140,4148,4150,4165,4166,4175,4177,4181,4187,4192,4204,4208,4220,4222,4233,4234,4235,4236,4237,4252,4254,4256,4258,4259,4265,4268,4270,4279,4284,4286,4288,4295,4296,4299,4302,4304,4307,4309,4310,4317,4318,4319,4326,4327,4344,4353,4357,4364,4371,4372,4375,4379,4385,4388,4396,4399,4401,4409,4415,4419,4421,4438,4442,4445,4446,4451,4459,4462,4464,4467,4474,4483,4487,4515,4522,4523,4525,4539,4541,4548,4553,4571,4579,4583,4587,4588,4589,4602,4603,4607,4615,4617,4624,4625,4626,4633,4637,4638,4639,4652,4653,4662,4666,4668,4676,4677,4684,4685,4689,4690,4692,4693,4697,4711,4721,4725,4728,4733,4737,4749,4753,4755,4757,4760,4762,4767,4768,4769,4783,4784,4788,4794,4809,4814,4815,4816,4830,4841,4846,4850,4851,4857,4858,4866,4871,4873,4877,4884,4887,4897,4899,4902,4907,4913,4924,4926,4927,4932,4941,4946,4948,4950,4954,4955,4967,4976,4978,4985,4997,4998,5008,5010,5015,5029,5033,5044,5059,5061,5067,5078,5085,5086,5087,5111,5113,5118,5120,5124,5127,5132,5138,5148,5149,5152,5155,5160,5170,5176,5178,5180,5181,5182,5186,5191,5195,5201,5202,5203,5215,5226,5227,5231,5235,5242,5244,5252,5261,5266,5270,5274,5277,5284,5288,5289,5290,5294,5295,5299,5304,5305,5313,5322,5323,5326,5329,5346,5351,5357,5365,5370,5372,5379,5380,5384,5394,5395,5407,5411,5413,5415,5417,5426,5428,5430,5434,5437,5445,5446,5451,5452,5455,5457,5460,5465,5467,5474,5479,5483,5484,5486,5488,5489,5499,5516,5518,5522,5524,5525,5532,5533,5536,5539,5551,5553,5560,5565,5571,5579,5582,5589,5591,5606,5607,5608,5610,5611,5614,5619,5620,5626,5631,5636,5638,5641,5642,5644,5649,5652,5653,5654,5658,5668,5676,5677,5680,5686,5688,5689,5693,5695,5697,5700,5703,5706,5709,5710,5711,5712,5714,5716,5723,5727,5728,5731,5732,5734,5736,5738,5747,5752,5753,5754,5757,5758,5760,5766,5769,5776,5778,5779,5784,5785,5787,5790,5794,5795,5798,5804,5809,5811,5812,5814,5815,5817,5823,5826,5828,5833,5834,5845,5849,5851,5854,5855,5859,5860,5861,5862,5863,5866,5869,5870,5877,5878,5879,5883,5887,5888,5889,5890,5892,5893,5901,5907,5909,5913,5915,5922,5923,5937,5938,5939,5941,5942,5949,5954,5957,5958,5963,5965,5970,5974,5976,5980,5981,5984,5985,5986,5987,5988,5989,5991,5993,5994,5995,5997,5999,6001,6008,6014,6017,6019,6021,6023,6025,6026,6028,6029,6032,6033,6035,6038,6039,6047,6049,6056,6061,6063,6069,6074,6080,6081,6083,6084,6087,6090,6091,6095,6098,6100,6101,6103,6105,6107,6112,6116,6133,6136,6138,6140,6141,6143,6149,6153,6156,6160,6161,6162,6164,6165,6166,6168,6175,6176,6178,6179,6180,6182,6183,6184,6186,6187,6188,6191,6192,6194,6200,6202,6203,6207,6216,6217,6219,6220,6222,6224,6228,6229,6230,6233,6240,6244,6246,6249,6250,6255,6256,6257,6258,6263,6268,6271,6273,6276,6278,6279,6280,6283,6284,6287,6290,6292,6293,6294,6295,6297,6298,6299,6304,6305,6307,6314,6319,6320,6321,6323,6324,6325,6328,6332,6333,6337,6338,6339,6342,6346,6350,6353,6356,6363,6366,6367,6368,6369,6372,6376,6382,6383,6386,6389,6394,6395,6399,6400,6402,6404,6405,6408,6411,6412,6414,6415,6426,6427,6429,6431,6434,6435,6436,6442,6443,6449,6454,6455,6456,6459,6462,6469,6470,6471,6472,6473,6479,6494,6499,6500,6501,6502,6503,6504,6506,6507,6510,6512,6513,6514,6515,6517,6522,6526,6530,6532,6533,6541,6545,6547,6549,6551,6552,6553,6554,6555,6558,6561,6571,6573,6575,6577,6580,6582,6585,6588,6591,6592,6597,6599,6600,6601,6604,6608,6615,6618,6620,6623,6626,6628,6631,6633,6639,6640,6649,6651,6658,6663,6664,6665,6670,6677,6678,6680,6682,6691,6693,6701,6702,6705,6707,6713,6715,6718,6720,6721,6724,6726,6728,6729,6730,6731,6732,6734,6737,6738,6740,6741,6742,6744,6747,6753,6756,6760,6766,6770,6771,6773,6774,6775,6777,6779,6786,6790,6791,6792,6798,6808,6819,6825,6826,6828,6833,6834,6835,6844,6845,6846,6857,6859,6860,6866,6868,6877,6882,6885,6888,6889,6894,6898,6899,6900,6903,6907,6908,6910,6912,6917,6918,6920,6921,6928,6933,6934,6939,6945,6948,6951,6958,6959,6964,6965,6966,6968,6971,6972,6975,6983,6985,6986,6987,6988,6991,6994,6998,7003,7006,7015,7018,7022,7029,7039,7047,7051,7052,7057,7059,7063,7074,7079,7087,7088,7093,7097,7098,7100,7104,7107,7112,7115,7125,7127,7128,7130,7134,7137,7142,7144,7145,7148,7151,7155,7162,7163,7164,7165,7166,7168,7173,7175,7186,7194,7198,7201,7210,7211,7212,7213,7222,7223,7228,7232,7238,7240,7246,7249,7251,7254,7262,7271,7273,7275,7281,7285,7288,7294,7303,7304,7307,7321,7323,7327,7338,7340,7346,7352,7355,7367,7375,7378,7381,7383,7386,7390,7392,7393,7394,7395,7399,7402,7403,7404,7409,7414,7420,7422,7443,7445,7450,7462,7467,7468,7473,7476,7481,7495,7497,7505,7506,7510,7520,7522,7537,7540,7557,7572,7576,7582,7583,7594,7596,7603,7604,7618,7621,7622,7624,7631,7634,7642,7647,7654,7655,7657,7663,7675,7684,7687,7708,7711,7737,7746,7750,7757,7760,7768,7773,7779,7781,7782,7784,7787,7791,7792,7801,7804,7805,7806,7807,7810,7825,7830,7832,7839,7841,7849,7850,7857,7872,7873,7877,7883,7893,7894,7896,7919,7920,7927,7934,7947,7949,7963,7964,7971,7981,7984,7985,7992,7998,8000,8001,8005,8010,8011,8013,8028,8029,8030,8036,8039,8042,8058,8062,8080,8081,8097,8104,8106,8108,8110,8111,8114,8119,8129,8134,8135,8137,8141,8147,8160,8162,8163,8172,8174,8175,8193,8200,8201,8204,8208,8216,8217,8220,8224,8225,8234,8240,8241,8247,8253,8261,8265,8268,8277,8289,8291,8300,8302,8305,8307,8308,8312,8313,8316,8320,8338,8342,8344,8357,8361,8366,8367,8369,8370,8380,8388,8402,8406,8408,8416,8430,8453,8457,8462,8463,8465,8473,8477,8491,8500,8505,8511,8514,8516,8519,8523,8525,8527,8528,8529,8530,8534,8540,8545,8552,8564,8565,8568,8569,8578,8600,8601,8607,8614,8621,8625,8627,8629,8634,8642,8646,8650,8661,8662,8671,8679,8689,8695,8697,8717,8734,8741,8746,8759,8766,8777,8778,8782,8786,8788,8793,8794,8795,8805,8810,8815,8816,8822,8823,8836,8841,8852,8853,8855,8861,8876,8877,8881,8883,8884,8906,8917,8918,8920,8925,8938,8939,8940,8943,8952,8956,8962,8967,8970,8977,8979,8992,8996,9003,9009,9010,9011,9017,9021,9030,9032,9033,9034,9037,9041,9045,9048,9053,9054,9063,9065,9076,9082,9084,9088,9093,9113,9116,9118,9122,9126,9134,9135,9140,9148,9152,9156,9161,9162,9165,9187,9193,9196,9214,9215,9229,9231,9235,9237,9239,9251,9255,9260,9266,9280,9289,9294,9299,9303,9314,9317,9322,9326,9329,9333,9334,9336,9342,9383,9387,9388,9390,9393,9404,9407,9408,9409,9418,9420,9427,9431,9432,9435,9437,9441,9443,9444,9448,9451,9452,9465,9466,9477,9478,9479,9481,9511,9517,9518,9520,9523,9524,9530,9534,9535,9543,9545,9549,9553,9555,9560,9562,9567,9569,9573,9577,9578,9581,9584,9604,9605,9613,9614,9618,9619,9624,9629,9636,9641,9642,9644,9654,9658,9660,9662,9669,9672,9674,9677,9681,9682,9686,9697,9699,9701,9702,9703,9705,9709,9715,9717,9731,9737,9739,9743,9745,9758,9760,9763,9765,9766,9771,9772,9777,9779,9781,9783,9789,9792,9798,9804,9807,9808,9809,9812,9819,9820,9829,9831,9843,9864,9865,9876,9879,9887,9888,9894,9900,9913,9919,9923,9944,9945,9946,9949,9950,9951,9955,9957,9962,9979,9980,9986,9988,9994,9998,10009,10015,10021,10030,10034,10042,10059,10060,10062,10069,10076,10078,10102,10105,10114,10117,10130,10134,10147,10149,10154,10155,10157,10163,10168,10169,10178,10188,10205,10208,10217,10230,10235,10237,10241,10242,10244,10258,10263,10275,10276,10280,10281,10283,10284,10286,10288,10294,10315,10324,10327,10336,10346,10352,10355,10357,10360,10365,10370,10379,10382,10388,10390,10403,10404,10405,10407,10414,10418,10423,10428,10434,10442,10444,10447,10449,10456,10458,10461,10469,10475,10483,10484,10487,10489,10494,10496,10504,10507,10520,10531,10539,10550,10558,10559,10560,10564,10570,10571,10572,10587,10591,10602,10606,10610,10613,10617,10638,10645,10649,10650,10652,10662,10670,10676,10677,10679,10692,10695,10699,10709,10720,10729,10735,10736,10742,10744,10747,10749,10754,10757,10760,10762,10768,10769,10771,10780,10781,10782,10791,10793,10801,10802,10806,10822,10828,10831,10847,10850,10865,10877,10879,10884,10896,10899,10903,10904,10907,10908,10909,10914,10920,10922,10923,10929,10935,10963,10964,10979,10980,10982,10988,10989,10993,10998,11000,11006,11008,11011,11014,11027,11031,11036,11040,11042,11047,11048,11056,11058,11061,11062,11063,11069,11073,11079,11085,11091,11094,11100,11108,11118,11119,11121,11122,11130,11132,11134,11139,11148,11150,11153,11158,11168,11175,11177,11182,11183,11184,11189,11203,11210,11211,11214,11221,11223,11229,11240,11250,11252,11253,11270,11276,11283,11291,11301,11316,11320,11322,11329,11335,11341,11342,11358,11361,11369,11393,11405,11409,11410,11411,11412,11414,11417,11418,11424,11426,11432,11457,11461,11471,11478,11482,11491,11495,11498,11500,11506,11507,11514,11515,11516,11518,11525,11531,11535,11540,11548,11550,11555,11560,11565,11567,11568,11572,11574,11581,11585,11591,11599,11601,11606,11612,11614,11619,11621,11631,11637,11638,11652,11655,11666,11675,11678,11680,11683,11686,11701,11706,11709,11718,11722,11730,11733,11743,11748,11749,11751,11761,11770,11771,11772,11776,11781,11814,11816,11818,11825,11830,11832,11836,11846,11848,11854,11859,11867,11870,11874,11887,11900,11902,11904,11908,11919,11928,11932,11940,11943,11948,11951,11955,11966,11972,11973,11975,11984,11986,11990,11991,11996,11997,12000,12029,12039,12046,12047,12049,12054,12063,12067,12069,12076,12078,12081,12083,12085,12088,12095,12096,12097,12098,12105,12111,12119,12130,12142,12145,12157,12160,12163,12175,12178,12184,12187,12201,12214,12221,12222,12224,12236,12253,12263,12272,12286,12299,12308,12313,12339,12340,12343,12344,12363,12366,12384,12397,12401,12417,12433,12439,12442,12473,12479,12493,12495,12497,12498,12502,12509,12516,12526,12531,12534,12542,12548,12558,12562,12564,12582,12599,12600,12602,12609,12626,12627,12634,12636,12648,12670,12673,12679,12686,12695,12697,12700,12703,12708,12711,12713,12715,12723,12736,12737,12739,12741,12742,12743,12756,12764,12772,12773,12774,12786,12802,12810,12815,12825,12829,12834,12835,12844,12855,12859,12867,12870,12874,12881,12885,12901,12902,12910,12914,12925,12935,12943,12952,12973,12974,12981,13010,13021,13025,13032,13035,13055,13058,13086,13087,13101,13105,13106,13113,13118,13119,13128,13141,13159,13166,13172,13175,13176,13184,13189,13193,13194,13198,13219,13227,13228,13230,13231,13235,13249,13254,13263,13315,13317,13326,13333,13342,13344,13346,13358,13367,13387,13396,13397,13412,13413,13423,13428,13429,13438,13446,13461,13470,13474,13476,13486,13499,13503,13507,13508,13517,13531,13552,13561,13562,13572,13578,13583,13598,13602,13604,13628,13629,13637,13653,13662,13663,13668,13670,13683,13691,13697,13699,13714,13718,13720,13732,13735,13736,13737,13738,13739,13755,13767,13773,13777,13789,13813,13820,13826,13830,13840,13845,13849,13853,13858,13867,13882,13892,13896,13908,13910,13911,13924,13925,13932,13941,13945,13956,13974,13981,14017,14025,14030,14032,14037,14045,14047,14053,14057,14063,14074,14082,14094,14103,14107,14117,14125,14127,14153,14161,14166,14184,14185,14186,14187,14189,14195,14200,14204,14230,14241,14250,14261,14270,14273,14282,14287,14290,14291,14292,14293,14295,14305,14344,14359,14366,14368,14370,14376,14397,14401,14405,14407,14411,14412,14426,14438,14448,14457,14461,14465,14474,14505,14507,14515,14516,14518,14522,14532,14534,14536,14538,14544,14563,14576,14577,14606,14622,14624,14652,14653,14655,14656,14667,14678,14681,14685,14693,14702,14709,14711,14717,14768,14769,14774,14775,14778,14779,14787,14794,14801,14803,14806,14820,14826,14832,14839,14843,14848,14855,14856,14860,14867,14880,14883,14886,14901,14925,14940,14950,14975,14981,14982,14984,15008,15012,15014,15023,15036,15098,15099,15107,15109,15111,15117,15123,15139,15167,15173,15183,15184,15203,15208,15212,15241,15258,15267,15275,15277,15289,15290,15302,15309,15310,15320,15329,15330,15346,15350,15363,15364,15373,15380,15383,15417,15427,15434,15453,15482,15503,15512,15521,15522,15529,15532,15537,15539,15542,15545,15553,15555,15572,15574,15575,15595,15615,15630,15643,15652,15657,15662,15675,15707,15710,15717,15719,15721,15726,15755,15770,15785,15797,15805,15814,15823,15827,15828,15831,15837,15844,15857,15858,15863,15868,15891,15907,15908,15921,15927,15946,15983,15986,15991,16003,16022,16031,16033,16036,16044,16066,16111,16113,16115,16145,16153,16158,16160,16167,16180,16184,16188,16194,16219,16225,16227,16230,16245,16246,16257,16264,16267,16268,16275,16278,16284,16287,16288,16297,16313,16318,16340,16345,16362,16372,16375,16382,16383,16389,16394,16395,16410,16414,16424,16457,16486,16516,16543,16549,16564,16591,16595,16609,16614,16620,16624,16632,16633,16634,16638,16640,16646,16647,16655,16661,16665,16672,16685,16687,16708,16709,16710,16728,16737,16745,16756,16762,16776,16787,16794,16803,16809,16862,16878,16880,16884,16892,16894,16913,16920,16925,16967,16973,16980,16984,16991,16998,17006,17015,17026,17029,17032,17034,17037,17049,17056,17072,17087,17120,17123,17155,17161,17165,17170,17186,17195,17197,17200,17203,17234,17238,17251,17267,17269,17293,17302,17326,17327,17364,17398,17404,17414,17429,17461,17463,17465,17470,17475,17487,17490,17492,17505,17532,17552,17562,17593,17601,17603,17619,17621,17624,17635,17638,17644,17651,17663,17664,17671,17689,17691,17695,17716,17749,17767,17815,17819,17840,17846,17899,17922,17934,17941,17944,17946,17954,17962,17969,18002,18003,18036,18040,18048,18071,18072,18089,18095,18099,18120,18127,18143,18158,18163,18165,18166,18175,18211,18221,18237,18275,18276,18278,18291,18303,18309,18328,18340,18343,18356,18361,18362,18372,18380,18415,18425,18427,18438,18442,18449,18456,18459,18483,18503,18513,18563,18567,18568,18577,18593,18596,18597,18641,18647,18663,18670,18672,18674,18676,18690,18692,18703,18706,18711,18712,18738,18739,18759,18762,18765,18787,18803,18804,18808,18809,18826,18828,18830,18836,18840,18843,18849,18851,18867,18869,18882,18891,18892,18902,18934,18976,18992,19005,19020,19024,19041,19062,19068,19077,19080,19102,19120,19123,19149,19152,19168,19186,19191,19206,19220,19241,19259,19272,19274,19279,19283,19287,19299,19320,19332,19433,19444,19449,19466,19473,19478,19483,19485,19495,19496,19532,19557,19558,19580,19595,19609,19610,19628,19637,19653,19667,19674,19683,19697,19699,19702,19739,19742,19762,19769,19788,19814,19835,19852,19857,19869,19917,19937,19948,19950,19955,19956,19957,20001,20002,20013,20028,20096,20110,20134,20150,20152,20165,20173,20219,20235,20242,20245,20263,20265,20274,20300,20306,20328,20330,20357,20373,20385,20388,20389,20390,20391,20394,20405,20416,20418,20421,20423,20449,20453,20466,20474,20485,20496,20503,20508,20509,20545,20558,20575,20592,20600,20611,20643,20662,20683,20689,20697,20698,20702,20707,20737,20757,20758,20774,20778,20804,20815,20823,20831,20859,20872,20905,20908,20914,20923,20924,20937,20945,20956,20968,20997,21044,21045,21047,21051,21056,21094,21109,21118,21119,21126,21128,21133,21141,21157,21159,21184,21201,21208,21245,21252,21253,21257,21258,21275,21330,21331,21333,21343,21357,21402,21419,21438,21455,21501,21503,21522,21523,21536,21578,21585,21604,21614,21637,21660,21679,21695,21749,21763,21772,21795,21805,21835,21853,21861,21868,21874,21892,21897,21908,21916,21929,21948,21952,21962,21971,21973,21987,21993,21998,21999,22014,22026,22036,22046,22059,22066,22087,22090,22093,22109,22148,22153,22179,22187,22200,22206,22235,22283,22297,22330,22368,22371,22407,22413,22433,22435,22448,22467,22481,22484,22490,22491,22493,22508,22514,22590,22597,22607,22614,22628,22636,22661,22670,22681,22688,22790,22813,22828,22850,22860,22862,22864,22866,22874,22911,22929,22937,22938,22961,22992,22996,23017,23026,23050,23065,23069,23070,23080,23089,23107,23115,23118,23135,23144,23147,23174,23190,23202,23231,23248,23288,23310,23317,23333,23348,23374,23395,23444,23446,23454,23464,23496,23499,23505,23521,23539,23568,23570,23589,23590,23609,23656,23685,23713,23714,23724,23759,23776,23820,23873,23979,23980,24016,24021,24066,24115,24120,24125,24156,24164,24170,24196,24239,24296,24299,24301,24319,24346,24348,24368,24384,24424,24432,24457,24473,24486,24497,24499,24529,24531,24532,24577,24601,24607,24620,24624,24643,24651,24671,24701,24733,24745,24750,24752,24850,24873,24901,25001,25002,25005,25010,25018,25054,25096,25164,25194,25235,25238,25299,25321,25373,25376,25392,25406,25409,25458,25479,25491,25518,25519,25547,25555,25561,25577,25581,25586,25592,25602,25628,25651,25674,25684,25708,25760,25783,25794,25806,25843,25895,25912,25981,25992,26014,26039,26140,26157,26187,26195,26210,26222,26230,26243,26250,26274,26315,26361,26385,26397,26404,26440,26489,26501,26511,26515,26533,26550,26560,26615,26624,26652,26773,26780,26793,26800,26819,26826,26841,26883,26897,26932,26964,26996,27006,27016,27032,27042,27058,27069,27117,27123,27154,27218,27230,27328,27330,27366,27384,27392,27397,27419,27438,27508,27517,27538,27628,27670,27744,27751,27779,27893,27904,27931,27971,27972,28004,28014,28026,28037,28067,28157,28218,28230,28254,28292,28307,28372,28382,28393,28435,28447,28478,28485,28583,28599,28631,28669,28684,28701,28704,28707,28763,28797,28808,28815,28835,28846,28848,28855,28861,28913,28914,28940,28941,28981,28993,28999,29018,29054,29117,29136,29148,29168,29191,29261,29290,29299,29340,29350,29399,29404,29414,29429,29463,29514,29537,29547,29553,29598,29604,29644,29676,29697,29711,29769,29833,29838,29988,29990,29997,30195,30222,30232,30237,30252,30284,30293,30330,30332,30477,30507,30532,30578,30614,30627,30628,30636,30680,30764,30786,30823,30870,30970,30975,30980,30993,31051,31090,31164,31175,31211,31327,31349,31360,31401,31435,31460,31504,31532,31558,31630,31643,31671,31730,31763,31771,31911,31970,31991,31992,32186,32240,32269,32379,32386,32406,32550,32554,32627,32656,32708,32780,32811,32830,32884,32899,32911,32945,32953,32959,32995,33008,33077,33217,33227,33244,33320,33346,33349,33413,33500,33503,33508,33513,33523,33599,33813,33820,33846,33848,33865,33893,33926,33946,33952,33984,34103,34121,34123,34260,34343,34404,34421,34430,34598,34603,34650,34653,34658,34711,34739,34758,35056,35094,35124,35136,35156,35197,35206,35230,35232,35298,35322,35371,35387,35412,35471,35488,35495,35630,35644,35699,35814,35990,36008,36020,36052,36064,36087,36180,36211,36234,36374,36395,36414,36457,36467,36489,36582,36598,36611,36630,36823,36961,36994,37008,37023,37078,37079,37165,37313,37321,37366,37447,37550,37585,37593,37623,37656,37890,37899,37919,37934,38022,38049,38092,38198,38266,38353,38381,38430,38524,38592,38627,38730,38743,38856,38965,38984,39009,39064,39190,39194,39240,39345,39347,39369,39424,39477,39497,39515,39555,39583,39645,39684,39701,39705,39758,39794,39891,39929,40012,40127,40158,40203,40408,40465,40517,40614,40625,40628,40736,40833,40897,40955,41077,41120,41200,41379,41450,41622,41730,41774,41828,41835,41925,41928,41961,42247,42269,42307,42361,42505,42549,42683,42763,42771,42781,42787,42802,42934,43092,43203,43218,43319,43370,43586,43724,43754,43779,43864,43943,43949,44056,44193,44226,44235,44245,44335,44400,44575,44771,44860,44893,45050,45377,45405,45486,45538,45612,45618,45726,45785,45932,45954,45963,46052,46403,46566,46703,46727,47063,47142,47147,47154,47270,47374,47385,47581,47583,47639,47846,47871,47967,48100,48175,48220,48412,48530,48536,48590,48614,48731,48767,48802,48843,48945,48978,49064,49073,49084,49093,49135,49188,49222,49271,49324,49638,49920,49998,50133,50156,50232,50267,50381,50416,50457,50641,50794,50864,51105,51368,51446,51461,51631,51740,51748,51750,51776,51971,51994,52036,52195,52252,52253,52273,52535,52541,52628,52719,52946,52972,53032,53503,53831,53856,53964,54077,54146,54331,54724,54919,54986,55164,55222,55259,55461,55663,55791,55804,55837,55988,56056,56071,56216,56412,56479,56639,56758,56777,56856,57029,57224,57556,57904,58053,58290,58444,58551,58563,58691,58816,58869,59121,59503,59633,59779,59836,59849,59904,60139,60183,60365,60502,60639,60713,60787,60859,61236,61264,61834,62273,62349,62445,62739,62753,63089,63317,63432,63948,64248,64651,64660,64869,65217,65261,65371,66139,66482,66949,67713,67777,67797,67889,68127,68254,68637,69290,69800,70304,71285,71309,71395,71496,71690,71789,71928,71969,72850,73407,73503,73529,73699,74443,75360,75818,76090,76421,76656,77041,77105,77957,78452,78547,79622,80480,80593,81255,81296,81461,81534,81731,81854,82080,82243,82548,82592,82892,83655,83987,84813,86052,86053,86159,86324,87870,87929,88870,88988,89097,89971,91243,91620,91772,92382,92810,93290,93743,94432,94577,95250,95334,95661,96065,97017,97197,97207,97360,97448,97629,97858,98230,98528,98602,99491,99552,99694,99868,100582,100875,101108,101922,102719,102720,102970,103539,103578,103741,104692,104885,105078,105199,105242,105372,105523,106223,106394,106691,107108,107513,107691,107763,108948,109083,109471,109818,111075,111318,111439,112858,113080,113176,115616,115950,117228,117416,119117,119738,121164,121313,121733,123577,123879,124055,124368,125469,125792,128082,129180,132383,133490,135666,136096,137971,138752,139473,141349,141586,141856,142235,142363,144188,144523,145315,146055,148334,148628,149133,149476,150005,152334,154298,154766,156371,157160,158363,159517,160584,161044,165412,165821,166157,166338,167141,167376,171557,174445,177984,181056,181361,184600,186305,186811,189465,194856,199961,200277,200621,202856,203921,212730,214906,217347,220879,220938,222162,222902,225708,228629,234170,237472,242613,246614,251386,259334,260055,270479,275710,278767,280494,282064,282346,292009,294276,295285,296881,298145,310287,315549,325618,340491,344935,364241,377920,385791,386321,387100,389687,397845,412299,422704,451242,453864,458225,488705,495298,496695,552866,553099,553848,578628,602329,611842,622926,634889,649024,688533,736313,766034,777262,832526,839829,882685,928255,991156,1076419,1133392,1137332,1190636,1256831,1333283,1335401,1375497,1429713,1472087,1736347,1783053,1790523,1903152,2063545,2282953,2413187,2469597,3357847,3682404,4159664,10220999,24414267],\"right\":[100,694,824,852,887,934,1001,1004,1022,1056,1067,1187,1253,1272,1294,1318,1400,1411,1453,1495,1504,1523,1538,1575,1622,1673,1683,1689,1698,1722,1732,1811,1865,1901,1906,1914,1933,1940,1951,1952,1984,1991,2005,2027,2041,2042,2051,2061,2085,2094,2121,2126,2128,2138,2151,2161,2163,2166,2167,2186,2195,2199,2203,2207,2210,2214,2230,2233,2255,2257,2260,2268,2269,2271,2286,2304,2310,2315,2320,2322,2326,2328,2334,2336,2339,2345,2351,2353,2358,2359,2366,2372,2374,2401,2407,2437,2442,2445,2448,2452,2465,2467,2472,2480,2489,2497,2500,2501,2505,2511,2515,2523,2527,2528,2529,2530,2533,2534,2540,2546,2560,2563,2573,2574,2575,2579,2580,2588,2589,2606,2607,2611,2622,2631,2632,2636,2638,2641,2647,2651,2653,2654,2655,2659,2660,2661,2668,2676,2678,2679,2686,2687,2690,2695,2699,2700,2707,2708,2709,2711,2715,2717,2722,2726,2731,2733,2743,2750,2752,2754,2770,2784,2790,2794,2796,2803,2804,2805,2811,2812,2814,2816,2821,2822,2823,2825,2826,2827,2858,2862,2866,2872,2874,2878,2880,2886,2887,2892,2893,2898,2900,2901,2905,2906,2908,2909,2917,2919,2923,2924,2928,2931,2933,2939,2942,2946,2947,2948,2952,2954,2959,2963,2972,2974,2976,2977,2978,2992,2993,3000,3003,3004,3005,3006,3011,3012,3014,3018,3024,3025,3028,3029,3033,3034,3038,3040,3042,3043,3045,3046,3048,3052,3053,3054,3056,3057,3059,3060,3062,3063,3065,3066,3070,3072,3075,3076,3080,3081,3088,3089,3090,3096,3097,3099,3100,3102,3104,3105,3114,3122,3125,3126,3128,3130,3134,3139,3142,3143,3144,3147,3152,3154,3155,3158,3161,3167,3170,3174,3176,3178,3181,3185,3186,3188,3190,3194,3195,3199,3201,3202,3203,3204,3210,3213,3215,3217,3219,3220,3223,3224,3225,3227,3229,3230,3232,3234,3242,3243,3246,3248,3253,3256,3260,3263,3264,3265,3266,3268,3269,3270,3273,3279,3286,3288,3294,3296,3300,3302,3303,3304,3305,3307,3308,3314,3315,3316,3319,3324,3325,3328,3331,3332,3334,3342,3343,3347,3349,3350,3352,3357,3358,3360,3363,3365,3366,3367,3369,3375,3379,3384,3386,3387,3390,3392,3397,3398,3402,3404,3405,3407,3408,3409,3412,3413,3417,3418,3420,3421,3425,3426,3427,3432,3433,3439,3440,3442,3444,3446,3448,3453,3454,3455,3460,3463,3466,3468,3471,3472,3475,3488,3494,3496,3497,3498,3500,3503,3506,3510,3513,3516,3517,3518,3519,3521,3524,3531,3533,3534,3535,3536,3537,3542,3548,3549,3552,3556,3558,3559,3560,3563,3566,3567,3568,3570,3575,3579,3585,3586,3588,3589,3591,3594,3596,3602,3603,3606,3613,3616,3617,3622,3623,3631,3634,3641,3642,3643,3645,3652,3653,3655,3656,3657,3658,3659,3662,3666,3674,3675,3679,3680,3683,3688,3690,3708,3709,3717,3722,3725,3727,3728,3732,3734,3737,3740,3744,3748,3757,3765,3766,3767,3770,3773,3776,3778,3782,3784,3785,3787,3791,3798,3800,3804,3805,3809,3810,3814,3816,3819,3821,3822,3824,3832,3833,3837,3847,3853,3854,3860,3861,3862,3871,3877,3890,3898,3901,3915,3924,3928,3930,3931,3933,3935,3936,3937,3938,3943,3944,3948,3954,3958,3962,3963,3966,3973,3976,3980,3987,3991,3994,4009,4016,4017,4021,4024,4026,4027,4033,4034,4036,4041,4042,4045,4049,4057,4058,4063,4064,4072,4077,4080,4083,4086,4090,4091,4094,4100,4108,4110,4117,4118,4123,4129,4131,4136,4146,4148,4151,4154,4156,4158,4159,4168,4171,4174,4177,4178,4189,4196,4197,4200,4202,4208,4211,4212,4217,4219,4223,4225,4227,4233,4234,4243,4245,4246,4253,4257,4262,4273,4277,4286,4290,4291,4301,4308,4310,4312,4322,4326,4327,4331,4333,4334,4338,4340,4348,4350,4365,4366,4375,4377,4381,4387,4392,4404,4408,4420,4422,4433,4434,4435,4436,4437,4452,4454,4456,4458,4459,4465,4468,4470,4479,4484,4486,4488,4495,4496,4499,4502,4504,4507,4509,4510,4517,4518,4519,4526,4527,4544,4553,4557,4564,4571,4572,4575,4579,4585,4588,4596,4599,4601,4609,4615,4619,4621,4638,4642,4645,4646,4651,4659,4662,4664,4667,4674,4683,4687,4715,4722,4723,4725,4739,4741,4748,4753,4771,4779,4783,4787,4788,4789,4802,4803,4807,4815,4817,4824,4825,4826,4833,4837,4838,4839,4852,4853,4862,4866,4868,4876,4877,4884,4885,4889,4890,4892,4893,4897,4911,4921,4925,4928,4933,4937,4949,4953,4955,4957,4960,4962,4967,4968,4969,4983,4984,4988,4994,5009,5014,5015,5016,5030,5041,5046,5050,5051,5057,5058,5066,5071,5073,5077,5084,5087,5097,5099,5102,5107,5113,5124,5126,5127,5132,5141,5146,5148,5150,5154,5155,5167,5176,5178,5185,5197,5198,5208,5210,5215,5229,5233,5244,5259,5261,5267,5278,5285,5286,5287,5311,5313,5318,5320,5324,5327,5332,5338,5348,5349,5352,5355,5360,5370,5376,5378,5380,5381,5382,5386,5391,5395,5401,5402,5403,5415,5426,5427,5431,5435,5442,5444,5452,5461,5466,5470,5474,5477,5484,5488,5489,5490,5494,5495,5499,5504,5505,5513,5522,5523,5526,5529,5546,5551,5557,5565,5570,5572,5579,5580,5584,5594,5595,5607,5611,5613,5615,5617,5626,5628,5630,5634,5637,5645,5646,5651,5652,5655,5657,5660,5665,5667,5674,5679,5683,5684,5686,5688,5689,5699,5716,5718,5722,5724,5725,5732,5733,5736,5739,5751,5753,5760,5765,5771,5779,5782,5789,5791,5806,5807,5808,5810,5811,5814,5819,5820,5826,5831,5836,5838,5841,5842,5844,5849,5852,5853,5854,5858,5868,5876,5877,5880,5886,5888,5889,5893,5895,5897,5900,5903,5906,5909,5910,5911,5912,5914,5916,5923,5927,5928,5931,5932,5934,5936,5938,5947,5952,5953,5954,5957,5958,5960,5966,5969,5976,5978,5979,5984,5985,5987,5990,5994,5995,5998,6004,6009,6011,6012,6014,6015,6017,6023,6026,6028,6033,6034,6045,6049,6051,6054,6055,6059,6060,6061,6062,6063,6066,6069,6070,6077,6078,6079,6083,6087,6088,6089,6090,6092,6093,6101,6107,6109,6113,6115,6122,6123,6137,6138,6139,6141,6142,6149,6154,6157,6158,6163,6165,6170,6174,6176,6180,6181,6184,6185,6186,6187,6188,6189,6191,6193,6194,6195,6197,6199,6201,6208,6214,6217,6219,6221,6223,6225,6226,6228,6229,6232,6233,6235,6238,6239,6247,6249,6256,6261,6263,6269,6274,6280,6281,6283,6284,6287,6290,6291,6295,6298,6300,6301,6303,6305,6307,6312,6316,6333,6336,6338,6340,6341,6343,6349,6353,6356,6360,6361,6362,6364,6365,6366,6368,6375,6376,6378,6379,6380,6382,6383,6384,6386,6387,6388,6391,6392,6394,6400,6402,6403,6407,6416,6417,6419,6420,6422,6424,6428,6429,6430,6433,6440,6444,6446,6449,6450,6455,6456,6457,6458,6463,6468,6471,6473,6476,6478,6479,6480,6483,6484,6487,6490,6492,6493,6494,6495,6497,6498,6499,6504,6505,6507,6514,6519,6520,6521,6523,6524,6525,6528,6532,6533,6537,6538,6539,6542,6546,6550,6553,6556,6563,6566,6567,6568,6569,6572,6576,6582,6583,6586,6589,6594,6595,6599,6600,6602,6604,6605,6608,6611,6612,6614,6615,6626,6627,6629,6631,6634,6635,6636,6642,6643,6649,6654,6655,6656,6659,6662,6669,6670,6671,6672,6673,6679,6694,6699,6700,6701,6702,6703,6704,6706,6707,6710,6712,6713,6714,6715,6717,6722,6726,6730,6732,6733,6741,6745,6747,6749,6751,6752,6753,6754,6755,6758,6761,6771,6773,6775,6777,6780,6782,6785,6788,6791,6792,6797,6799,6800,6801,6804,6808,6815,6818,6820,6823,6826,6828,6831,6833,6839,6840,6849,6851,6858,6863,6864,6865,6870,6877,6878,6880,6882,6891,6893,6901,6902,6905,6907,6913,6915,6918,6920,6921,6924,6926,6928,6929,6930,6931,6932,6934,6937,6938,6940,6941,6942,6944,6947,6953,6956,6960,6966,6970,6971,6973,6974,6975,6977,6979,6986,6990,6991,6992,6998,7008,7019,7025,7026,7028,7033,7034,7035,7044,7045,7046,7057,7059,7060,7066,7068,7077,7082,7085,7088,7089,7094,7098,7099,7100,7103,7107,7108,7110,7112,7117,7118,7120,7121,7128,7133,7134,7139,7145,7148,7151,7158,7159,7164,7165,7166,7168,7171,7172,7175,7183,7185,7186,7187,7188,7191,7194,7198,7203,7206,7215,7218,7222,7229,7239,7247,7251,7252,7257,7259,7263,7274,7279,7287,7288,7293,7297,7298,7300,7304,7307,7312,7315,7325,7327,7328,7330,7334,7337,7342,7344,7345,7348,7351,7355,7362,7363,7364,7365,7366,7368,7373,7375,7386,7394,7398,7401,7410,7411,7412,7413,7422,7423,7428,7432,7438,7440,7446,7449,7451,7454,7462,7471,7473,7475,7481,7485,7488,7494,7503,7504,7507,7521,7523,7527,7538,7540,7546,7552,7555,7567,7575,7578,7581,7583,7586,7590,7592,7593,7594,7595,7599,7602,7603,7604,7609,7614,7620,7622,7643,7645,7650,7662,7667,7668,7673,7676,7681,7695,7697,7705,7706,7710,7720,7722,7737,7740,7757,7772,7776,7782,7783,7794,7796,7803,7804,7818,7821,7822,7824,7831,7834,7842,7847,7854,7855,7857,7863,7875,7884,7887,7908,7911,7937,7946,7950,7957,7960,7968,7973,7979,7981,7982,7984,7987,7991,7992,8001,8004,8005,8006,8007,8010,8025,8030,8032,8039,8041,8049,8050,8057,8072,8073,8077,8083,8093,8094,8096,8119,8120,8127,8134,8147,8149,8163,8164,8171,8181,8184,8185,8192,8198,8200,8201,8205,8210,8211,8213,8228,8229,8230,8236,8239,8242,8258,8262,8280,8281,8297,8304,8306,8308,8310,8311,8314,8319,8329,8334,8335,8337,8341,8347,8360,8362,8363,8372,8374,8375,8393,8400,8401,8404,8408,8416,8417,8420,8424,8425,8434,8440,8441,8447,8453,8461,8465,8468,8477,8489,8491,8500,8502,8505,8507,8508,8512,8513,8516,8520,8538,8542,8544,8557,8561,8566,8567,8569,8570,8580,8588,8602,8606,8608,8616,8630,8653,8657,8662,8663,8665,8673,8677,8691,8700,8705,8711,8714,8716,8719,8723,8725,8727,8728,8729,8730,8734,8740,8745,8752,8764,8765,8768,8769,8778,8800,8801,8807,8814,8821,8825,8827,8829,8834,8842,8846,8850,8861,8862,8871,8879,8889,8895,8897,8917,8934,8941,8946,8959,8966,8977,8978,8982,8986,8988,8993,8994,8995,9005,9010,9015,9016,9022,9023,9036,9041,9052,9053,9055,9061,9076,9077,9081,9083,9084,9106,9117,9118,9120,9125,9138,9139,9140,9143,9152,9156,9162,9167,9170,9177,9179,9192,9196,9203,9209,9210,9211,9217,9221,9230,9232,9233,9234,9237,9241,9245,9248,9253,9254,9263,9265,9276,9282,9284,9288,9293,9313,9316,9318,9322,9326,9334,9335,9340,9348,9352,9356,9361,9362,9365,9387,9393,9396,9414,9415,9429,9431,9435,9437,9439,9451,9455,9460,9466,9480,9489,9494,9499,9503,9514,9517,9522,9526,9529,9533,9534,9536,9542,9583,9587,9588,9590,9593,9604,9607,9608,9609,9618,9620,9627,9631,9632,9635,9637,9641,9643,9644,9648,9651,9652,9665,9666,9677,9678,9679,9681,9711,9717,9718,9720,9723,9724,9730,9734,9735,9743,9745,9749,9753,9755,9760,9762,9767,9769,9773,9777,9778,9781,9784,9804,9805,9813,9814,9818,9819,9824,9829,9836,9841,9842,9844,9854,9858,9860,9862,9869,9872,9874,9877,9881,9882,9886,9897,9899,9901,9902,9903,9905,9909,9915,9917,9931,9937,9939,9943,9945,9958,9960,9963,9965,9966,9971,9972,9977,9979,9981,9983,9989,9992,9998,10004,10007,10008,10009,10012,10019,10020,10029,10031,10043,10064,10065,10076,10079,10087,10088,10094,10100,10113,10119,10123,10144,10145,10146,10149,10150,10151,10155,10157,10162,10179,10180,10186,10188,10194,10198,10209,10215,10221,10230,10234,10242,10259,10260,10262,10269,10276,10278,10302,10305,10314,10317,10330,10334,10347,10349,10354,10355,10357,10363,10368,10369,10378,10388,10405,10408,10417,10430,10435,10437,10441,10442,10444,10458,10463,10475,10476,10480,10481,10483,10484,10486,10488,10494,10515,10524,10527,10536,10546,10552,10555,10557,10560,10565,10570,10579,10582,10588,10590,10603,10604,10605,10607,10614,10618,10623,10628,10634,10642,10644,10647,10649,10656,10658,10661,10669,10675,10683,10684,10687,10689,10694,10696,10704,10707,10720,10731,10739,10750,10758,10759,10760,10764,10770,10771,10772,10787,10791,10802,10806,10810,10813,10817,10838,10845,10849,10850,10852,10862,10870,10876,10877,10879,10892,10895,10899,10909,10920,10929,10935,10936,10942,10944,10947,10949,10954,10957,10960,10962,10968,10969,10971,10980,10981,10982,10991,10993,11001,11002,11006,11022,11028,11031,11047,11050,11065,11077,11079,11084,11096,11099,11103,11104,11107,11108,11109,11114,11120,11122,11123,11129,11135,11163,11164,11179,11180,11182,11188,11189,11193,11198,11200,11206,11208,11211,11214,11227,11231,11236,11240,11242,11247,11248,11256,11258,11261,11262,11263,11269,11273,11279,11285,11291,11294,11300,11308,11318,11319,11321,11322,11330,11332,11334,11339,11348,11350,11353,11358,11368,11375,11377,11382,11383,11384,11389,11403,11410,11411,11414,11421,11423,11429,11440,11450,11452,11453,11470,11476,11483,11491,11501,11516,11520,11522,11529,11535,11541,11542,11558,11561,11569,11593,11605,11609,11610,11611,11612,11614,11617,11618,11624,11626,11632,11657,11661,11671,11678,11682,11691,11695,11698,11700,11706,11707,11714,11715,11716,11718,11725,11731,11735,11740,11748,11750,11755,11760,11765,11767,11768,11772,11774,11781,11785,11791,11799,11801,11806,11812,11814,11819,11821,11831,11837,11838,11852,11855,11866,11875,11878,11880,11883,11886,11901,11906,11909,11918,11922,11930,11933,11943,11948,11949,11951,11961,11970,11971,11972,11976,11981,12014,12016,12018,12025,12030,12032,12036,12046,12048,12054,12059,12067,12070,12074,12087,12100,12102,12104,12108,12119,12128,12132,12140,12143,12148,12151,12155,12166,12172,12173,12175,12184,12186,12190,12191,12196,12197,12200,12229,12239,12246,12247,12249,12254,12263,12267,12269,12276,12278,12281,12283,12285,12288,12295,12296,12297,12298,12305,12311,12319,12330,12342,12345,12357,12360,12363,12375,12378,12384,12387,12401,12414,12421,12422,12424,12436,12453,12463,12472,12486,12499,12508,12513,12539,12540,12543,12544,12563,12566,12584,12597,12601,12617,12633,12639,12642,12673,12679,12693,12695,12697,12698,12702,12709,12716,12726,12731,12734,12742,12748,12758,12762,12764,12782,12799,12800,12802,12809,12826,12827,12834,12836,12848,12870,12873,12879,12886,12895,12897,12900,12903,12908,12911,12913,12915,12923,12936,12937,12939,12941,12942,12943,12956,12964,12972,12973,12974,12986,13002,13010,13015,13025,13029,13034,13035,13044,13055,13059,13067,13070,13074,13081,13085,13101,13102,13110,13114,13125,13135,13143,13152,13173,13174,13181,13210,13221,13225,13232,13235,13255,13258,13286,13287,13301,13305,13306,13313,13318,13319,13328,13341,13359,13366,13372,13375,13376,13384,13389,13393,13394,13398,13419,13427,13428,13430,13431,13435,13449,13454,13463,13515,13517,13526,13533,13542,13544,13546,13558,13567,13587,13596,13597,13612,13613,13623,13628,13629,13638,13646,13661,13670,13674,13676,13686,13699,13703,13707,13708,13717,13731,13752,13761,13762,13772,13778,13783,13798,13802,13804,13828,13829,13837,13853,13862,13863,13868,13870,13883,13891,13897,13899,13914,13918,13920,13932,13935,13936,13937,13938,13939,13955,13967,13973,13977,13989,14013,14020,14026,14030,14040,14045,14049,14053,14058,14067,14082,14092,14096,14108,14110,14111,14124,14125,14132,14141,14145,14156,14174,14181,14217,14225,14230,14232,14237,14245,14247,14253,14257,14263,14274,14282,14294,14303,14307,14317,14325,14327,14353,14361,14366,14384,14385,14386,14387,14389,14395,14400,14404,14430,14441,14450,14461,14470,14473,14482,14487,14490,14491,14492,14493,14495,14505,14544,14559,14566,14568,14570,14576,14597,14601,14605,14607,14611,14612,14626,14638,14648,14657,14661,14665,14674,14705,14707,14715,14716,14718,14722,14732,14734,14736,14738,14744,14763,14776,14777,14806,14822,14824,14852,14853,14855,14856,14867,14878,14881,14885,14893,14902,14909,14911,14917,14968,14969,14974,14975,14978,14979,14987,14994,15001,15003,15006,15020,15026,15032,15039,15043,15048,15055,15056,15060,15067,15080,15083,15086,15101,15125,15140,15150,15175,15181,15182,15184,15208,15212,15214,15223,15236,15298,15299,15307,15309,15311,15317,15323,15339,15367,15373,15383,15384,15403,15408,15412,15441,15458,15467,15475,15477,15489,15490,15502,15509,15510,15520,15529,15530,15546,15550,15563,15564,15573,15580,15583,15617,15627,15634,15653,15682,15703,15712,15721,15722,15729,15732,15737,15739,15742,15745,15753,15755,15772,15774,15775,15795,15815,15830,15843,15852,15857,15862,15875,15907,15910,15917,15919,15921,15926,15955,15970,15985,15997,16005,16014,16023,16027,16028,16031,16037,16044,16057,16058,16063,16068,16091,16107,16108,16121,16127,16146,16183,16186,16191,16203,16222,16231,16233,16236,16244,16266,16311,16313,16315,16345,16353,16358,16360,16367,16380,16384,16388,16394,16419,16425,16427,16430,16445,16446,16457,16464,16467,16468,16475,16478,16484,16487,16488,16497,16513,16518,16540,16545,16562,16572,16575,16582,16583,16589,16594,16595,16610,16614,16624,16657,16686,16716,16743,16749,16764,16791,16795,16809,16814,16820,16824,16832,16833,16834,16838,16840,16846,16847,16855,16861,16865,16872,16885,16887,16908,16909,16910,16928,16937,16945,16956,16962,16976,16987,16994,17003,17009,17062,17078,17080,17084,17092,17094,17113,17120,17125,17167,17173,17180,17184,17191,17198,17206,17215,17226,17229,17232,17234,17237,17249,17256,17272,17287,17320,17323,17355,17361,17365,17370,17386,17395,17397,17400,17403,17434,17438,17451,17467,17469,17493,17502,17526,17527,17564,17598,17604,17614,17629,17661,17663,17665,17670,17675,17687,17690,17692,17705,17732,17752,17762,17793,17801,17803,17819,17821,17824,17835,17838,17844,17851,17863,17864,17871,17889,17891,17895,17916,17949,17967,18015,18019,18040,18046,18099,18122,18134,18141,18144,18146,18154,18162,18169,18202,18203,18236,18240,18248,18271,18272,18289,18295,18299,18320,18327,18343,18358,18363,18365,18366,18375,18411,18421,18437,18475,18476,18478,18491,18503,18509,18528,18540,18543,18556,18561,18562,18572,18580,18615,18625,18627,18638,18642,18649,18656,18659,18683,18703,18713,18763,18767,18768,18777,18793,18796,18797,18841,18847,18863,18870,18872,18874,18876,18890,18892,18903,18906,18911,18912,18938,18939,18959,18962,18965,18987,19003,19004,19008,19009,19026,19028,19030,19036,19040,19043,19049,19051,19067,19069,19082,19091,19092,19102,19134,19176,19192,19205,19220,19224,19241,19262,19268,19277,19280,19302,19320,19323,19349,19352,19368,19386,19391,19406,19420,19441,19459,19472,19474,19479,19483,19487,19499,19520,19532,19633,19644,19649,19666,19673,19678,19683,19685,19695,19696,19732,19757,19758,19780,19795,19809,19810,19828,19837,19853,19867,19874,19883,19897,19899,19902,19939,19942,19962,19969,19988,20014,20035,20052,20057,20069,20117,20137,20148,20150,20155,20156,20157,20201,20202,20213,20228,20296,20310,20334,20350,20352,20365,20373,20419,20435,20442,20445,20463,20465,20474,20500,20506,20528,20530,20557,20573,20585,20588,20589,20590,20591,20594,20605,20616,20618,20621,20623,20649,20653,20666,20674,20685,20696,20703,20708,20709,20745,20758,20775,20792,20800,20811,20843,20862,20883,20889,20897,20898,20902,20907,20937,20957,20958,20974,20978,21004,21015,21023,21031,21059,21072,21105,21108,21114,21123,21124,21137,21145,21156,21168,21197,21244,21245,21247,21251,21256,21294,21309,21318,21319,21326,21328,21333,21341,21357,21359,21384,21401,21408,21445,21452,21453,21457,21458,21475,21530,21531,21533,21543,21557,21602,21619,21638,21655,21701,21703,21722,21723,21736,21778,21785,21804,21814,21837,21860,21879,21895,21949,21963,21972,21995,22005,22035,22053,22061,22068,22074,22092,22097,22108,22116,22129,22148,22152,22162,22171,22173,22187,22193,22198,22199,22214,22226,22236,22246,22259,22266,22287,22290,22293,22309,22348,22353,22379,22387,22400,22406,22435,22483,22497,22530,22568,22571,22607,22613,22633,22635,22648,22667,22681,22684,22690,22691,22693,22708,22714,22790,22797,22807,22814,22828,22836,22861,22870,22881,22888,22990,23013,23028,23050,23060,23062,23064,23066,23074,23111,23129,23137,23138,23161,23192,23196,23217,23226,23250,23265,23269,23270,23280,23289,23307,23315,23318,23335,23344,23347,23374,23390,23402,23431,23448,23488,23510,23517,23533,23548,23574,23595,23644,23646,23654,23664,23696,23699,23705,23721,23739,23768,23770,23789,23790,23809,23856,23885,23913,23914,23924,23959,23976,24020,24073,24179,24180,24216,24221,24266,24315,24320,24325,24356,24364,24370,24396,24439,24496,24499,24501,24519,24546,24548,24568,24584,24624,24632,24657,24673,24686,24697,24699,24729,24731,24732,24777,24801,24807,24820,24824,24843,24851,24871,24901,24933,24945,24950,24952,25050,25073,25101,25201,25202,25205,25210,25218,25254,25296,25364,25394,25435,25438,25499,25521,25573,25576,25592,25606,25609,25658,25679,25691,25718,25719,25747,25755,25761,25777,25781,25786,25792,25802,25828,25851,25874,25884,25908,25960,25983,25994,26006,26043,26095,26112,26181,26192,26214,26239,26340,26357,26387,26395,26410,26422,26430,26443,26450,26474,26515,26561,26585,26597,26604,26640,26689,26701,26711,26715,26733,26750,26760,26815,26824,26852,26973,26980,26993,27000,27019,27026,27041,27083,27097,27132,27164,27196,27206,27216,27232,27242,27258,27269,27317,27323,27354,27418,27430,27528,27530,27566,27584,27592,27597,27619,27638,27708,27717,27738,27828,27870,27944,27951,27979,28093,28104,28131,28171,28172,28204,28214,28226,28237,28267,28357,28418,28430,28454,28492,28507,28572,28582,28593,28635,28647,28678,28685,28783,28799,28831,28869,28884,28901,28904,28907,28963,28997,29008,29015,29035,29046,29048,29055,29061,29113,29114,29140,29141,29181,29193,29199,29218,29254,29317,29336,29348,29368,29391,29461,29490,29499,29540,29550,29599,29604,29614,29629,29663,29714,29737,29747,29753,29798,29804,29844,29876,29897,29911,29969,30033,30038,30188,30190,30197,30395,30422,30432,30437,30452,30484,30493,30530,30532,30677,30707,30732,30778,30814,30827,30828,30836,30880,30964,30986,31023,31070,31170,31175,31180,31193,31251,31290,31364,31375,31411,31527,31549,31560,31601,31635,31660,31704,31732,31758,31830,31843,31871,31930,31963,31971,32111,32170,32191,32192,32386,32440,32469,32579,32586,32606,32750,32754,32827,32856,32908,32980,33011,33030,33084,33099,33111,33145,33153,33159,33195,33208,33277,33417,33427,33444,33520,33546,33549,33613,33700,33703,33708,33713,33723,33799,34013,34020,34046,34048,34065,34093,34126,34146,34152,34184,34303,34321,34323,34460,34543,34604,34621,34630,34798,34803,34850,34853,34858,34911,34939,34958,35256,35294,35324,35336,35356,35397,35406,35430,35432,35498,35522,35571,35587,35612,35671,35688,35695,35830,35844,35899,36014,36190,36208,36220,36252,36264,36287,36380,36411,36434,36574,36595,36614,36657,36667,36689,36782,36798,36811,36830,37023,37161,37194,37208,37223,37278,37279,37365,37513,37521,37566,37647,37750,37785,37793,37823,37856,38090,38099,38119,38134,38222,38249,38292,38398,38466,38553,38581,38630,38724,38792,38827,38930,38943,39056,39165,39184,39209,39264,39390,39394,39440,39545,39547,39569,39624,39677,39697,39715,39755,39783,39845,39884,39901,39905,39958,39994,40091,40129,40212,40327,40358,40403,40608,40665,40717,40814,40825,40828,40936,41033,41097,41155,41277,41320,41400,41579,41650,41822,41930,41974,42028,42035,42125,42128,42161,42447,42469,42507,42561,42705,42749,42883,42963,42971,42981,42987,43002,43134,43292,43403,43418,43519,43570,43786,43924,43954,43979,44064,44143,44149,44256,44393,44426,44435,44445,44535,44600,44775,44971,45060,45093,45250,45577,45605,45686,45738,45812,45818,45926,45985,46132,46154,46163,46252,46603,46766,46903,46927,47263,47342,47347,47354,47470,47574,47585,47781,47783,47839,48046,48071,48167,48300,48375,48420,48612,48730,48736,48790,48814,48931,48967,49002,49043,49145,49178,49264,49273,49284,49293,49335,49388,49422,49471,49524,49838,50120,50198,50333,50356,50432,50467,50581,50616,50657,50841,50994,51064,51305,51568,51646,51661,51831,51940,51948,51950,51976,52171,52194,52236,52395,52452,52453,52473,52735,52741,52828,52919,53146,53172,53232,53703,54031,54056,54164,54277,54346,54531,54924,55119,55186,55364,55422,55459,55661,55863,55991,56004,56037,56188,56256,56271,56416,56612,56679,56839,56958,56977,57056,57229,57424,57756,58104,58253,58490,58644,58751,58763,58891,59016,59069,59321,59703,59833,59979,60036,60049,60104,60339,60383,60565,60702,60839,60913,60987,61059,61436,61464,62034,62473,62549,62645,62939,62953,63289,63517,63632,64148,64448,64851,64860,65069,65417,65461,65571,66339,66682,67149,67913,67977,67997,68089,68327,68454,68837,69490,70000,70504,71485,71509,71595,71696,71890,71989,72128,72169,73050,73607,73703,73729,73899,74643,75560,76018,76290,76621,76856,77241,77305,78157,78652,78747,79822,80680,80793,81455,81496,81661,81734,81931,82054,82280,82443,82748,82792,83092,83855,84187,85013,86252,86253,86359,86524,88070,88129,89070,89188,89297,90171,91443,91820,91972,92582,93010,93490,93943,94632,94777,95450,95534,95861,96265,97217,97397,97407,97560,97648,97829,98058,98430,98728,98802,99691,99752,99894,100068,100782,101075,101308,102122,102919,102920,103170,103739,103778,103941,104892,105085,105278,105399,105442,105572,105723,106423,106594,106891,107308,107713,107891,107963,109148,109283,109671,110018,111275,111518,111639,113058,113280,113376,115816,116150,117428,117616,119317,119938,121364,121513,121933,123777,124079,124255,124568,125669,125992,128282,129380,132583,133690,135866,136296,138171,138952,139673,141549,141786,142056,142435,142563,144388,144723,145515,146255,148534,148828,149333,149676,150205,152534,154498,154966,156571,157360,158563,159717,160784,161244,165612,166021,166357,166538,167341,167576,171757,174645,178184,181256,181561,184800,186505,187011,189665,195056,200161,200477,200821,203056,204121,212930,215106,217547,221079,221138,222362,223102,225908,228829,234370,237672,242813,246814,251586,259534,260255,270679,275910,278967,280694,282264,282546,292209,294476,295485,297081,298345,310487,315749,325818,340691,345135,364441,378120,385991,386521,387300,389887,398045,412499,422904,451442,454064,458425,488905,495498,496895,553066,553299,554048,578828,602529,612042,623126,635089,649224,688733,736513,766234,777462,832726,840029,882885,928455,991356,1076619,1133592,1137532,1190836,1257031,1333483,1335601,1375697,1429913,1472287,1736547,1783253,1790723,1903352,2063745,2283153,2413387,2469797,3358047,3682604,4159864,10221199,24414467],\"top\":[377,1,1,1,1,1,1,1,1,1,2,1,1,1,1,1,1,1,1,1,1,1,1,1,1,1,1,1,1,1,1,1,1,1,1,1,1,1,1,1,2,1,1,1,1,1,1,1,1,1,1,1,1,1,1,1,1,1,1,1,1,1,2,1,1,1,1,1,1,1,1,1,1,1,1,1,1,1,1,1,2,1,1,1,1,1,1,1,1,1,1,1,1,1,1,1,1,1,1,1,1,1,1,2,2,1,1,1,2,1,2,1,1,2,1,2,1,1,1,1,1,1,3,1,1,1,1,1,1,1,1,1,1,1,1,1,1,1,1,2,1,2,1,2,1,1,1,2,1,1,2,1,1,1,1,1,2,2,1,1,2,1,1,1,1,1,1,1,1,1,1,3,1,1,1,1,1,1,1,1,1,1,3,1,1,1,2,1,2,1,1,2,1,1,1,1,1,1,1,2,2,2,1,1,1,1,1,1,1,1,1,1,1,1,1,1,2,1,1,1,1,2,1,1,1,1,1,1,1,1,2,1,1,1,3,1,2,1,1,1,1,2,1,1,1,1,2,1,1,2,1,2,1,2,1,1,2,2,1,1,1,1,1,1,1,2,2,1,2,1,1,1,1,1,1,2,1,1,2,1,1,1,2,1,1,1,1,1,1,1,1,1,2,1,1,2,1,1,1,1,1,1,1,3,3,1,1,1,1,1,1,1,1,1,1,1,1,2,1,1,2,1,2,1,1,2,1,1,1,1,1,2,1,2,2,2,1,1,2,1,1,1,1,1,1,1,1,1,1,1,2,2,1,1,1,1,1,1,2,1,1,2,1,1,1,1,1,1,2,1,1,1,1,1,1,1,1,1,1,1,1,1,2,1,1,1,1,2,1,1,1,1,1,1,1,1,1,1,1,1,1,1,1,1,2,1,2,1,2,1,1,1,1,1,2,1,1,2,1,1,1,1,1,1,1,1,2,1,1,1,2,1,1,2,1,2,1,1,1,1,1,1,1,1,2,1,1,1,1,1,1,2,1,2,1,1,1,1,2,1,1,1,1,1,2,1,1,1,1,1,2,1,1,2,2,2,1,1,1,1,1,2,1,1,1,1,1,1,2,1,1,1,1,1,1,1,2,1,1,2,2,1,1,2,1,3,1,1,1,1,1,1,2,1,1,1,2,1,1,1,1,1,2,1,1,1,1,1,1,1,1,1,1,1,1,1,1,1,2,1,1,1,1,1,1,1,2,1,1,1,1,1,1,1,1,1,2,2,1,1,1,1,1,1,1,1,2,1,1,1,1,1,1,1,1,2,1,1,1,1,1,1,1,1,1,1,1,1,1,1,1,1,1,1,1,1,1,1,1,1,1,1,2,1,2,1,1,1,1,1,1,1,2,2,1,2,1,1,1,1,2,2,2,1,1,1,1,2,1,1,1,1,1,2,1,2,2,1,1,1,2,1,1,1,2,2,2,1,1,1,1,1,1,1,1,1,1,1,2,1,1,1,1,1,1,1,1,1,1,1,1,2,1,1,2,1,1,1,1,1,1,1,1,1,2,1,1,1,1,2,1,1,1,1,1,1,1,2,1,1,1,1,1,1,1,1,1,1,1,1,2,1,1,1,1,1,1,1,2,1,1,1,2,1,1,1,3,1,1,1,1,1,1,1,1,1,1,1,1,1,1,1,1,1,1,1,1,2,1,1,1,1,2,1,1,1,2,1,2,1,1,1,1,1,1,1,1,1,2,2,1,1,1,1,1,1,1,1,1,1,2,1,1,1,1,1,1,1,1,1,1,1,1,1,1,1,1,1,1,1,1,1,1,1,1,1,1,1,1,2,1,2,1,1,1,1,1,1,2,1,1,2,1,1,1,1,1,2,1,1,1,1,2,1,1,1,1,1,1,1,1,1,1,1,1,1,1,1,1,1,1,1,1,1,1,2,1,1,1,1,2,1,1,1,2,1,1,1,1,3,1,1,2,1,1,1,2,1,1,1,1,1,1,1,2,1,1,1,1,1,1,1,1,1,1,1,1,1,1,2,1,1,1,1,1,1,1,1,1,1,2,1,2,1,1,1,1,1,1,1,1,1,1,1,1,2,1,1,1,1,1,2,1,1,1,1,1,2,1,1,1,2,1,1,1,1,1,1,1,1,1,2,1,2,1,1,1,1,1,2,1,1,1,1,2,3,1,1,1,1,1,1,2,1,1,1,1,2,1,1,1,2,1,1,1,1,1,1,2,1,1,1,1,1,1,1,1,1,1,1,1,2,1,1,1,2,1,2,1,1,1,1,1,2,1,1,2,1,1,1,1,1,2,2,1,1,1,2,1,1,2,1,1,1,2,1,1,2,1,1,1,1,1,1,2,1,3,1,1,2,1,2,2,1,1,1,1,1,2,1,1,1,1,1,2,1,1,1,1,1,1,1,2,1,1,1,1,1,1,1,1,1,1,2,1,2,1,1,1,1,1,2,2,1,1,1,1,1,1,2,1,1,1,1,1,2,1,1,3,2,1,1,1,2,1,1,1,1,1,2,1,1,1,2,2,1,1,1,1,1,2,1,2,1,1,1,1,1,1,1,1,1,1,1,1,1,1,1,2,1,2,1,2,2,1,2,1,1,1,1,1,2,1,2,1,1,1,1,3,1,1,1,3,1,1,1,1,2,3,1,1,1,1,1,2,1,3,1,1,2,1,1,2,3,1,3,1,1,2,1,1,2,1,1,1,1,1,2,1,1,1,1,1,1,2,1,1,1,1,1,2,1,1,1,1,1,1,2,1,1,2,2,1,2,1,1,1,1,1,1,1,1,1,1,2,3,1,1,1,2,1,2,1,1,1,1,1,1,2,1,1,1,1,1,2,1,2,1,1,1,1,1,1,1,1,2,1,1,1,1,1,1,1,1,1,3,2,1,2,1,1,2,1,1,1,1,1,1,1,1,1,1,1,1,1,2,1,1,1,1,1,2,2,1,1,1,2,1,1,1,2,2,1,3,1,2,1,1,1,1,1,1,1,1,1,2,1,1,1,2,1,1,1,1,1,1,1,1,1,1,2,1,1,5,1,2,1,2,2,1,2,2,1,2,2,1,1,1,1,1,1,1,1,1,1,2,1,1,1,1,1,1,1,3,1,1,1,1,1,1,1,1,1,1,2,1,1,2,1,1,1,1,1,1,2,1,1,1,1,1,1,1,1,2,1,1,1,1,1,2,1,1,1,1,1,1,1,1,1,1,1,1,1,1,1,1,1,1,1,1,2,1,1,1,1,1,1,2,1,1,2,1,1,1,1,3,1,1,1,1,2,1,1,1,1,2,1,1,2,1,1,1,2,1,1,1,1,1,2,1,1,1,1,1,1,1,2,2,1,1,1,2,1,1,1,1,1,1,1,1,1,1,1,1,1,1,1,1,1,1,1,1,1,1,1,1,1,1,1,1,1,1,1,2,1,1,1,2,2,1,1,1,2,1,1,1,1,1,1,1,1,1,1,1,2,1,1,1,1,1,1,1,2,1,1,2,1,2,1,1,1,1,1,1,1,1,1,1,2,1,1,1,1,1,1,1,1,1,2,1,1,1,1,1,1,1,1,1,1,1,1,1,1,1,1,2,1,1,2,1,1,1,1,2,1,1,1,2,1,1,1,2,1,1,1,1,1,1,1,1,1,1,1,1,1,1,1,1,1,1,1,1,1,1,1,1,1,1,1,2,1,1,1,1,1,1,1,1,1,1,2,1,1,1,1,1,2,1,1,1,1,1,1,1,2,1,2,1,1,1,1,1,1,1,1,1,1,2,2,1,1,1,1,1,1,1,1,1,1,1,1,1,1,1,1,1,1,1,1,1,1,1,1,1,1,1,1,1,1,1,1,1,2,1,1,1,1,1,1,1,1,1,1,1,1,1,1,2,1,1,2,1,1,1,1,1,1,1,1,1,1,1,1,1,1,2,3,1,1,1,1,1,1,1,1,1,2,1,1,1,1,1,1,1,2,1,1,1,1,1,1,3,1,1,1,1,1,1,1,1,1,1,2,2,1,1,1,1,1,1,1,1,1,1,1,1,1,1,2,1,1,1,1,1,1,1,1,1,1,1,1,1,2,1,1,1,1,1,1,1,1,1,1,1,1,1,1,1,1,2,1,1,2,2,1,1,1,1,1,1,1,1,1,1,1,1,1,1,1,1,1,1,1,3,1,1,1,1,1,1,1,1,1,1,1,1,1,1,1,1,1,1,1,1,2,1,2,1,1,2,1,1,2,1,1,1,1,2,1,3,1,1,1,3,1,2,1,1,2,1,3,1,1,1,1,1,1,1,1,1,1,1,1,1,1,1,1,1,1,1,1,1,1,1,1,1,1,1,1,2,1,2,1,1,1,1,1,1,1,2,2,1,1,1,1,1,1,1,1,1,2,1,1,1,1,1,2,1,1,1,1,1,1,1,1,1,1,2,1,1,1,1,1,1,1,1,2,1,1,1,1,1,1,1,1,1,1,1,1,1,1,1,1,1,1,1,2,1,1,1,1,1,1,1,1,1,1,1,1,1,1,1,1,1,1,1,1,1,1,1,1,1,1,1,1,1,1,1,1,4,1,1,1,1,1,1,1,1,1,1,1,1,1,1,1,1,1,1,2,1,1,1,1,1,2,1,1,1,1,2,1,1,1,1,1,1,1,1,2,1,1,1,1,1,1,1,1,1,1,1,1,1,1,1,1,1,1,1,1,1,1,1,1,1,1,1,1,1,1,1,1,1,1,2,2,1,1,1,1,1,1,1,1,1,1,1,2,1,1,1,1,1,1,1,1,1,2,1,1,1,1,1,1,1,1,1,1,1,1,1,1,1,1,1,2,1,1,1,1,1,2,1,1,1,1,1,1,1,1,1,1,1,1,1,1,1,1,1,1,1,1,1,1,1,2,1,1,1,1,2,1,1,1,1,1,1,1,1,1,1,1,1,1,1,1,1,1,2,1,1,1,1,1,1,1,1,1,1,1,1,1,1,1,2,1,1,1,1,1,1,1,1,1,2,2,1,1,1,1,1,1,1,1,1,1,2,1,1,1,1,1,1,1,1,1,1,1,1,1,1,1,1,1,1,1,1,2,1,1,1,1,1,1,1,2,1,1,1,2,1,1,1,1,1,1,1,1,1,1,1,1,3,1,1,1,1,1,1,1,1,1,1,1,1,1,2,1,1,3,1,1,1,1,1,1,1,1,1,1,1,2,1,1,1,2,1,1,1,1,1,1,1,2,1,1,1,1,1,1,1,1,1,1,2,2,1,1,1,1,1,1,1,1,1,1,1,1,1,1,1,1,2,1,1,2,1,1,1,1,1,1,1,1,1,1,1,1,1,1,1,1,1,1,1,1,1,1,1,1,1,1,1,1,2,1,1,1,1,1,1,1,1,2,1,1,1,1,1,1,1,1,1,1,1,1,1,1,1,1,1,3,3,1,1,1,1,1,1,1,1,1,1,1,1,1,1,1,1,1,2,1,1,2,1,1,1,1,1,1,1,1,1,2,1,1,1,1,1,1,1,1,1,1,1,2,1,1,1,1,1,1,1,1,1,1,2,2,1,1,1,1,1,1,1,1,1,1,1,1,1,1,1,1,1,1,1,2,1,1,1,1,1,1,2,1,1,1,1,1,1,1,1,1,1,1,1,1,1,2,1,1,1,1,1,1,1,1,1,1,1,1,2,1,1,1,1,1,1,1,1,1,1,1,1,1,1,1,1,1,2,1,1,1,1,1,1,1,1,1,1,1,1,1,2,1,1,1,1,1,1,2,1,1,1,2,1,1,1,1,3,1,1,1,1,1,1,1,1,1,1,1,1,1,1,1,1,1,1,1,1,2,1,1,1,1,1,1,1,1,1,1,1,1,1,1,1,1,2,1,1,1,1,1,1,1,1,1,1,1,1,1,1,1,1,1,1,1,2,1,1,1,1,1,1,1,1,1,1,1,1,1,1,1,1,1,1,1,2,1,1,1,1,1,1,1,1,1,1,1,1,1,1,1,1,1,1,1,1,1,1,1,1,1,1,1,1,1,1,1,1,1,1,1,1,1,1,1,1,1,1,1,1,1,1,1,1,1,1,1,1,1,1,1,1,1,1,1,1,1,1,1,1,1,1,1,1,1,1,1,1,1,1,1,1,1,1,1,1,1,1,1,1,1,1,1,1,1,1,1,1,1,1,1,1,1,1,1,1,1,1,1,1,1,1,1,2,1,1,1,1,1,1,1,1,1,1,1,1,1,1,1,1,2,1,1,2,1,1,1,1,2,1,2,1,1,1,1,1,1,1,1,1,1,1,1,1,1,1,2,1,1,1,1,1,1,1,2,1,1,1,2,1,1,1,1,1,1,1,1,1,1,1,1,1,1,1,1,1,1,1,1,1,1,1,1,1,1,1,1,1,1,1,1,1,1,1,1,1,1,1,2,1,1,1,1,1,1,1,1,1,1,1,1,1,1,1,1,1,1,1,1,1,1,1,1,1,1,1,1,1,1,1,1,1,1,1,1,1,1,1,1,1,1,1,1,1,1,1,1,1,1,1,1,1,1,1,1,1,1,1,1,1,1,1,1,1,1,1,1,1,1,1,1,1,1,1,1,1,1,1,1,1,1,1,1,1,1,1,1,1,1,1,1,1,1,1,1,1,1,1,1,2,2,1,1,1,1,1,1,1,1,2,1,2,1,1,1,1,1,1,1,2,1,1,1,1,1,1,1,1,1,1,1,1,1,2,1,1,1,1,1,1,1,1,1,1,1,1,1,1,1,1,1,1,1,1,1,1,1,1,1,1,1,1,1,1,1,2,1,1,1,1,1,1,1,1,1,1,1,1,1,1,1,1,1,1,1,1,1,1,2,1,1,1,2,1,1,1,1,1,1,1,1,2,1,1,1,1,1,2,1,1,1,1,1,1,1,1,1,1,1,1,1,1,1,1,1,1,1,1,1,1,1,1,1,1,2,1,1,1,1,1,1,1,2,1,1,1,1,1,1,1,1,1,2,1,1,1,1,1,1,1,1,1,1,1,1,1,1,1,1,1,1,1,2,1,1,1,1,1,1,1,1,1,1,1,2,1,2,2,1,1,2,1,1,1,2,1,1,1,1,1,1,2,1,1,1,1,1,1,1,1,1,1,1,1,1,1,1,1,1,1,1,1,1,1,1,1,1,1,1,1,1,1,1,1,1,1,1,1,1,1,1,1,1,1,1,1,1,1,1,2,1,1,1,1,1,1,1,2,2,1,1,1,1,1,1,1,1,2,1,1,1,1,2,1,1,1,1,1,1,1,1,1,1,1,1,1,1,1,2,1,1,1,1,1,1,1,1,2,1,1,1,1,1,1,1,1,1,1,1,1,1,1,1,1,1,1,1,1,1,1,1,1,1,1,1,1,1,1,1,1,1,1,1,1,1,1,1,1,2,1,2,1,1,1,1,1,1,2,1,1,1,1,1,1,1,1,1,1,1,1,1,1,1,1,1,1,1,1,1,1,1,1,1,1,1,1,1,1,1,1,1,1,1,1,1,1,1,1,1,1,1,1,1,1,1,1,1,1,1,1,1,1,1,1,1,1,1,1,1,1,1,1,1,1,2,1,1,1,1,1,1,1,1,1,1,1,1,1,1,1,1,1,2,1,1,1,1,1,1,1,1,1,1,1,3,1,1,1,1,1,1,1,1,1,1,1,1,1,1,1,1,1,1,1,1,1,1,1,1,1,1,1,1,1,1,1,1,1,1,1,1,1,1,1,1,1,1,1,1,1,1,1,1,1,1,1,1,1,1,1,1,1,1,1,1,1,1,1,1,1,1,1,1,2,1,1,1,1,1,1,1,1,1,1,1,1,1,1,1,1,2,1,1,1,1,1,1,1,1,1,1,1,1,1,1,1,1,1,1,1,1,1,1,1,1,2,1,1,1,1,1,1,1,1,1,1,1,1,1,1,1,1,1,1,1,1,1,1,1,1,1,1,1,1,1,1,1,1,1,1,1,1,1,1,1,1,1,2,1,1,1,1,1,1,1,1,1,1,1,1,1,1,1,1,1,1,1,1,1,1,1,1,1,1,1,1,1,1,1,1,1,2,1,1,1,1,1,1,1,1,1,1,1,1,1,1,1,1,1,1,1,1,1,1,1,1,1,1,1,1,1,1,1,1,1,1,1,1,1,1,1,1,1,1,1,1,1,1,1,1,1,1,1,1,1,1,1,1,1,1,1,1,1,1,1,1,1,1,1,1,1,1,1,1,1,1,1,1,2,1,1,1,1,1,1,1,1,1,1,1,1,1,1,1,1,1,1,1,1,1,1,1,1,1,1,1,1,1,1,1,1,1,1,1,1,1,1,1,1,1,1,1,1,1,1,1,1,1,1,1,1,1,1,1,1,1,1,1,1,1,1,1,1,1,1,1,1,1,1,1,1,1,1,1,1,1,1,1,1,1,1,1,1,1,1,1,2,1,1,1,1,1,1,1,1,1,1,1,1,1,1,1,1,1,1,1,1,1,1,1,1,1,1,1,1,1,1,1,1,1,1,1,1,1,1,1,1,1,1,1,1,1,1,1,1,1,1,1,1,1,1,1,1,1,1,1,1,1,1,1,1,1,1,1,1,1,1,1,1,1,1,1,1,1,1,1,1,1,1,1,1,1,1,1,1,1,1,1,1,1,1,1,1,1,1,1,1,1,1,1,1,1,1,1,1,1,1,1,1,1,1,1,1,1,1,1,1,1,1,1,1,1,1,1,1,1,1,1,1,1,1,1,1,1,1,1,1,1,1,1,1,1,1,1,1,1,1,1,1,1,1,1,1,1,1,1,1,1,1,1,1,1,1,1,1,1,1,1,1,1,1,1,1,1,1,1,1,1,1,1,1,1,1,1,1,1,1,1,1,1,1,1,1,1,1,1,1,1,1,1,1,1,1,1,1,1,1,1,1,1,1,1,1,1,1,1,1,1,1,1,1,1,1,1,1,1,2,1,1,1,1,1,1,1,1,1,1,1,1,1,1,1,1,1,1,1,1,1,1,1,1,1,1,1,1,1,1,1,1,1,1,1,1,1,1,1,1,1,1,1,1,1,1,1,1,1,1,1,1,1,1,1,1,1,1,1,1,1,1,1,1,1,1,1,1,1,1,1,1,1,1,1,1,1,1,1,1,1,1,1,1,1,1,1,1,1,1,1,1,1,1,1,1,1,1,1,1,1,1,1,1,1,1,1,1,1,1,1,1,1,1,1,1,1,1,1,1,1,1,1,1,1,1,1,1,1,1,1,1,1,1,1,1,1,1,1,1,1,1,1,1,1,1,1,1,1,1,1,1,1,1,1,1,1,1,1,1,1,1,1,1,1,1,1,1,1,1,1,1,1,1,1,1,1,1,1,1,1,1,1,1,1,1,1,1,1,1,1,1,1,1,1,1,1,1,1,1,1,1,1,1,1,1,1,1,1,1,1,1,1,1,1,1,1,1,1,1,1,1,1,1,1,1,1,1,1,1,1,1,1,1,1,1,1,1,1,1,1,1,1,1,1,1,1,1,1,1,1,1,1,1,1,1,1,1,1,1,1,1,1,1,1,1,1,1,1,1,1,1,1,1,1,1,1,1,1,1,1,1,1,1,1,1,1,1,1,1,1,1,1,1,1,1,1,1,1,1,1,1,1,1,1,1,1,1,1,1,1,1,1,1,1,1,1,1,1,1,1,1,1,1,1,1,1,1,1,1,1,1,1,1,1,1,1,1,1,1,1,1,1,1,1,1,1,1,1,1,1,1,1,1,1,1,1,1,1,1,1,1,1,1,1,1,1,1,1,1,1,1,1,1,1,1,1,1,1,1,1,1,1,1,1,1,1,1,1,1,1,1,1,1,1,1,1,1,1,1,1,1,1,1,1,1,1,1,1,1,1,1,1,1,1,1,1,1,1,1,1,1,1,1,1,1,1,1,1]},\"selected\":{\"id\":\"3352\"},\"selection_policy\":{\"id\":\"3351\"}},\"id\":\"3205\",\"type\":\"ColumnDataSource\"},{\"attributes\":{\"coordinates\":null,\"data_source\":{\"id\":\"3205\"},\"glyph\":{\"id\":\"3206\"},\"group\":null,\"hover_glyph\":null,\"muted_glyph\":{\"id\":\"3208\"},\"nonselection_glyph\":{\"id\":\"3207\"},\"view\":{\"id\":\"3210\"}},\"id\":\"3209\",\"type\":\"GlyphRenderer\"},{\"attributes\":{\"axis\":{\"id\":\"3196\"},\"coordinates\":null,\"group\":null,\"ticker\":null},\"id\":\"3199\",\"type\":\"Grid\"},{\"attributes\":{\"bottom\":{\"value\":0},\"fill_alpha\":{\"value\":0.2},\"fill_color\":{\"value\":\"navy\"},\"hatch_alpha\":{\"value\":0.2},\"left\":{\"field\":\"left\"},\"line_alpha\":{\"value\":0.2},\"line_color\":{\"value\":\"white\"},\"right\":{\"field\":\"right\"},\"top\":{\"field\":\"top\"}},\"id\":\"3208\",\"type\":\"Quad\"},{\"attributes\":{\"bottom\":{\"value\":0},\"fill_alpha\":{\"value\":0.5},\"fill_color\":{\"value\":\"navy\"},\"hatch_alpha\":{\"value\":0.5},\"left\":{\"field\":\"left\"},\"line_alpha\":{\"value\":0.5},\"line_color\":{\"value\":\"white\"},\"right\":{\"field\":\"right\"},\"top\":{\"field\":\"top\"}},\"id\":\"3206\",\"type\":\"Quad\"},{\"attributes\":{},\"id\":\"3352\",\"type\":\"Selection\"},{\"attributes\":{\"coordinates\":null,\"formatter\":{\"id\":\"3349\"},\"group\":null,\"major_label_policy\":{\"id\":\"3350\"},\"ticker\":{\"id\":\"3197\"}},\"id\":\"3196\",\"type\":\"LogAxis\"},{\"attributes\":{},\"id\":\"3190\",\"type\":\"DataRange1d\"},{\"attributes\":{},\"id\":\"3351\",\"type\":\"UnionRenderers\"},{\"attributes\":{\"num_minor_ticks\":10},\"id\":\"3197\",\"type\":\"LogTicker\"},{\"attributes\":{\"coordinates\":null,\"group\":null},\"id\":\"3186\",\"type\":\"Title\"},{\"attributes\":{},\"id\":\"3192\",\"type\":\"LogScale\"},{\"attributes\":{\"coordinates\":null,\"formatter\":{\"id\":\"3346\"},\"group\":null,\"major_label_policy\":{\"id\":\"3347\"},\"ticker\":{\"id\":\"3201\"}},\"id\":\"3200\",\"type\":\"LinearAxis\"},{\"attributes\":{},\"id\":\"3346\",\"type\":\"BasicTickFormatter\"},{\"attributes\":{\"source\":{\"id\":\"3205\"}},\"id\":\"3210\",\"type\":\"CDSView\"},{\"attributes\":{},\"id\":\"3347\",\"type\":\"AllLabels\"},{\"attributes\":{},\"id\":\"3188\",\"type\":\"DataRange1d\"},{\"attributes\":{\"axis\":{\"id\":\"3200\"},\"coordinates\":null,\"dimension\":1,\"group\":null,\"ticker\":null},\"id\":\"3203\",\"type\":\"Grid\"}],\"root_ids\":[\"3185\"]},\"title\":\"Bokeh Application\",\"version\":\"2.4.3\"}};\n",
       "  const render_items = [{\"docid\":\"b3507d32-0d47-4a74-aa53-7460b8e1ee4e\",\"root_ids\":[\"3185\"],\"roots\":{\"3185\":\"17b2fe50-b3fe-4e7c-8422-8bf84509c50f\"}}];\n",
       "  root.Bokeh.embed.embed_items_notebook(docs_json, render_items);\n",
       "  }\n",
       "  if (root.Bokeh !== undefined) {\n",
       "    embed_document(root);\n",
       "  } else {\n",
       "    let attempts = 0;\n",
       "    const timer = setInterval(function(root) {\n",
       "      if (root.Bokeh !== undefined) {\n",
       "        clearInterval(timer);\n",
       "        embed_document(root);\n",
       "      } else {\n",
       "        attempts++;\n",
       "        if (attempts > 100) {\n",
       "          clearInterval(timer);\n",
       "          console.log(\"Bokeh: ERROR: Unable to run BokehJS code because BokehJS library is missing\");\n",
       "        }\n",
       "      }\n",
       "    }, 10, root)\n",
       "  }\n",
       "})(window);"
      ],
      "application/vnd.bokehjs_exec.v0+json": ""
     },
     "metadata": {
      "application/vnd.bokehjs_exec.v0+json": {
       "id": "3185"
      }
     },
     "output_type": "display_data"
    }
   ],
   "source": [
    "# hist, edges = np.histogram(sizes, density=True, bins=10)\n",
    "\n",
    "p = bk.figure(title='', \n",
    "              tools='', \n",
    "              background_fill_color=\"#fafafa\",\n",
    "              x_axis_type=\"log\")\n",
    "\n",
    "bc = np.bincount(sizes)\n",
    "\n",
    "idx = np.where(bc != 0)[0]\n",
    "\n",
    "p.quad(top=bc[idx], \n",
    "       bottom=0, \n",
    "       left=idx-100, \n",
    "       right=idx+100,\n",
    "       fill_color=\"navy\", \n",
    "       line_color=\"white\", \n",
    "       alpha=0.5)\n",
    "\n",
    "bk.show(p)"
   ]
  },
  {
   "cell_type": "code",
   "execution_count": 4,
   "id": "1681a7e6-0ad4-4113-886b-1c4a56302822",
   "metadata": {
    "lines_to_next_cell": 0
   },
   "outputs": [
    {
     "data": {
      "text/html": [
       "\n",
       "  <div class=\"bk-root\" id=\"9c0333a3-5c50-4dcf-84c8-38135f67d39b\" data-root-id=\"1319\"></div>\n"
      ]
     },
     "metadata": {},
     "output_type": "display_data"
    },
    {
     "data": {
      "application/javascript": [
       "(function(root) {\n",
       "  function embed_document(root) {\n",
       "  const docs_json = {\"2306bd8c-8227-4a5b-8a8a-9e46cea07b23\":{\"defs\":[],\"roots\":{\"references\":[{\"attributes\":{\"children\":[[{\"id\":\"1003\"},0,0],[{\"id\":\"1068\"},0,1],[{\"id\":\"1133\"},1,0],[{\"id\":\"1198\"},1,1]]},\"id\":\"1319\",\"type\":\"GridBox\"},{\"attributes\":{\"coordinates\":null,\"data_source\":{\"id\":\"1159\"},\"glyph\":{\"id\":\"1160\"},\"group\":null,\"hover_glyph\":null,\"muted_glyph\":{\"id\":\"1162\"},\"nonselection_glyph\":{\"id\":\"1161\"},\"view\":{\"id\":\"1164\"}},\"id\":\"1163\",\"type\":\"GlyphRenderer\"},{\"attributes\":{\"line_alpha\":0.1,\"line_color\":\"#ff8888\",\"line_width\":4,\"x\":{\"field\":\"x\"},\"y\":{\"field\":\"y\"}},\"id\":\"1161\",\"type\":\"Line\"},{\"attributes\":{\"line_alpha\":0.7,\"line_color\":\"#ff8888\",\"line_width\":4,\"x\":{\"field\":\"x\"},\"y\":{\"field\":\"y\"}},\"id\":\"1225\",\"type\":\"Line\"},{\"attributes\":{\"data\":{\"x\":{\"__ndarray__\":\"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\",\"dtype\":\"float64\",\"order\":\"little\",\"shape\":[1000]},\"y\":{\"__ndarray__\":\"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\",\"dtype\":\"float64\",\"order\":\"little\",\"shape\":[1000]}},\"selected\":{\"id\":\"1175\"},\"selection_policy\":{\"id\":\"1174\"}},\"id\":\"1159\",\"type\":\"ColumnDataSource\"},{\"attributes\":{},\"id\":\"1168\",\"type\":\"AllLabels\"},{\"attributes\":{},\"id\":\"1043\",\"type\":\"Selection\"},{\"attributes\":{},\"id\":\"1152\",\"type\":\"Toolbar\"},{\"attributes\":{},\"id\":\"1140\",\"type\":\"LinearScale\"},{\"attributes\":{\"coordinates\":null,\"data_source\":{\"id\":\"1224\"},\"glyph\":{\"id\":\"1225\"},\"group\":null,\"hover_glyph\":null,\"muted_glyph\":{\"id\":\"1227\"},\"nonselection_glyph\":{\"id\":\"1226\"},\"view\":{\"id\":\"1229\"}},\"id\":\"1228\",\"type\":\"GlyphRenderer\"},{\"attributes\":{},\"id\":\"1239\",\"type\":\"UnionRenderers\"},{\"attributes\":{\"line_alpha\":0.7,\"line_color\":\"orange\",\"line_width\":2,\"x\":{\"field\":\"x\"},\"y\":{\"field\":\"y\"}},\"id\":\"1114\",\"type\":\"Line\"},{\"attributes\":{\"source\":{\"id\":\"1224\"}},\"id\":\"1229\",\"type\":\"CDSView\"},{\"attributes\":{},\"id\":\"1042\",\"type\":\"UnionRenderers\"},{\"attributes\":{\"coordinates\":null,\"data_source\":{\"id\":\"1113\"},\"glyph\":{\"id\":\"1114\"},\"group\":null,\"hover_glyph\":null,\"muted_glyph\":{\"id\":\"1116\"},\"nonselection_glyph\":{\"id\":\"1115\"},\"view\":{\"id\":\"1118\"}},\"id\":\"1117\",\"type\":\"GlyphRenderer\"},{\"attributes\":{\"data\":{\"x\":{\"__ndarray__\":\"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\",\"dtype\":\"float64\",\"order\":\"little\",\"shape\":[1000]},\"y\":{\"__ndarray__\":\"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\",\"dtype\":\"float64\",\"order\":\"little\",\"shape\":[1000]}},\"selected\":{\"id\":\"1240\"},\"selection_policy\":{\"id\":\"1239\"}},\"id\":\"1224\",\"type\":\"ColumnDataSource\"},{\"attributes\":{},\"id\":\"1240\",\"type\":\"Selection\"},{\"attributes\":{\"data\":{\"x\":{\"__ndarray__\":\"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\",\"dtype\":\"float64\",\"order\":\"little\",\"shape\":[1000]},\"y\":{\"__ndarray__\":\"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\",\"dtype\":\"float64\",\"order\":\"little\",\"shape\":[1000]}},\"selected\":{\"id\":\"1131\"},\"selection_policy\":{\"id\":\"1130\"}},\"id\":\"1113\",\"type\":\"ColumnDataSource\"},{\"attributes\":{\"data\":{\"left\":{\"__ndarray__\":\"p+OMHIgHwT/GouW33+TLP/Iwn6kbYdM/gpBLd8fP2D8Q8PdEcz7eP9AnUomP1uE/mFcocOWN5D9fh/5WO0XnPye31D2R/Ok/7+aqJOez7D+2FoELPWvvPz+jK3lJEfE/I7uWbPRs8j8H0wFgn8jzP+rqbFNKJPU/zgLYRvV/9j+yGkM6oNv3P5Yyri1LN/k/ekoZIfaS+j9dYoQUoe77P0F67wdMSv0/JZJa+/al/j8E1WL30AAAQPZgGHGmrgBA6OzN6ntcAUDaeINkUQoCQMwEOd4muAJAvZDuV/xlA0CvHKTR0RMEQKGoWUunwQRAkzQPxXxvBUCFwMQ+Uh0GQHdMergnywZAadgvMv14B0BbZOWr0iYIQE3wmiWo1AhAP3xQn32CCUAxCAYZUzAKQCKUu5Io3gpAFCBxDP6LC0AGrCaG0zkMQPg33P+o5wxA6sOReX6VDUDcT0fzU0MOQM7b/Gwp8Q5AwGey5v6eD0DZ+TMwaiYQQNK/Du1UfRBAy4XpqT/UEEDES8RmKisRQA==\",\"dtype\":\"float64\",\"order\":\"little\",\"shape\":[50]},\"right\":{\"__ndarray__\":\"xqLlt9/kyz/yMJ+pG2HTP4KQS3fHz9g/EPD3RHM+3j/QJ1KJj9bhP5hXKHDljeQ/X4f+VjtF5z8nt9Q9kfzpP+/mqiTns+w/thaBCz1r7z8/oyt5SRHxPyO7lmz0bPI/B9MBYJ/I8z/q6mxTSiT1P84C2Eb1f/Y/shpDOqDb9z+WMq4tSzf5P3pKGSH2kvo/XWKEFKHu+z9Beu8HTEr9PyWSWvv2pf4/BNVi99AAAED2YBhxpq4AQOjszep7XAFA2niDZFEKAkDMBDneJrgCQL2Q7lf8ZQNArxyk0dETBEChqFlLp8EEQJM0D8V8bwVAhcDEPlIdBkB3THq4J8sGQGnYLzL9eAdAW2Tlq9ImCEBN8JolqNQIQD98UJ99gglAMQgGGVMwCkAilLuSKN4KQBQgcQz+iwtABqwmhtM5DED4N9z/qOcMQOrDkXl+lQ1A3E9H81NDDkDO2/xsKfEOQMBnsub+ng9A2fkzMGomEEDSvw7tVH0QQMuF6ak/1BBAxEvEZiorEUC9EZ8jFYIRQA==\",\"dtype\":\"float64\",\"order\":\"little\",\"shape\":[50]},\"top\":{\"__ndarray__\":\"Z+Z5qtMgmD+cqSo1uRy1P2XOM4WRltA/0uaJNg424D/LhCHl4KLpPzKR1IM8feU/BfM0j8wF8D9k8hy99OXrPzGpGql+B+0/B0jSb8ae5j8ykdSDPH3lP8x4ftK/3eU/zOaJNg424D98/r/PFavfP/87L12l2eI/makqNbkc1T/MeH7Sv93VP5i1zUfa4dg/fP6/zxWrzz9k/r/PFavPP/5fGJUIKc4/cs4zhZGWwD9lzjOFkZbAP2TmearTIMg//l8YlQgpvj9k5nmq0yC4P7epKjW5HLU//l8YlQgprj/MbNu/nhiiP8xs27+eGKI/zGzbv54Yoj9k5nmq0yCoP8xs27+eGKI/ZOZ5qtMgqD/MbNu/nhiiP2TmearTIJg/AAAAAAAAAADmbNu/nhiiPwAAAAAAAAAAZOZ5qtMgmD8AAAAAAAAAAAAAAAAAAAAAZOZ5qtMgiD9k5nmq0yCYP2TmearTIIg/AAAAAAAAAAAAAAAAAAAAAAAAAAAAAAAAAAAAAAAAAABk5nmq0yCIPw==\",\"dtype\":\"float64\",\"order\":\"little\",\"shape\":[50]}},\"selected\":{\"id\":\"1108\"},\"selection_policy\":{\"id\":\"1107\"}},\"id\":\"1088\",\"type\":\"ColumnDataSource\"},{\"attributes\":{\"source\":{\"id\":\"1113\"}},\"id\":\"1118\",\"type\":\"CDSView\"},{\"attributes\":{\"source\":{\"id\":\"1153\"}},\"id\":\"1158\",\"type\":\"CDSView\"},{\"attributes\":{},\"id\":\"1170\",\"type\":\"BasicTickFormatter\"},{\"attributes\":{\"line_alpha\":0.2,\"line_color\":\"orange\",\"line_width\":2,\"x\":{\"field\":\"x\"},\"y\":{\"field\":\"y\"}},\"id\":\"1116\",\"type\":\"Line\"},{\"attributes\":{\"source\":{\"id\":\"1159\"}},\"id\":\"1164\",\"type\":\"CDSView\"},{\"attributes\":{\"line_alpha\":0.1,\"line_color\":\"orange\",\"line_width\":2,\"x\":{\"field\":\"x\"},\"y\":{\"field\":\"y\"}},\"id\":\"1115\",\"type\":\"Line\"},{\"attributes\":{\"label\":{\"value\":\"CDF\"},\"renderers\":[{\"id\":\"1117\"}]},\"id\":\"1132\",\"type\":\"LegendItem\"},{\"attributes\":{},\"id\":\"1171\",\"type\":\"AllLabels\"},{\"attributes\":{},\"id\":\"1205\",\"type\":\"LinearScale\"},{\"attributes\":{\"line_alpha\":0.7,\"line_color\":\"orange\",\"line_width\":2,\"x\":{\"field\":\"x\"},\"y\":{\"field\":\"y\"}},\"id\":\"1179\",\"type\":\"Line\"},{\"attributes\":{\"coordinates\":null,\"data_source\":{\"id\":\"1178\"},\"glyph\":{\"id\":\"1179\"},\"group\":null,\"hover_glyph\":null,\"muted_glyph\":{\"id\":\"1181\"},\"nonselection_glyph\":{\"id\":\"1180\"},\"view\":{\"id\":\"1183\"}},\"id\":\"1182\",\"type\":\"GlyphRenderer\"},{\"attributes\":{},\"id\":\"1131\",\"type\":\"Selection\"},{\"attributes\":{\"data\":{\"x\":{\"__ndarray__\":\"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\",\"dtype\":\"float64\",\"order\":\"little\",\"shape\":[1000]},\"y\":{\"__ndarray__\":\"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\",\"dtype\":\"float64\",\"order\":\"little\",\"shape\":[1000]}},\"selected\":{\"id\":\"1196\"},\"selection_policy\":{\"id\":\"1195\"}},\"id\":\"1178\",\"type\":\"ColumnDataSource\"},{\"attributes\":{\"source\":{\"id\":\"1178\"}},\"id\":\"1183\",\"type\":\"CDSView\"},{\"attributes\":{\"data\":{\"left\":{\"__ndarray__\":\"dqEp7mndST8D4VE6TeC4P2G3Y9Bvxsg/IT/PgVyO0j+RomwbgbnYPwEGCrWl5N4/uLRTJ+WH4j9wZiJ0d53lPygY8cAJs+g/4Mm/DZzI6z+Ye45aLt7uP6iWrlPg+fA/hO8VeqmE8j9gSH2gcg/0Pzyh5MY7mvU/GPpL7QQl9z/0UrMTzq/4P9CrGjqXOvo/rASCYGDF+z+IXemGKVD9P2S2UK3y2v4/oAfc6d0yAEAOtA99QvgAQHxgQxCnvQFA6gx3owuDAkBYuao2cEgDQMZl3snUDQRANBISXTnTBECivkXwnZgFQBBreYMCXgZAfhetFmcjB0Dsw+Cpy+gHQFpwFD0wrghAyBxI0JRzCUA2yXtj+TgKQKR1r/Zd/gpAEiLjicLDC0CAzhYdJ4kMQO56SrCLTg1AXCd+Q/ATDkDK07HWVNkOQDiA5Wm5ng9AU5aM/g4yEECKbCZIwZQQQMFCwJFz9xBA+Bha2yVaEUAv7/Mk2LwRQGbFjW6KHxJAnZsnuDyCEkDUccEB7+QSQA==\",\"dtype\":\"float64\",\"order\":\"little\",\"shape\":[50]},\"right\":{\"__ndarray__\":\"A+FROk3guD9ht2PQb8bIPyE/z4FcjtI/kaJsG4G52D8BBgq1peTeP7i0Uyflh+I/cGYidHed5T8oGPHACbPoP+DJvw2cyOs/mHuOWi7e7j+olq5T4PnwP4TvFXqphPI/YEh9oHIP9D88oeTGO5r1Pxj6S+0EJfc/9FKzE86v+D/Qqxo6lzr6P6wEgmBgxfs/iF3philQ/T9ktlCt8tr+P6AH3OndMgBADrQPfUL4AEB8YEMQp70BQOoMd6MLgwJAWLmqNnBIA0DGZd7J1A0EQDQSEl050wRAor5F8J2YBUAQa3mDAl4GQH4XrRZnIwdA7MPgqcvoB0BacBQ9MK4IQMgcSNCUcwlANsl7Y/k4CkCkda/2Xf4KQBIi44nCwwtAgM4WHSeJDEDuekqwi04NQFwnfkPwEw5AytOx1lTZDkA4gOVpuZ4PQFOWjP4OMhBAimwmSMGUEEDBQsCRc/cQQPgYWtslWhFAL+/zJNi8EUBmxY1uih8SQJ2bJ7g8ghJA1HHBAe/kEkALSFtLoUcTQA==\",\"dtype\":\"float64\",\"order\":\"little\",\"shape\":[50]},\"top\":{\"__ndarray__\":\"Bknl26WW4z/0mJvUiOXpP2mBDSqb6eU/sj/Z4os76T8XeAExgY7rPwpJ5dulluM/Bknl26WW4z8B5NsUsu7gP4SWYPirQuI/+P2km3yN3D808l3GhY/aP3ZLILiCOds/p3XGVKTr0z8qKEs4nj/VPzTyXcaFj8o/L41U/5Hn1z+iEL2NsEPBP7ek4ql/48s/KihLOJ4/xT85V2eNeTe9P6zazxuYk8Y/rNrPG5iTxj808l3GhY+qP6IQvY2wQ8E/KihLOJ4/tT8vjVT/kee3PyXDQXGql7I/PrxwVG3frz808l3GhY+qPzTyXcaFj6o/PrxwVG3fnz808l3GhY+qPyooSzieP4U/KihLOJ4/hT8qKEs4nj+VPwAAAAAAAAAAAAAAAAAAAAAqKEs4nj+FPwAAAAAAAAAAAAAAAAAAAAA+vHBUbd+fPwAAAAAAAAAAAAAAAAAAAAAqKEs4nj+FPyooSzieP4U/AAAAAAAAAAAAAAAAAAAAAAAAAAAAAAAAAAAAAAAAAAAqKEs4nj+FPw==\",\"dtype\":\"float64\",\"order\":\"little\",\"shape\":[50]}},\"selected\":{\"id\":\"1238\"},\"selection_policy\":{\"id\":\"1237\"}},\"id\":\"1218\",\"type\":\"ColumnDataSource\"},{\"attributes\":{},\"id\":\"1130\",\"type\":\"UnionRenderers\"},{\"attributes\":{\"line_alpha\":0.2,\"line_color\":\"orange\",\"line_width\":2,\"x\":{\"field\":\"x\"},\"y\":{\"field\":\"y\"}},\"id\":\"1181\",\"type\":\"Line\"},{\"attributes\":{\"line_alpha\":0.1,\"line_color\":\"orange\",\"line_width\":2,\"x\":{\"field\":\"x\"},\"y\":{\"field\":\"y\"}},\"id\":\"1180\",\"type\":\"Line\"},{\"attributes\":{\"label\":{\"value\":\"CDF\"},\"renderers\":[{\"id\":\"1182\"}]},\"id\":\"1197\",\"type\":\"LegendItem\"},{\"attributes\":{},\"id\":\"1172\",\"type\":\"UnionRenderers\"},{\"attributes\":{\"line_alpha\":0.7,\"line_color\":\"#ff8888\",\"line_width\":4,\"x\":{\"field\":\"x\"},\"y\":{\"field\":\"y\"}},\"id\":\"1160\",\"type\":\"Line\"},{\"attributes\":{\"bottom\":{\"value\":0},\"fill_alpha\":{\"value\":0.1},\"fill_color\":{\"value\":\"navy\"},\"hatch_alpha\":{\"value\":0.1},\"left\":{\"field\":\"left\"},\"line_alpha\":{\"value\":0.1},\"line_color\":{\"value\":\"white\"},\"right\":{\"field\":\"right\"},\"top\":{\"field\":\"top\"}},\"id\":\"1155\",\"type\":\"Quad\"},{\"attributes\":{},\"id\":\"1196\",\"type\":\"Selection\"},{\"attributes\":{},\"id\":\"1006\",\"type\":\"DataRange1d\"},{\"attributes\":{},\"id\":\"1195\",\"type\":\"UnionRenderers\"},{\"attributes\":{},\"id\":\"1237\",\"type\":\"UnionRenderers\"},{\"attributes\":{},\"id\":\"1173\",\"type\":\"Selection\"},{\"attributes\":{\"start\":0},\"id\":\"1073\",\"type\":\"DataRange1d\"},{\"attributes\":{},\"id\":\"1238\",\"type\":\"Selection\"},{\"attributes\":{\"coordinates\":null,\"group\":null,\"text\":\"Log Normal Distribution (\\u03bc=0, \\u03c3=0.5)\"},\"id\":\"1069\",\"type\":\"Title\"},{\"attributes\":{},\"id\":\"1010\",\"type\":\"LinearScale\"},{\"attributes\":{\"background_fill_color\":\"#fefefe\",\"coordinates\":null,\"group\":null,\"items\":[{\"id\":\"1242\"},{\"id\":\"1262\"}],\"location\":\"center_right\"},\"id\":\"1241\",\"type\":\"Legend\"},{\"attributes\":{},\"id\":\"1071\",\"type\":\"DataRange1d\"},{\"attributes\":{},\"id\":\"1233\",\"type\":\"AllLabels\"},{\"attributes\":{},\"id\":\"1232\",\"type\":\"BasicTickFormatter\"},{\"attributes\":{},\"id\":\"1136\",\"type\":\"DataRange1d\"},{\"attributes\":{\"bottom\":{\"value\":0},\"fill_alpha\":{\"value\":0.5},\"fill_color\":{\"value\":\"navy\"},\"hatch_alpha\":{\"value\":0.5},\"left\":{\"field\":\"left\"},\"line_alpha\":{\"value\":0.5},\"line_color\":{\"value\":\"white\"},\"right\":{\"field\":\"right\"},\"top\":{\"field\":\"top\"}},\"id\":\"1219\",\"type\":\"Quad\"},{\"attributes\":{\"start\":0},\"id\":\"1008\",\"type\":\"DataRange1d\"},{\"attributes\":{\"data\":{\"left\":{\"__ndarray__\":\"wZj+vFqm/L/V9mkbApX7v+pU1Xmpg/q//rJA2FBy+b8SEaw2+GD4vyZvF5WfT/e/Os2C80Y+9r9PK+5R7iz1v2OJWbCVG/S/d+fEDj0K87+MRTBt5Pjxv6Cjm8uL5/C/aAMOVGas77+Qv+QQtYntv7l7u80DZ+u/4jeSilJE6b8K9GhHoSHnvzKwPwTw/uS/WmwWwT7c4r+EKO19jbngv1jJh3W4Ld2/qEE171Xo2L/8ueJo86LUv0wykOKQXdC/OFV7uFwwyL+wi6xXL0u/v+DZxHxKa6y/AI491yb/hj+A0DH0bvWzP6D3vYZ8hcI/+AZjk0EQyz8sCwRQg83RP9ySVtblEtY/jBqpXEhY2j88ovviqp3eP/YUp7SGceE/zljQ9zeU4z+inPk66bblP3rgIn6a2ec/UiRMwUv86T8qaHUE/R7sPwKsnkeuQe4/7fdjxS8y8D/ZmfhmiEPxP8M7jQjhVPI/r90hqjlm8z+bf7ZLknf0P4chS+3qiPU/c8PfjkOa9j9fZXQwnKv3Pw==\",\"dtype\":\"float64\",\"order\":\"little\",\"shape\":[50]},\"right\":{\"__ndarray__\":\"1fZpGwKV+7/qVNV5qYP6v/6yQNhQcvm/EhGsNvhg+L8mbxeVn0/3vzrNgvNGPva/TyvuUe4s9b9jiVmwlRv0v3fnxA49CvO/jEUwbeT48b+go5vLi+fwv2gDDlRmrO+/kL/kELWJ7b+5e7vNA2frv+I3kopSROm/CvRoR6Eh578ysD8E8P7kv1psFsE+3OK/hCjtfY254L9YyYd1uC3dv6hBNe9V6Ni//LniaPOi1L9MMpDikF3QvzhVe7hcMMi/sIusVy9Lv7/g2cR8SmusvwCOPdcm/4Y/gNAx9G71sz+g972GfIXCP/gGY5NBEMs/LAsEUIPN0T/cklbW5RLWP4waqVxIWNo/PKL74qqd3j/2FKe0hnHhP85Y0Pc3lOM/opz5Oum25T964CJ+mtnnP1IkTMFL/Ok/Kmh1BP0e7D8CrJ5HrkHuP+33Y8UvMvA/2Zn4ZohD8T/DO40I4VTyP6/dIao5ZvM/m3+2S5J39D+HIUvt6oj1P3PD345DmvY/X2V0MJyr9z9MBwnS9Lz4Pw==\",\"dtype\":\"float64\",\"order\":\"little\",\"shape\":[50]},\"top\":{\"__ndarray__\":\"M4hS+Eawjj8AAAAAAAAAAAAAAAAAAAAAM4hS+Eawjj8AAAAAAAAAACbmPTo1BKc/UIhS+Eawjj8ziFL4RrCOPzOIUvhGsI4/O+Y9OjUEpz8ziFL4RrC+PzOIUvhGsK4/IJUzWywusz8x5j06NQTHP629uMowGcU/5FF7ArMO1j8m5j06NQTXP2d6AHK3+dc/iyLNz2bI4D+wX82IQsXcP1vY67OlTeA/8ABxI6o44j9B3xR37ajjPybmPTo1BOc/5FF7ArMO5j+Cc9eub57kPwOjheG75Ok/xAea5vGT5T9sfdxBBovwPzKVM1ssLuM/o724yjAZ5T9OgSk1/1TrP+RRewKzDuY/vbaPB+m94T9vywpRwM/bP51srusnQ+E/lHoAcrf51z/eAHEjqjjSPy03SBk+2so/nWyu6ydDwT8glTNbLC7DPzOIUvhGsL4/M4hS+Eawrj9R5j06NQS3PzOIUvhGsJ4/AAAAAAAAAAAziFL4RrCOPzOIUvhGsI4/IJUzWywusz8XiFL4RrCOPw==\",\"dtype\":\"float64\",\"order\":\"little\",\"shape\":[50]}},\"selected\":{\"id\":\"1043\"},\"selection_policy\":{\"id\":\"1042\"}},\"id\":\"1023\",\"type\":\"ColumnDataSource\"},{\"attributes\":{\"background_fill_color\":\"#fafafa\",\"below\":[{\"id\":\"1209\"}],\"center\":[{\"id\":\"1212\"},{\"id\":\"1216\"},{\"id\":\"1241\"}],\"height\":400,\"left\":[{\"id\":\"1213\"}],\"renderers\":[{\"id\":\"1222\"},{\"id\":\"1228\"},{\"id\":\"1247\"}],\"title\":{\"id\":\"1199\"},\"toolbar\":{\"id\":\"1217\"},\"toolbar_location\":null,\"width\":400,\"x_range\":{\"id\":\"1201\"},\"x_scale\":{\"id\":\"1205\"},\"y_range\":{\"id\":\"1203\"},\"y_scale\":{\"id\":\"1207\"}},\"id\":\"1198\",\"subtype\":\"Figure\",\"type\":\"Plot\"},{\"attributes\":{},\"id\":\"1075\",\"type\":\"LinearScale\"},{\"attributes\":{\"coordinates\":null,\"group\":null,\"text\":\"Gamma Distribution (k=7.5, \\u03b8=1)\"},\"id\":\"1134\",\"type\":\"Title\"},{\"attributes\":{\"line_alpha\":0.2,\"line_color\":\"#ff8888\",\"line_width\":4,\"x\":{\"field\":\"x\"},\"y\":{\"field\":\"y\"}},\"id\":\"1162\",\"type\":\"Line\"},{\"attributes\":{\"axis_label\":\"Pr(x)\",\"coordinates\":null,\"formatter\":{\"id\":\"1167\"},\"group\":null,\"major_label_policy\":{\"id\":\"1168\"},\"ticker\":{\"id\":\"1149\"}},\"id\":\"1148\",\"type\":\"LinearAxis\"},{\"attributes\":{\"line_alpha\":0.7,\"line_color\":\"orange\",\"line_width\":2,\"x\":{\"field\":\"x\"},\"y\":{\"field\":\"y\"}},\"id\":\"1244\",\"type\":\"Line\"},{\"attributes\":{\"axis_label\":\"x\",\"coordinates\":null,\"formatter\":{\"id\":\"1170\"},\"group\":null,\"major_label_policy\":{\"id\":\"1171\"},\"ticker\":{\"id\":\"1145\"}},\"id\":\"1144\",\"type\":\"LinearAxis\"},{\"attributes\":{\"data\":{\"left\":{\"__ndarray__\":\"lcRW8h289z+IYyBnSvT9Pz0B9W07FgJAttBZqFEyBUAwoL7iZ04IQKhvIx1+agtAIj+IV5SGDkBOh/ZIVdEQQArvKGZgXxJAx1Zbg2vtE0CDvo2gdnsVQEAmwL2BCRdA/Y3y2oyXGEC59ST4lyUaQHZdVxWjsxtAMsWJMq5BHUDvLLxPuc8eQFZKdzbiLiBANH4Qxef1IEATsqlT7bwhQPHlQuLygyJA0BnccPhKI0CuTXX//REkQIyBDo4D2SRAa7WnHAmgJUBJ6UCrDmcmQCcd2jkULidABVFzyBn1J0DkhAxXH7woQMK4peUkgylAoOw+dCpKKkB/INgCMBErQF1UcZE12CtAO4gKIDufLEAavKOuQGYtQPjvPD1GLS5A1iPWy0v0LkC1V29aUbsvQMlFhHQrQTBAuN/QO66kMECneR0DMQgxQJcTasqzazFAhq22kTbPMUB1RwNZuTIyQGThTyA8ljJAU3uc5775MkBCFemuQV0zQDGvNXbEwDNAIUmCPUckNEAQ484Eyoc0QA==\",\"dtype\":\"float64\",\"order\":\"little\",\"shape\":[50]},\"right\":{\"__ndarray__\":\"iGMgZ0r0/T89AfVtOxYCQLbQWahRMgVAMKC+4mdOCECobyMdfmoLQCI/iFeUhg5ATof2SFXREEAK7yhmYF8SQMdWW4Nr7RNAg76NoHZ7FUBAJsC9gQkXQP2N8tqMlxhAufUk+JclGkB2XVcVo7MbQDLFiTKuQR1A7yy8T7nPHkBWSnc24i4gQDR+EMXn9SBAE7KpU+28IUDx5ULi8oMiQNAZ3HD4SiNArk11//0RJECMgQ6OA9kkQGu1pxwJoCVASelAqw5nJkAnHdo5FC4nQAVRc8gZ9SdA5IQMVx+8KEDCuKXlJIMpQKDsPnQqSipAfyDYAjARK0BdVHGRNdgrQDuICiA7nyxAGryjrkBmLUD47zw9Ri0uQNYj1stL9C5AtVdvWlG7L0DJRYR0K0EwQLjf0DuupDBAp3kdAzEIMUCXE2rKs2sxQIattpE2zzFAdUcDWbkyMkBk4U8gPJYyQFN7nOe++TJAQhXprkFdM0AxrzV2xMAzQCFJgj1HJDRAEOPOBMqHNED/fBvMTOs0QA==\",\"dtype\":\"float64\",\"order\":\"little\",\"shape\":[50]},\"top\":{\"__ndarray__\":\"wSl5Caacfz/ZG6ZbGRN1P8YpeQmmnI8/0humWxkTpT9b3xqHfLWnP1hYMTC2cLI/Td8ah3y1tz9b3xqHfLW3P7speQmmnL8/0Cl5Caacvz/H8J+VAsXCP0K0FMFlZ8U/kVJaKzQWxD/ov8LKaRzCP98bplsZE8U/eSdUZR3IwT+8xZnP63bAPzKX4ajbor0/k9NsfXgAuz86EPhRFV64Pwi668XnwbM/ttNsfXgAuz+FJ1RlHcixPwi668XnwbM/W98ah3y1pz+m9naahB+hP559YPFKZKY/TFgxMLZwoj/QKXkJppyfP9eij7LfV4o/taKPst9Xij/QKXkJppx/P9ApeQmmnH8/pyl5Caacfz8AAAAAAAAAAN8bplsZE3U/xRumWxkTdT8AAAAAAAAAAAAAAAAAAAAAAAAAAAAAAACpG6ZbGRNlP98bplsZE2U/AAAAAAAAAAAAAAAAAAAAAN8bplsZE2U/3xumWxkTZT8AAAAAAAAAAAAAAAAAAAAAAAAAAAAAAADfG6ZbGRNlPw==\",\"dtype\":\"float64\",\"order\":\"little\",\"shape\":[50]}},\"selected\":{\"id\":\"1173\"},\"selection_policy\":{\"id\":\"1172\"}},\"id\":\"1153\",\"type\":\"ColumnDataSource\"},{\"attributes\":{\"coordinates\":null,\"data_source\":{\"id\":\"1243\"},\"glyph\":{\"id\":\"1244\"},\"group\":null,\"hover_glyph\":null,\"muted_glyph\":{\"id\":\"1246\"},\"nonselection_glyph\":{\"id\":\"1245\"},\"view\":{\"id\":\"1248\"}},\"id\":\"1247\",\"type\":\"GlyphRenderer\"},{\"attributes\":{\"bottom\":{\"value\":0},\"fill_alpha\":{\"value\":0.2},\"fill_color\":{\"value\":\"navy\"},\"hatch_alpha\":{\"value\":0.2},\"left\":{\"field\":\"left\"},\"line_alpha\":{\"value\":0.2},\"line_color\":{\"value\":\"white\"},\"right\":{\"field\":\"right\"},\"top\":{\"field\":\"top\"}},\"id\":\"1156\",\"type\":\"Quad\"},{\"attributes\":{},\"id\":\"1145\",\"type\":\"BasicTicker\"},{\"attributes\":{\"axis\":{\"id\":\"1144\"},\"coordinates\":null,\"grid_line_color\":\"white\",\"group\":null,\"ticker\":null},\"id\":\"1147\",\"type\":\"Grid\"},{\"attributes\":{\"data\":{\"x\":{\"__ndarray__\":\"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\",\"dtype\":\"float64\",\"order\":\"little\",\"shape\":[1000]},\"y\":{\"__ndarray__\":\"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\",\"dtype\":\"float64\",\"order\":\"little\",\"shape\":[1000]}},\"selected\":{\"id\":\"1261\"},\"selection_policy\":{\"id\":\"1260\"}},\"id\":\"1243\",\"type\":\"ColumnDataSource\"},{\"attributes\":{},\"id\":\"1142\",\"type\":\"LinearScale\"},{\"attributes\":{\"coordinates\":null,\"data_source\":{\"id\":\"1153\"},\"glyph\":{\"id\":\"1154\"},\"group\":null,\"hover_glyph\":null,\"muted_glyph\":{\"id\":\"1156\"},\"nonselection_glyph\":{\"id\":\"1155\"},\"view\":{\"id\":\"1158\"}},\"id\":\"1157\",\"type\":\"GlyphRenderer\"},{\"attributes\":{\"source\":{\"id\":\"1243\"}},\"id\":\"1248\",\"type\":\"CDSView\"},{\"attributes\":{\"start\":0},\"id\":\"1138\",\"type\":\"DataRange1d\"},{\"attributes\":{},\"id\":\"1201\",\"type\":\"DataRange1d\"},{\"attributes\":{\"line_alpha\":0.2,\"line_color\":\"orange\",\"line_width\":2,\"x\":{\"field\":\"x\"},\"y\":{\"field\":\"y\"}},\"id\":\"1246\",\"type\":\"Line\"},{\"attributes\":{},\"id\":\"1175\",\"type\":\"Selection\"},{\"attributes\":{\"line_alpha\":0.1,\"line_color\":\"orange\",\"line_width\":2,\"x\":{\"field\":\"x\"},\"y\":{\"field\":\"y\"}},\"id\":\"1245\",\"type\":\"Line\"},{\"attributes\":{\"bottom\":{\"value\":0},\"fill_alpha\":{\"value\":0.1},\"fill_color\":{\"value\":\"navy\"},\"hatch_alpha\":{\"value\":0.1},\"left\":{\"field\":\"left\"},\"line_alpha\":{\"value\":0.1},\"line_color\":{\"value\":\"white\"},\"right\":{\"field\":\"right\"},\"top\":{\"field\":\"top\"}},\"id\":\"1220\",\"type\":\"Quad\"},{\"attributes\":{\"label\":{\"value\":\"PDF\"},\"renderers\":[{\"id\":\"1228\"}]},\"id\":\"1242\",\"type\":\"LegendItem\"},{\"attributes\":{\"label\":{\"value\":\"CDF\"},\"renderers\":[{\"id\":\"1247\"}]},\"id\":\"1262\",\"type\":\"LegendItem\"},{\"attributes\":{\"line_alpha\":0.2,\"line_color\":\"#ff8888\",\"line_width\":4,\"x\":{\"field\":\"x\"},\"y\":{\"field\":\"y\"}},\"id\":\"1227\",\"type\":\"Line\"},{\"attributes\":{},\"id\":\"1174\",\"type\":\"UnionRenderers\"},{\"attributes\":{\"axis\":{\"id\":\"1148\"},\"coordinates\":null,\"dimension\":1,\"grid_line_color\":\"white\",\"group\":null,\"ticker\":null},\"id\":\"1151\",\"type\":\"Grid\"},{\"attributes\":{\"coordinates\":null,\"group\":null,\"text\":\"Weibull Distribution (\\u03bb=1, k=1.25)\"},\"id\":\"1199\",\"type\":\"Title\"},{\"attributes\":{\"line_alpha\":0.1,\"line_color\":\"#ff8888\",\"line_width\":4,\"x\":{\"field\":\"x\"},\"y\":{\"field\":\"y\"}},\"id\":\"1226\",\"type\":\"Line\"},{\"attributes\":{\"axis_label\":\"Pr(x)\",\"coordinates\":null,\"formatter\":{\"id\":\"1232\"},\"group\":null,\"major_label_policy\":{\"id\":\"1233\"},\"ticker\":{\"id\":\"1214\"}},\"id\":\"1213\",\"type\":\"LinearAxis\"},{\"attributes\":{},\"id\":\"1149\",\"type\":\"BasicTicker\"},{\"attributes\":{\"axis_label\":\"x\",\"coordinates\":null,\"formatter\":{\"id\":\"1235\"},\"group\":null,\"major_label_policy\":{\"id\":\"1236\"},\"ticker\":{\"id\":\"1210\"}},\"id\":\"1209\",\"type\":\"LinearAxis\"},{\"attributes\":{},\"id\":\"1261\",\"type\":\"Selection\"},{\"attributes\":{},\"id\":\"1210\",\"type\":\"BasicTicker\"},{\"attributes\":{\"background_fill_color\":\"#fafafa\",\"below\":[{\"id\":\"1014\"}],\"center\":[{\"id\":\"1017\"},{\"id\":\"1021\"},{\"id\":\"1046\"}],\"height\":400,\"left\":[{\"id\":\"1018\"}],\"renderers\":[{\"id\":\"1027\"},{\"id\":\"1033\"},{\"id\":\"1052\"}],\"title\":{\"id\":\"1004\"},\"toolbar\":{\"id\":\"1022\"},\"toolbar_location\":null,\"width\":400,\"x_range\":{\"id\":\"1006\"},\"x_scale\":{\"id\":\"1010\"},\"y_range\":{\"id\":\"1008\"},\"y_scale\":{\"id\":\"1012\"}},\"id\":\"1003\",\"subtype\":\"Figure\",\"type\":\"Plot\"},{\"attributes\":{\"axis\":{\"id\":\"1209\"},\"coordinates\":null,\"grid_line_color\":\"white\",\"group\":null,\"ticker\":null},\"id\":\"1212\",\"type\":\"Grid\"},{\"attributes\":{},\"id\":\"1207\",\"type\":\"LinearScale\"},{\"attributes\":{\"bottom\":{\"value\":0},\"fill_alpha\":{\"value\":0.5},\"fill_color\":{\"value\":\"navy\"},\"hatch_alpha\":{\"value\":0.5},\"left\":{\"field\":\"left\"},\"line_alpha\":{\"value\":0.5},\"line_color\":{\"value\":\"white\"},\"right\":{\"field\":\"right\"},\"top\":{\"field\":\"top\"}},\"id\":\"1024\",\"type\":\"Quad\"},{\"attributes\":{},\"id\":\"1260\",\"type\":\"UnionRenderers\"},{\"attributes\":{\"start\":0},\"id\":\"1203\",\"type\":\"DataRange1d\"},{\"attributes\":{\"axis\":{\"id\":\"1213\"},\"coordinates\":null,\"dimension\":1,\"grid_line_color\":\"white\",\"group\":null,\"ticker\":null},\"id\":\"1216\",\"type\":\"Grid\"},{\"attributes\":{\"bottom\":{\"value\":0},\"fill_alpha\":{\"value\":0.5},\"fill_color\":{\"value\":\"navy\"},\"hatch_alpha\":{\"value\":0.5},\"left\":{\"field\":\"left\"},\"line_alpha\":{\"value\":0.5},\"line_color\":{\"value\":\"white\"},\"right\":{\"field\":\"right\"},\"top\":{\"field\":\"top\"}},\"id\":\"1154\",\"type\":\"Quad\"},{\"attributes\":{\"label\":{\"value\":\"CDF\"},\"renderers\":[{\"id\":\"1052\"}]},\"id\":\"1067\",\"type\":\"LegendItem\"},{\"attributes\":{},\"id\":\"1214\",\"type\":\"BasicTicker\"},{\"attributes\":{},\"id\":\"1217\",\"type\":\"Toolbar\"},{\"attributes\":{},\"id\":\"1235\",\"type\":\"BasicTickFormatter\"},{\"attributes\":{\"bottom\":{\"value\":0},\"fill_alpha\":{\"value\":0.2},\"fill_color\":{\"value\":\"navy\"},\"hatch_alpha\":{\"value\":0.2},\"left\":{\"field\":\"left\"},\"line_alpha\":{\"value\":0.2},\"line_color\":{\"value\":\"white\"},\"right\":{\"field\":\"right\"},\"top\":{\"field\":\"top\"}},\"id\":\"1221\",\"type\":\"Quad\"},{\"attributes\":{\"coordinates\":null,\"data_source\":{\"id\":\"1218\"},\"glyph\":{\"id\":\"1219\"},\"group\":null,\"hover_glyph\":null,\"muted_glyph\":{\"id\":\"1221\"},\"nonselection_glyph\":{\"id\":\"1220\"},\"view\":{\"id\":\"1223\"}},\"id\":\"1222\",\"type\":\"GlyphRenderer\"},{\"attributes\":{\"source\":{\"id\":\"1048\"}},\"id\":\"1053\",\"type\":\"CDSView\"},{\"attributes\":{},\"id\":\"1167\",\"type\":\"BasicTickFormatter\"},{\"attributes\":{\"source\":{\"id\":\"1218\"}},\"id\":\"1223\",\"type\":\"CDSView\"},{\"attributes\":{},\"id\":\"1236\",\"type\":\"AllLabels\"},{\"attributes\":{\"coordinates\":null,\"data_source\":{\"id\":\"1048\"},\"glyph\":{\"id\":\"1049\"},\"group\":null,\"hover_glyph\":null,\"muted_glyph\":{\"id\":\"1051\"},\"nonselection_glyph\":{\"id\":\"1050\"},\"view\":{\"id\":\"1053\"}},\"id\":\"1052\",\"type\":\"GlyphRenderer\"},{\"attributes\":{\"line_alpha\":0.2,\"line_color\":\"orange\",\"line_width\":2,\"x\":{\"field\":\"x\"},\"y\":{\"field\":\"y\"}},\"id\":\"1051\",\"type\":\"Line\"},{\"attributes\":{},\"id\":\"1105\",\"type\":\"BasicTickFormatter\"},{\"attributes\":{},\"id\":\"1106\",\"type\":\"AllLabels\"},{\"attributes\":{\"background_fill_color\":\"#fafafa\",\"below\":[{\"id\":\"1144\"}],\"center\":[{\"id\":\"1147\"},{\"id\":\"1151\"},{\"id\":\"1176\"}],\"height\":400,\"left\":[{\"id\":\"1148\"}],\"renderers\":[{\"id\":\"1157\"},{\"id\":\"1163\"},{\"id\":\"1182\"}],\"title\":{\"id\":\"1134\"},\"toolbar\":{\"id\":\"1152\"},\"toolbar_location\":null,\"width\":400,\"x_range\":{\"id\":\"1136\"},\"x_scale\":{\"id\":\"1140\"},\"y_range\":{\"id\":\"1138\"},\"y_scale\":{\"id\":\"1142\"}},\"id\":\"1133\",\"subtype\":\"Figure\",\"type\":\"Plot\"},{\"attributes\":{\"background_fill_color\":\"#fafafa\",\"below\":[{\"id\":\"1079\"}],\"center\":[{\"id\":\"1082\"},{\"id\":\"1086\"},{\"id\":\"1111\"}],\"height\":400,\"left\":[{\"id\":\"1083\"}],\"renderers\":[{\"id\":\"1092\"},{\"id\":\"1098\"},{\"id\":\"1117\"}],\"title\":{\"id\":\"1069\"},\"toolbar\":{\"id\":\"1087\"},\"toolbar_location\":null,\"width\":400,\"x_range\":{\"id\":\"1071\"},\"x_scale\":{\"id\":\"1075\"},\"y_range\":{\"id\":\"1073\"},\"y_scale\":{\"id\":\"1077\"}},\"id\":\"1068\",\"subtype\":\"Figure\",\"type\":\"Plot\"},{\"attributes\":{\"line_alpha\":0.7,\"line_color\":\"orange\",\"line_width\":2,\"x\":{\"field\":\"x\"},\"y\":{\"field\":\"y\"}},\"id\":\"1049\",\"type\":\"Line\"},{\"attributes\":{\"line_alpha\":0.1,\"line_color\":\"orange\",\"line_width\":2,\"x\":{\"field\":\"x\"},\"y\":{\"field\":\"y\"}},\"id\":\"1050\",\"type\":\"Line\"},{\"attributes\":{\"bottom\":{\"value\":0},\"fill_alpha\":{\"value\":0.5},\"fill_color\":{\"value\":\"navy\"},\"hatch_alpha\":{\"value\":0.5},\"left\":{\"field\":\"left\"},\"line_alpha\":{\"value\":0.5},\"line_color\":{\"value\":\"white\"},\"right\":{\"field\":\"right\"},\"top\":{\"field\":\"top\"}},\"id\":\"1089\",\"type\":\"Quad\"},{\"attributes\":{},\"id\":\"1107\",\"type\":\"UnionRenderers\"},{\"attributes\":{\"data\":{\"x\":{\"__ndarray__\":\"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\",\"dtype\":\"float64\",\"order\":\"little\",\"shape\":[1000]},\"y\":{\"__ndarray__\":\"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\",\"dtype\":\"float64\",\"order\":\"little\",\"shape\":[1000]}},\"selected\":{\"id\":\"1066\"},\"selection_policy\":{\"id\":\"1065\"}},\"id\":\"1048\",\"type\":\"ColumnDataSource\"},{\"attributes\":{},\"id\":\"1108\",\"type\":\"Selection\"},{\"attributes\":{},\"id\":\"1037\",\"type\":\"BasicTickFormatter\"},{\"attributes\":{\"axis\":{\"id\":\"1079\"},\"coordinates\":null,\"grid_line_color\":\"white\",\"group\":null,\"ticker\":null},\"id\":\"1082\",\"type\":\"Grid\"},{\"attributes\":{\"axis_label\":\"x\",\"coordinates\":null,\"formatter\":{\"id\":\"1105\"},\"group\":null,\"major_label_policy\":{\"id\":\"1106\"},\"ticker\":{\"id\":\"1080\"}},\"id\":\"1079\",\"type\":\"LinearAxis\"},{\"attributes\":{},\"id\":\"1038\",\"type\":\"AllLabels\"},{\"attributes\":{},\"id\":\"1080\",\"type\":\"BasicTicker\"},{\"attributes\":{\"axis_label\":\"Pr(x)\",\"coordinates\":null,\"formatter\":{\"id\":\"1102\"},\"group\":null,\"major_label_policy\":{\"id\":\"1103\"},\"ticker\":{\"id\":\"1084\"}},\"id\":\"1083\",\"type\":\"LinearAxis\"},{\"attributes\":{},\"id\":\"1077\",\"type\":\"LinearScale\"},{\"attributes\":{},\"id\":\"1040\",\"type\":\"BasicTickFormatter\"},{\"attributes\":{},\"id\":\"1041\",\"type\":\"AllLabels\"},{\"attributes\":{\"axis\":{\"id\":\"1083\"},\"coordinates\":null,\"dimension\":1,\"grid_line_color\":\"white\",\"group\":null,\"ticker\":null},\"id\":\"1086\",\"type\":\"Grid\"},{\"attributes\":{\"background_fill_color\":\"#fefefe\",\"coordinates\":null,\"group\":null,\"items\":[{\"id\":\"1047\"},{\"id\":\"1067\"}],\"location\":\"center_right\"},\"id\":\"1046\",\"type\":\"Legend\"},{\"attributes\":{},\"id\":\"1084\",\"type\":\"BasicTicker\"},{\"attributes\":{},\"id\":\"1087\",\"type\":\"Toolbar\"},{\"attributes\":{\"line_alpha\":0.1,\"line_color\":\"#ff8888\",\"line_width\":4,\"x\":{\"field\":\"x\"},\"y\":{\"field\":\"y\"}},\"id\":\"1031\",\"type\":\"Line\"},{\"attributes\":{\"source\":{\"id\":\"1094\"}},\"id\":\"1099\",\"type\":\"CDSView\"},{\"attributes\":{\"coordinates\":null,\"data_source\":{\"id\":\"1029\"},\"glyph\":{\"id\":\"1030\"},\"group\":null,\"hover_glyph\":null,\"muted_glyph\":{\"id\":\"1032\"},\"nonselection_glyph\":{\"id\":\"1031\"},\"view\":{\"id\":\"1034\"}},\"id\":\"1033\",\"type\":\"GlyphRenderer\"},{\"attributes\":{\"bottom\":{\"value\":0},\"fill_alpha\":{\"value\":0.1},\"fill_color\":{\"value\":\"navy\"},\"hatch_alpha\":{\"value\":0.1},\"left\":{\"field\":\"left\"},\"line_alpha\":{\"value\":0.1},\"line_color\":{\"value\":\"white\"},\"right\":{\"field\":\"right\"},\"top\":{\"field\":\"top\"}},\"id\":\"1090\",\"type\":\"Quad\"},{\"attributes\":{\"coordinates\":null,\"data_source\":{\"id\":\"1088\"},\"glyph\":{\"id\":\"1089\"},\"group\":null,\"hover_glyph\":null,\"muted_glyph\":{\"id\":\"1091\"},\"nonselection_glyph\":{\"id\":\"1090\"},\"view\":{\"id\":\"1093\"}},\"id\":\"1092\",\"type\":\"GlyphRenderer\"},{\"attributes\":{\"data\":{\"x\":{\"__ndarray__\":\"AAAAAAAAAMD6/lt/me//v/P9t/4y3/+/7fwTfszO/7/m+2/9Zb7/v+D6y3z/rf+/2vkn/Jid/7/T+IN7Mo3/v8333/rLfP+/xvY7emVs/7/A9Zf5/lv/v7r083iYS/+/s/NP+DE7/7+t8qt3yyr/v6bxB/dkGv+/oPBjdv4J/7+a77/1l/n+v5PuG3Ux6f6/je139MrY/r+G7NNzZMj+v4DrL/P9t/6/euqLcpen/r9z6efxMJf+v23oQ3HKhv6/Zuef8GN2/r9g5vtv/WX+v1nlV++WVf6/U+SzbjBF/r9N4w/uyTT+v0bia21jJP6/QOHH7PwT/r854CNslgP+vzPff+sv8/2/Ld7basni/b8m3TfqYtL9vyDck2n8wf2/Gdvv6JWx/b8T2ktoL6H9vwzZp+fIkP2/BtgDZ2KA/b8A11/m+2/9v/nVu2WVX/2/89QX5S5P/b/s03NkyD79v+bSz+NhLv2/4NErY/sd/b/Z0IfilA39v9PP42Eu/fy/zM4/4cfs/L/GzZtgYdz8v8DM99/6y/y/uctTX5S7/L+zyq/eLav8v6zJC17Hmvy/pshn3WCK/L+gx8Nc+nn8v5nGH9yTafy/k8V7Wy1Z/L+MxNfaxkj8v4bDM1pgOPy/gMKP2fkn/L95wetYkxf8v3PAR9gsB/y/bL+jV8b2+79mvv/WX+b7v2C9W1b51fu/Wby31ZLF+79TuxNVLLX7v0y6b9TFpPu/RrnLU1+U+79AuCfT+IP7vzm3g1KSc/u/M7bf0Stj+78stTtRxVL7vya0l9BeQvu/ILPzT/gx+78Zsk/PkSH7vxOxq04rEfu/DLAHzsQA+78Gr2NNXvD6vwCuv8z33/q/+awbTJHP+r/zq3fLKr/6v+yq00rErvq/5qkvyl2e+r/gqItJ9436v9mn58iQffq/06ZDSCpt+r/MpZ/Hw1z6v8ak+0ZdTPq/wKNXxvY7+r+5orNFkCv6v7KhD8UpG/q/rKBrRMMK+r+mn8fDXPr5v6CeI0P26fm/mZ1/wo/Z+b+SnNtBKcn5v4ybN8HCuPm/hpqTQFyo+b+Ame+/9Zf5v3mYSz+Ph/m/cpenvih3+b9slgM+wmb5v2aVX71bVvm/X5S7PPVF+b9Zkxe8jjX5v1KSczsoJfm/TJHPusEU+b9GkCs6WwT5vz+Ph7n08/i/OY7jOI7j+L8yjT+4J9P4vyyMmzfBwvi/Jov3tlqy+L8filM29KH4vxmJr7WNkfi/EogLNSeB+L8Mh2e0wHD4vwaGwzNaYPi//4Qfs/NP+L/5g3syjT/4v/KC17EmL/i/7IEzMcAe+L/mgI+wWQ74v99/6y/z/fe/2X5Hr4zt97/SfaMuJt33v8x8/62/zPe/xntbLVm897+/eres8qv3v7l5EyyMm/e/snhvqyWL97+sd8sqv3r3v6Z2J6pYave/n3WDKfJZ97+ZdN+oi0n3v5JzOyglOfe/jHKXp74o97+GcfMmWBj3v39wT6bxB/e/eG+rJYv39r9ybgelJOf2v2xtYyS+1va/Zmy/o1fG9r9faxsj8bX2v1hqd6KKpfa/UmnTISSV9r9MaC+hvYT2v0ZniyBXdPa/P2bnn/Bj9r84ZUMfilP2vzJkn54jQ/a/LGP7Hb0y9r8mYledViL2vx9hsxzwEfa/GGAPnIkB9r8SX2sbI/H1vwxex5q84PW/Bl0jGlbQ9b//W3+Z77/1v/ha2xiJr/W/8lk3mCKf9b/sWJMXvI71v+ZX75ZVfvW/31ZLFu9t9b/YVaeViF31v9JUAxUiTfW/zFNflLs89b/GUrsTVSz1v79RF5PuG/W/uFBzEogL9b+yT8+RIfv0v6xOKxG76vS/pk2HkFTa9L+fTOMP7sn0v5hLP4+HufS/kkqbDiGp9L+MSfeNupj0v4ZIUw1UiPS/f0evjO139L94RgsMh2f0v3JFZ4sgV/S/bETDCrpG9L9lQx+KUzb0v19CewntJfS/WEHXiIYV9L9SQDMIIAX0v0w/j4e59PO/RT7rBlPk878/PUeG7NPzvzg8owWGw/O/Mjv/hB+z878sOlsEuaLzvyU5t4NSkvO/HzgTA+yB878YN2+ChXHzvxI2ywEfYfO/DDUngbhQ878FNIMAUkDzv/8y33/rL/O/+DE7/4Qf87/yMJd+Hg/zv+wv8/23/vK/5S5PfVHu8r/eLav86t3yv9gsB3yEzfK/0itj+x298r/MKr96t6zyv8UpG/pQnPK/vih3eeqL8r+4J9P4g3vyv7ImL3gda/K/rCWL97Za8r+lJOd2UEryv54jQ/bpOfK/mCKfdYMp8r+SIfv0HBnyv4wgV3S2CPK/hR+z80/48b9+Hg9z6efxv3gda/KC1/G/chzHcRzH8b9sGyPxtbbxv2Uaf3BPpvG/Xhnb7+iV8b9YGDdvgoXxv1IXk+4bdfG/TBbvbbVk8b9FFUvtTlTxvz4Up2zoQ/G/OBMD7IEz8b8yEl9rGyPxvywRu+q0EvG/JRAXak4C8b8eD3Pp5/HwvxgOz2iB4fC/Eg0r6BrR8L8MDIdntMDwvwUL4+ZNsPC//gk/Zuef8L/4CJvlgI/wv/IH92Qaf/C/7AZT5LNu8L/lBa9jTV7wv94EC+PmTfC/2ANnYoA98L/SAsPhGS3wv8sBH2GzHPC/xQB74EwM8L98/62/zPfvv3D9Zb7/1u+/ZPsdvTK2779W+dW7ZZXvv0r3jbqYdO+/PPVFuctT778w8/23/jLvvyTxtbYxEu+/Fu9ttWTx7r8K7SW0l9Duv/zq3bLKr+6/8OiVsf2O7r/k5k2wMG7uv9bkBa9jTe6/yuK9rZYs7r+84HWsyQvuv7DeLav86u2/pNzlqS/K7b+W2p2oYqntv4rYVaeViO2/fNYNpshn7b9w1MWk+0btv2TSfaMuJu2/VtA1omEF7b9Kzu2glOTsvzzMpZ/Hw+y/MMpdnvqi7L8iyBWdLYLsvxbGzZtgYey/CsSFmpNA7L/8wT2Zxh/sv/C/9Zf5/uu/4r2tlize67/Wu2WVX73rv8q5HZSSnOu/vLfVksV767+wtY2R+Frrv6KzRZArOuu/lrH9jl4Z67+Kr7WNkfjqv3ytbYzE1+q/cKsli/e26r9iqd2JKpbqv1anlYhddeq/SqVNh5BU6r88owWGwzPqvzChvYT2Euq/Ip91gyny6b8WnS2CXNHpvwqb5YCPsOm//Jidf8KP6b/wllV+9W7pv+KUDX0oTum/1pLFe1st6b/IkH16jgzpv7yONXnB6+i/sIztd/TK6L+iiqV2J6rov5aIXXVaiei/iIYVdI1o6L98hM1ywEfov3CChXHzJui/YoA9cCYG6L9WfvVuWeXnv0h8rW2MxOe/PHplbL+j578weB1r8oLnvyJ21WklYue/FnSNaFhB578IckVniyDnv/xv/WW+/+a/8G21ZPHe5r/ia21jJL7mv9ZpJWJXnea/yGfdYIp85r+8ZZVfvVvmv7BjTV7wOua/omEFXSMa5r+WX71bVvnlv4hddVqJ2OW/fFstWby35b9wWeVX75blv2JXnVYiduW/VlVVVVVV5b9IUw1UiDTlvzxRxVK7E+W/ME99Ue7y5L8iTTVQIdLkvxZL7U5UseS/CEmlTYeQ5L/8Rl1Mum/kv+5EFUvtTuS/4kLNSSAu5L/WQIVIUw3kv8g+PUeG7OO/vDz1RbnL47+uOq1E7Krjv6I4ZUMfiuO/ljYdQlJp47+INNVAhUjjv3wyjT+4J+O/bjBFPusG479iLv08Hubiv1YstTtRxeK/SCptOoSk4r88KCU5t4Pivy4m3TfqYuK/IiSVNh1C4r8WIk01UCHivwggBTSDAOK//B29Mrbf4b/uG3Ux6b7hv+IZLTAcnuG/1hflLk994b/IFZ0tglzhv7wTVSy1O+G/rhENK+ga4b+iD8UpG/rgv5QNfShO2eC/iAs1J4G44L98Ce0ltJfgv24HpSTnduC/YgVdIxpW4L9UAxUiTTXgv0gBzSCAFOC/eP4JP2bn379c+nk8zKXfv0T26TkyZN+/KPJZN5gi378Q7sk0/uDev/jpOTJkn96/3OWpL8pd3r/E4RktMBzev6jdiSqW2t2/kNn5J/yY3b941WklYlfdv1zR2SLIFd2/RM1JIC7U3L8oybkdlJLcvxDFKRv6UNy/+MCZGGAP3L/cvAkWxs3bv8S4eRMsjNu/qLTpEJJK27+QsFkO+Ajbv3isyQtex9q/XKg5CcSF2r9EpKkGKkTavyigGQSQAtq/EJyJAfbA2b/4l/n+W3/Zv9yTafzBPdm/xI/Z+Sf82L+oi0n3jbrYv5CHufTzeNi/dIMp8lk32L9cf5nvv/XXv0R7Ce0ltNe/KHd56oty178Qc+nn8TDXv/RuWeVX79a/3GrJ4r2t1r/EZjngI2zWv6hiqd2JKta/kF4Z2+/o1b90WonYVafVv1xW+dW7ZdW/RFJp0yEk1b8oTtnQh+LUvxBKSc7toNS/9EW5y1Nf1L/cQSnJuR3Uv8Q9mcYf3NO/qDkJxIWa07+QNXnB61jTv3Qx6b5RF9O/XC1ZvLfV0r9EKcm5HZTSvyglObeDUtK/ECGptOkQ0r/0HBmyT8/Rv9wYia+1jdG/wBT5rBtM0b+oEGmqgQrRv5AM2afnyNC/dAhJpU2H0L9cBLmis0XQv0AAKaAZBNC/UPgxO/+Ez78g8BE2ywHPv+jn8TCXfs6/uN/RK2P7zb+A17EmL3jNv1DPkSH79My/IMdxHMdxzL/ovlEXk+7Lv7i2MRJfa8u/gK4RDSvoyr9QpvEH92TKvyCe0QLD4cm/6JWx/Y5eyb+4jZH4WtvIv4CFcfMmWMi/UH1R7vLUx78gdTHpvlHHv+hsEeSKzsa/uGTx3lZLxr+AXNHZIsjFv1BUsdTuRMW/IEyRz7rBxL/oQ3HKhj7Ev7g7UcVSu8O/gDMxwB44w79QKxG76rTCvyAj8bW2McK/6BrRsIKuwb+4ErGrTivBv4AKkaYaqMC/UAJxoeYkwL8w9KE4ZUO/v9DjYS79PL6/cNMhJJU2vb8Aw+EZLTC8v6CyoQ/FKbu/MKJhBV0jur/QkSH79By5v3CB4fCMFri/AHGh5iQQt7+gYGHcvAm2vzBQIdJUA7W/0D/hx+z8s79wL6G9hPayvwAfYbMc8LG/oA4hqbTpsL9g/ME9mcavv6DbQSnJua2/4LrBFPmsq78AmkEAKaCpv0B5wetYk6e/YFhB14iGpb+gN8HCuHmjv+AWQa7obKG/AOyBMzHAnr+AqoEKkaaav8BogeHwjJa/QCeBuFBzkr8AywEfYbOMvwBIAc0ggIS/AIoB9sCZeL8ABgGkgGZgvwAIAaSAZmA/AIoB9sCZeD8ASAHNIICEPwDLAR9hs4w/ACeBuFBzkj8AaYHh8IyWP4CqgQqRppo/AOyBMzHAnj/AFkGu6GyhP4A3wcK4eaM/gFhB14iGpT9AecHrWJOnPwCaQQApoKk/wLrBFPmsqz+A20EpybmtP4D8wT2Zxq8/oA4hqbTpsD8AH2GzHPCxP2Avob2E9rI/wD/hx+z8sz9AUCHSVAO1P6BgYdy8CbY/AHGh5iQQtz9ggeHwjBa4P8CRIfv0HLk/QKJhBV0juj+gsqEPxSm7PwDD4RktMLw/YNMhJJU2vT/A42Eu/Ty+P0D0oThlQ78/UAJxoeYkwD+ACpGmGqjAP7ASsatOK8E/4BrRsIKuwT8gI/G1tjHCP1ArEbvqtMI/gDMxwB44wz+wO1HFUrvDP+BDccqGPsQ/IEyRz7rBxD9QVLHU7kTFP4Bc0dkiyMU/sGTx3lZLxj/gbBHkis7GPyB1Mem+Ucc/UH1R7vLUxz+AhXHzJljIP7CNkfha28g/8JWx/Y5eyT8gntECw+HJP1Cm8Qf3ZMo/gK4RDSvoyj+wtjESX2vLP/C+UReT7ss/IMdxHMdxzD9Qz5Eh+/TMP4DXsSYveM0/sN/RK2P7zT/w5/Ewl37OPyDwETbLAc8/UPgxO/+Ezz9AACmgGQTQP1gEuaKzRdA/eAhJpU2H0D+QDNmn58jQP6gQaaqBCtE/wBT5rBtM0T/YGImvtY3RP/gcGbJPz9E/ECGptOkQ0j8oJTm3g1LSP0ApybkdlNI/WC1ZvLfV0j94Mem+URfTP5A1ecHrWNM/qDkJxIWa0z/APZnGH9zTP9hBKcm5HdQ/+EW5y1Nf1D8QSknO7aDUPyhO2dCH4tQ/QFJp0yEk1T9YVvnVu2XVP3haidhVp9U/kF4Z2+/o1T+oYqndiSrWP8BmOeAjbNY/2GrJ4r2t1j/4blnlV+/WPxBz6efxMNc/KHd56oty1z9AewntJbTXP1h/me+/9dc/eIMp8lk32D+Qh7n083jYP6iLSfeNutg/wI/Z+Sf82D/Yk2n8wT3ZP/iX+f5bf9k/EJyJAfbA2T8ooBkEkALaP0CkqQYqRNo/WKg5CcSF2j94rMkLXsfaP5CwWQ74CNs/qLTpEJJK2z/AuHkTLIzbP+C8CRbGzds/+MCZGGAP3D8QxSkb+lDcPyjJuR2Uktw/QM1JIC7U3D9g0dkiyBXdP3jVaSViV90/kNn5J/yY3T+o3YkqltrdP8DhGS0wHN4/4OWpL8pd3j/46TkyZJ/ePxDuyTT+4N4/KPJZN5gi3z9A9uk5MmTfP2D6eTzMpd8/eP4JP2bn3z9IAc0ggBTgP1QDFSJNNeA/YAVdIxpW4D9wB6Uk53bgP3wJ7SW0l+A/iAs1J4G44D+UDX0oTtngP6APxSkb+uA/sBENK+ga4T+8E1UstTvhP8gVnS2CXOE/1BflLk994T/gGS0wHJ7hP/AbdTHpvuE//B29Mrbf4T8IIAU0gwDiPxQiTTVQIeI/ICSVNh1C4j8wJt036mLiPzwoJTm3g+I/SCptOoSk4j9ULLU7UcXiP2Au/Twe5uI/cDBFPusG4z98Mo0/uCfjP4g01UCFSOM/lDYdQlJp4z+gOGVDH4rjP7A6rUTsquM/vDz1RbnL4z/IPj1HhuzjP9RAhUhTDeQ/4ELNSSAu5D/wRBVL7U7kP/xGXUy6b+Q/CEmlTYeQ5D8US+1OVLHkPyBNNVAh0uQ/ME99Ue7y5D88UcVSuxPlP0hTDVSINOU/VFVVVVVV5T9gV51WInblP3BZ5VfvluU/fFstWby35T+IXXVaidjlP5RfvVtW+eU/oGEFXSMa5j+wY01e8DrmP7xllV+9W+Y/yGfdYIp85j/UaSViV53mP+RrbWMkvuY/8G21ZPHe5j/8b/1lvv/mPwhyRWeLIOc/FHSNaFhB5z8kdtVpJWLnPzB4HWvyguc/PHplbL+j5z9IfK1tjMTnP1R+9W5Z5ec/ZIA9cCYG6D9wgoVx8yboP3yEzXLAR+g/iIYVdI1o6D+UiF11WonoP6SKpXYnqug/sIztd/TK6D+8jjV5wevoP8iQfXqODOk/1JLFe1st6T/klA19KE7pP/CWVX71buk//Jidf8KP6T8Im+WAj7DpPxSdLYJc0ek/JJ91gyny6T8wob2E9hLqPzyjBYbDM+o/SKVNh5BU6j9Up5WIXXXqP2Sp3Ykqluo/cKsli/e26j98rW2MxNfqP4ivtY2R+Oo/lLH9jl4Z6z+ks0WQKzrrP7C1jZH4Wus/vLfVksV76z/IuR2UkpzrP9S7ZZVfves/5L2tlize6z/wv/WX+f7rP/zBPZnGH+w/CMSFmpNA7D8Uxs2bYGHsPyTIFZ0tguw/MMpdnvqi7D88zKWfx8PsP0jO7aCU5Ow/VNA1omEF7T9k0n2jLibtP3DUxaT7Ru0/fNYNpshn7T+I2FWnlYjtP5Tanahiqe0/pNzlqS/K7T+w3i2r/OrtP7zgdazJC+4/yOK9rZYs7j/Y5AWvY03uP+TmTbAwbu4/8OiVsf2O7j/86t2yyq/uPwjtJbSX0O4/GO9ttWTx7j8k8bW2MRLvPzDz/bf+Mu8/PPVFuctT7z9I9426mHTvP1j51btlle8/ZPsdvTK27z9w/WW+/9bvP3z/rb/M9+8/xAB74EwM8D/MAR9hsxzwP9ICw+EZLfA/2ANnYoA98D/eBAvj5k3wP+QFr2NNXvA/7AZT5LNu8D/yB/dkGn/wP/gIm+WAj/A//gk/Zuef8D8EC+PmTbDwPwwMh2e0wPA/Eg0r6BrR8D8YDs9ogeHwPx4Pc+nn8fA/JBAXak4C8T8sEbvqtBLxPzISX2sbI/E/OBMD7IEz8T8+FKds6EPxP0QVS+1OVPE/TBbvbbVk8T9SF5PuG3XxP1gYN2+ChfE/Xhnb7+iV8T9kGn9wT6bxP2wbI/G1tvE/chzHcRzH8T94HWvygtfxP34eD3Pp5/E/hB+z80/48T+MIFd0tgjyP5Ih+/QcGfI/mCKfdYMp8j+eI0P26TnyP6Qk53ZQSvI/rCWL97Za8j+yJi94HWvyP7gn0/iDe/I/vih3eeqL8j/EKRv6UJzyP8wqv3q3rPI/0itj+x298j/YLAd8hM3yP94tq/zq3fI/5C5PfVHu8j/sL/P9t/7yP/Iwl34eD/M/+DE7/4Qf8z/+Mt9/6y/zPwQ0gwBSQPM/DDUngbhQ8z8SNssBH2HzPxg3b4KFcfM/HjgTA+yB8z8mObeDUpLzPyw6WwS5ovM/Mjv/hB+z8z84PKMFhsPzPz49R4bs0/M/Rj7rBlPk8z9MP4+HufTzP1JAMwggBfQ/WEHXiIYV9D9eQnsJ7SX0P2ZDH4pTNvQ/bETDCrpG9D9yRWeLIFf0P3hGCwyHZ/Q/fkevjO139D+GSFMNVIj0P4xJ9426mPQ/kkqbDiGp9D+YSz+Ph7n0P55M4w/uyfQ/pk2HkFTa9D+sTisRu+r0P7JPz5Eh+/Q/uFBzEogL9T++UReT7hv1P8ZSuxNVLPU/zFNflLs89T/SVAMVIk31P9hVp5WIXfU/3lZLFu9t9T/mV++WVX71P+xYkxe8jvU/8lk3mCKf9T/4WtsYia/1P/5bf5nvv/U/Bl0jGlbQ9T8MXseavOD1PxJfaxsj8fU/GGAPnIkB9j8eYbMc8BH2PyZiV51WIvY/LGP7Hb0y9j8yZJ+eI0P2PzhlQx+KU/Y/Pmbnn/Bj9j9GZ4sgV3T2P0xoL6G9hPY/UmnTISSV9j9YaneiiqX2P15rGyPxtfY/Zmy/o1fG9j9sbWMkvtb2P3JuB6Uk5/Y/eG+rJYv39j9+cE+m8Qf3P4Zx8yZYGPc/jHKXp74o9z+SczsoJTn3P5h036iLSfc/oHWDKfJZ9z+mdieqWGr3P6x3yyq/evc/snhvqyWL9z+4eRMsjJv3P8B6t6zyq/c/xntbLVm89z/MfP+tv8z3P9J9oy4m3fc/2H5Hr4zt9z/gf+sv8/33P+aAj7BZDvg/7IEzMcAe+D/ygtexJi/4P/iDezKNP/g/AIUfs/NP+D8GhsMzWmD4PwyHZ7TAcPg/EogLNSeB+D8Yia+1jZH4PyCKUzb0ofg/Jov3tlqy+D8sjJs3wcL4PzKNP7gn0/g/OI7jOI7j+D9Aj4e59PP4P0aQKzpbBPk/TJHPusEU+T9SknM7KCX5P1iTF7yONfk/YJS7PPVF+T9mlV+9W1b5P2yWAz7CZvk/cpenvih3+T94mEs/j4f5P4CZ77/1l/k/hpqTQFyo+T+MmzfBwrj5P5Kc20Epyfk/mJ1/wo/Z+T+gniND9un5P6afx8Nc+vk/rKBrRMMK+j+yoQ/FKRv6P7iis0WQK/o/wKNXxvY7+j/GpPtGXUz6P8yln8fDXPo/0qZDSCpt+j/Yp+fIkH36P+Coi0n3jfo/5qkvyl2e+j/sqtNKxK76P/Krd8sqv/o/+KwbTJHP+j8Arr/M99/6PwavY01e8Po/DLAHzsQA+z8SsatOKxH7PxiyT8+RIfs/ILPzT/gx+z8mtJfQXkL7Pyy1O1HFUvs/Mrbf0Stj+z84t4NSknP7P0C4J9P4g/s/RrnLU1+U+z9Mum/UxaT7P1K7E1Ustfs/Wry31ZLF+z9gvVtW+dX7P2a+/9Zf5vs/bL+jV8b2+z9ywEfYLAf8P3rB61iTF/w/gMKP2fkn/D+GwzNaYDj8P4zE19rGSPw/ksV7Wy1Z/D+axh/ck2n8P6DHw1z6efw/pshn3WCK/D+syQtex5r8P7LKr94tq/w/ustTX5S7/D/AzPff+sv8P8bNm2Bh3Pw/zM4/4cfs/D/Sz+NhLv38P9rQh+KUDf0/4NErY/sd/T/m0s/jYS79P+zTc2TIPv0/8tQX5S5P/T/61btllV/9PwDXX+b7b/0/BtgDZ2KA/T8M2afnyJD9PxLaS2gvof0/Gtvv6JWx/T8g3JNp/MH9PybdN+pi0v0/LN7basni/T8y33/rL/P9PzrgI2yWA/4/QOHH7PwT/j9G4mttYyT+P0zjD+7JNP4/UuSzbjBF/j9a5VfvllX+P2Dm+2/9Zf4/Zuef8GN2/j9s6ENxyob+P3Lp5/Ewl/4/euqLcpen/j+A6y/z/bf+P4bs03NkyP4/jO139MrY/j+S7ht1Men+P5rvv/WX+f4/oPBjdv4J/z+m8Qf3ZBr/P6zyq3fLKv8/svNP+DE7/z+69PN4mEv/P8D1l/n+W/8/xvY7emVs/z/M99/6y3z/P9T4g3syjf8/2vkn/Jid/z/g+st8/63/P+b7b/1lvv8/7PwTfszO/z/0/bf+Mt//P/r+W3+Z7/8/AAAAAAAAAEA=\",\"dtype\":\"float64\",\"order\":\"little\",\"shape\":[1000]},\"y\":{\"__ndarray__\":\"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\",\"dtype\":\"float64\",\"order\":\"little\",\"shape\":[1000]}},\"selected\":{\"id\":\"1045\"},\"selection_policy\":{\"id\":\"1044\"}},\"id\":\"1029\",\"type\":\"ColumnDataSource\"},{\"attributes\":{\"bottom\":{\"value\":0},\"fill_alpha\":{\"value\":0.2},\"fill_color\":{\"value\":\"navy\"},\"hatch_alpha\":{\"value\":0.2},\"left\":{\"field\":\"left\"},\"line_alpha\":{\"value\":0.2},\"line_color\":{\"value\":\"white\"},\"right\":{\"field\":\"right\"},\"top\":{\"field\":\"top\"}},\"id\":\"1091\",\"type\":\"Quad\"},{\"attributes\":{},\"id\":\"1109\",\"type\":\"UnionRenderers\"},{\"attributes\":{\"line_alpha\":0.7,\"line_color\":\"#ff8888\",\"line_width\":4,\"x\":{\"field\":\"x\"},\"y\":{\"field\":\"y\"}},\"id\":\"1030\",\"type\":\"Line\"},{\"attributes\":{\"line_alpha\":0.7,\"line_color\":\"#ff8888\",\"line_width\":4,\"x\":{\"field\":\"x\"},\"y\":{\"field\":\"y\"}},\"id\":\"1095\",\"type\":\"Line\"},{\"attributes\":{\"source\":{\"id\":\"1029\"}},\"id\":\"1034\",\"type\":\"CDSView\"},{\"attributes\":{\"axis\":{\"id\":\"1018\"},\"coordinates\":null,\"dimension\":1,\"grid_line_color\":\"white\",\"group\":null,\"ticker\":null},\"id\":\"1021\",\"type\":\"Grid\"},{\"attributes\":{},\"id\":\"1110\",\"type\":\"Selection\"},{\"attributes\":{\"axis_label\":\"Pr(x)\",\"coordinates\":null,\"formatter\":{\"id\":\"1037\"},\"group\":null,\"major_label_policy\":{\"id\":\"1038\"},\"ticker\":{\"id\":\"1019\"}},\"id\":\"1018\",\"type\":\"LinearAxis\"},{\"attributes\":{\"label\":{\"value\":\"PDF\"},\"renderers\":[{\"id\":\"1033\"}]},\"id\":\"1047\",\"type\":\"LegendItem\"},{\"attributes\":{\"line_alpha\":0.2,\"line_color\":\"#ff8888\",\"line_width\":4,\"x\":{\"field\":\"x\"},\"y\":{\"field\":\"y\"}},\"id\":\"1032\",\"type\":\"Line\"},{\"attributes\":{\"coordinates\":null,\"data_source\":{\"id\":\"1094\"},\"glyph\":{\"id\":\"1095\"},\"group\":null,\"hover_glyph\":null,\"muted_glyph\":{\"id\":\"1097\"},\"nonselection_glyph\":{\"id\":\"1096\"},\"view\":{\"id\":\"1099\"}},\"id\":\"1098\",\"type\":\"GlyphRenderer\"},{\"attributes\":{\"coordinates\":null,\"group\":null,\"text\":\"Normal Distribution (\\u03bc=0, \\u03c3=0.5)\"},\"id\":\"1004\",\"type\":\"Title\"},{\"attributes\":{},\"id\":\"1103\",\"type\":\"AllLabels\"},{\"attributes\":{\"axis_label\":\"x\",\"coordinates\":null,\"formatter\":{\"id\":\"1040\"},\"group\":null,\"major_label_policy\":{\"id\":\"1041\"},\"ticker\":{\"id\":\"1015\"}},\"id\":\"1014\",\"type\":\"LinearAxis\"},{\"attributes\":{},\"id\":\"1012\",\"type\":\"LinearScale\"},{\"attributes\":{},\"id\":\"1019\",\"type\":\"BasicTicker\"},{\"attributes\":{\"source\":{\"id\":\"1023\"}},\"id\":\"1028\",\"type\":\"CDSView\"},{\"attributes\":{},\"id\":\"1022\",\"type\":\"Toolbar\"},{\"attributes\":{\"source\":{\"id\":\"1088\"}},\"id\":\"1093\",\"type\":\"CDSView\"},{\"attributes\":{\"bottom\":{\"value\":0},\"fill_alpha\":{\"value\":0.2},\"fill_color\":{\"value\":\"navy\"},\"hatch_alpha\":{\"value\":0.2},\"left\":{\"field\":\"left\"},\"line_alpha\":{\"value\":0.2},\"line_color\":{\"value\":\"white\"},\"right\":{\"field\":\"right\"},\"top\":{\"field\":\"top\"}},\"id\":\"1026\",\"type\":\"Quad\"},{\"attributes\":{\"label\":{\"value\":\"PDF\"},\"renderers\":[{\"id\":\"1098\"}]},\"id\":\"1112\",\"type\":\"LegendItem\"},{\"attributes\":{\"coordinates\":null,\"data_source\":{\"id\":\"1023\"},\"glyph\":{\"id\":\"1024\"},\"group\":null,\"hover_glyph\":null,\"muted_glyph\":{\"id\":\"1026\"},\"nonselection_glyph\":{\"id\":\"1025\"},\"view\":{\"id\":\"1028\"}},\"id\":\"1027\",\"type\":\"GlyphRenderer\"},{\"attributes\":{\"line_alpha\":0.2,\"line_color\":\"#ff8888\",\"line_width\":4,\"x\":{\"field\":\"x\"},\"y\":{\"field\":\"y\"}},\"id\":\"1097\",\"type\":\"Line\"},{\"attributes\":{\"line_alpha\":0.1,\"line_color\":\"#ff8888\",\"line_width\":4,\"x\":{\"field\":\"x\"},\"y\":{\"field\":\"y\"}},\"id\":\"1096\",\"type\":\"Line\"},{\"attributes\":{\"background_fill_color\":\"#fefefe\",\"coordinates\":null,\"group\":null,\"items\":[{\"id\":\"1112\"},{\"id\":\"1132\"}],\"location\":\"center_right\"},\"id\":\"1111\",\"type\":\"Legend\"},{\"attributes\":{},\"id\":\"1045\",\"type\":\"Selection\"},{\"attributes\":{},\"id\":\"1044\",\"type\":\"UnionRenderers\"},{\"attributes\":{\"background_fill_color\":\"#fefefe\",\"coordinates\":null,\"group\":null,\"items\":[{\"id\":\"1177\"},{\"id\":\"1197\"}],\"location\":\"center_right\"},\"id\":\"1176\",\"type\":\"Legend\"},{\"attributes\":{\"bottom\":{\"value\":0},\"fill_alpha\":{\"value\":0.1},\"fill_color\":{\"value\":\"navy\"},\"hatch_alpha\":{\"value\":0.1},\"left\":{\"field\":\"left\"},\"line_alpha\":{\"value\":0.1},\"line_color\":{\"value\":\"white\"},\"right\":{\"field\":\"right\"},\"top\":{\"field\":\"top\"}},\"id\":\"1025\",\"type\":\"Quad\"},{\"attributes\":{\"axis\":{\"id\":\"1014\"},\"coordinates\":null,\"grid_line_color\":\"white\",\"group\":null,\"ticker\":null},\"id\":\"1017\",\"type\":\"Grid\"},{\"attributes\":{},\"id\":\"1066\",\"type\":\"Selection\"},{\"attributes\":{},\"id\":\"1015\",\"type\":\"BasicTicker\"},{\"attributes\":{\"label\":{\"value\":\"PDF\"},\"renderers\":[{\"id\":\"1163\"}]},\"id\":\"1177\",\"type\":\"LegendItem\"},{\"attributes\":{},\"id\":\"1065\",\"type\":\"UnionRenderers\"},{\"attributes\":{\"data\":{\"x\":{\"__ndarray__\":\"LUMc6+I2Gj8tdG364JqAP+pXgheqgJA/vfXNseOzmD/JyQymjnOgP7OYMnMrjaQ/nGdYQMimqD+GNn4NZcCsP7gCUu0AbbA/LerkU895sj+i0Xe6nYa0Pxe5CiFsk7Y/i6CdhzqguD8AiDDuCK26P3Vvw1TXubw/6lZWu6XGvj8vn/QQumnAP+kSPkQhcME/pIaHd4h2wj9e+tCq73zDPxluGt5Wg8Q/0+FjEb6JxT+OVa1EJZDGP0jJ9neMlsc/Aj1Aq/OcyD+9sIneWqPJP3ck0xHCqco/MpgcRSmwyz/sC2Z4kLbMP6d/r6v3vM0/YfP43l7Dzj8cZ0ISxsnPP2vtxaIWaNA/SKdqPErr0D8lYQ/WfW7RPwMbtG+x8dE/4NRYCeV00j+9jv2iGPjSP5pIojxMe9M/eAJH1n/+0z9VvOtvs4HUPzJ2kAnnBNU/DzA1oxqI1T/s6dk8TgvWP8qjftaBjtY/p10jcLUR1z+EF8gJ6ZTXP2HRbKMcGNg/PosRPVCb2D8cRbbWgx7ZP/n+WnC3odk/1rj/Cesk2j+zcqSjHqjaP5EsST1SK9s/bubt1oWu2z9LoJJwuTHcPyhaNwrttNw/BRTcoyA43T/jzYA9VLvdP8CHJdeHPt4/nUHKcLvB3j96+24K70TfP1i1E6QiyN8/mjfcHqsl4D+JlK7rRGfgP3jxgLjeqOA/Zk5ThXjq4D9VqyVSEizhP0MI+B6sbeE/MmXK60Wv4T8hwpy43/DhPw8fb4V5MuI//ntBUhN04j/s2BMfrbXiP9s15utG9+I/ypK4uOA44z+474qFenrjP6dMXVIUvOM/lqkvH6794z+EBgLsRz/kP3Nj1LjhgOQ/YcCmhXvC5D9QHXlSFQTlPz96Sx+vReU/Ldcd7EiH5T8cNPC44sjlPwqRwoV8CuY/+e2UUhZM5j/oSmcfsI3mP9anOexJz+Y/xQQMueMQ5z+zYd6FfVLnP6K+sFIXlOc/kRuDH7HV5z9/eFXsShfoP27VJ7nkWOg/XDL6hX6a6D9Lj8xSGNzoPzrsnh+yHek/KElx7Etf6T8XpkO55aDpPwYDFoZ/4uk/9F/oUhkk6j/jvLofs2XqP9EZjexMp+o/wHZfuebo6j+v0zGGgCrrP50wBFMabOs/jI3WH7St6z966qjsTe/rP2lHe7nnMOw/WKRNhoFy7D9GASBTG7TsPzVe8h+19ew/I7vE7E437T8SGJe56HjtPwF1aYaCuu0/79E7Uxz87T/eLg4gtj3uP82L4OxPf+4/u+iyuenA7j+qRYWGgwLvP5iiV1MdRO8/h/8pILeF7z92XPzsUMfvP7Jc51x1BPA/KYtQQ0Il8D+hubkpD0bwPxjoIhDcZvA/jxaM9qiH8D8HRfXcdajwP35zXsNCyfA/9aHHqQ/q8D9t0DCQ3ArxP+T+mXapK/E/Wy0DXXZM8T/SW2xDQ23xP0qK1SkQjvE/wbg+EN2u8T8456f2qc/xP7AVEd128PE/J0R6w0MR8j+ecuOpEDLyPxahTJDdUvI/jc+1dqpz8j8E/h5dd5TyP3ssiENEtfI/81rxKRHW8j9qiVoQ3vbyP+G3w/aqF/M/WeYs3Xc48z/QFJbDRFnzP0dD/6kRevM/v3FokN6a8z82oNF2q7vzP63OOl143PM/Jf2jQ0X98z+cKw0qEh70PxNadhDfPvQ/iojf9qtf9D8Ct0jdeID0P3nlscNFofQ/8BMbqhLC9D9oQoSQ3+L0P99w7XasA/U/Vp9WXXkk9T/Ozb9DRkX1P0X8KCoTZvU/vCqSEOCG9T8zWfv2rKf1P6uHZN15yPU/IrbNw0bp9T+Z5DaqEwr2PxEToJDgKvY/iEEJd61L9j//b3Jdemz2P3ee20NHjfY/7sxEKhSu9j9l+60Q4c72P90pF/et7/Y/VFiA3XoQ9z/LhunDRzH3P0K1UqoUUvc/uuO7kOFy9z8xEiV3rpP3P6hAjl17tPc/IG/3Q0jV9z+XnWAqFfb3Pw7MyRDiFvg/hvoy9643+D/9KJzde1j4P3RXBcRIefg/64VuqhWa+D9jtNeQ4rr4P9riQHev2/g/URGqXXz8+D/JPxNESR35P0BufCoWPvk/t5zlEONe+T8vy073r3/5P6b5t918oPk/HSghxEnB+T+VVoqqFuL5PwyF85DjAvo/g7Ncd7Aj+j/64cVdfUT6P3IQL0RKZfo/6T6YKheG+j9gbQER5Kb6P9ibavewx/o/T8rT3X3o+j/G+DzESgn7Pz4npqoXKvs/tVUPkeRK+z8shHh3sWv7P6Sy4V1+jPs/G+FKREut+z+SD7QqGM77Pwk+HRHl7vs/gWyG97EP/D/4mu/dfjD8P2/JWMRLUfw/5/fBqhhy/D9eJiuR5ZL8P9VUlHeys/w/TYP9XX/U/D/EsWZETPX8PzvgzyoZFv0/sg45EeY2/T8qPaL3slf9P6FrC95/eP0/GJp0xEyZ/T+QyN2qGbr9Pwf3RpHm2v0/fiWwd7P7/T/2UxlegBz+P22CgkRNPf4/5LDrKhpe/j9c31QR537+P9MNvvezn/4/Sjwn3oDA/j/BapDETeH+PzmZ+aoaAv8/sMdikeci/z8n9st3tEP/P58kNV6BZP8/FlOeRE6F/z+NgQcrG6b/PwWwcBHoxv8/fN7Z97Tn/z96hiHvQAQAQLYdVmKnFABA8bSK1Q0lAEAtTL9IdDUAQGnj87vaRQBApHooL0FWAEDgEV2ip2YAQBypkRUOdwBAV0DGiHSHAECT1/r72pcAQM9uL29BqABACgZk4qe4AEBGnZhVDskAQII0zch02QBAvcsBPNvpAED5YjavQfoAQDX6aiKoCgFAcJGflQ4bAUCsKNQIdSsBQOe/CHzbOwFAI1c970FMAUBf7nFiqFwBQJqFptUObQFA1hzbSHV9AUAStA+8240BQE1LRC9CngFAieJ4oqiuAUDFea0VD78BQAAR4oh1zwFAPKgW/NvfAUB4P0tvQvABQLPWf+KoAAJA7220VQ8RAkArBenIdSECQGacHTzcMQJAojNSr0JCAkDeyoYiqVICQBliu5UPYwJAVfnvCHZzAkCRkCR83IMCQMwnWe9ClAJACL+NYqmkAkBDVsLVD7UCQH/t9kh2xQJAu4QrvNzVAkD2G2AvQ+YCQDKzlKKp9gJAbkrJFRAHA0Cp4f2IdhcDQOV4MvzcJwNAIRBnb0M4A0Bcp5viqUgDQJg+0FUQWQNA1NUEyXZpA0APbTk83XkDQEsEbq9DigNAh5uiIqqaA0DCMteVEKsDQP7JCwl3uwNAOmFAfN3LA0B1+HTvQ9wDQLGPqWKq7ANA7Sbe1RD9A0AovhJJdw0EQGRVR7zdHQRAn+x7L0QuBEDbg7Ciqj4EQBcb5RURTwRAUrIZiXdfBECOSU783W8EQMrggm9EgARABXi34qqQBEBBD+xVEaEEQH2mIMl3sQRAuD1VPN7BBED01ImvRNIEQDBsviKr4gRAawPzlRHzBECnmicJeAMFQOMxXHzeEwVAHsmQ70QkBUBaYMViqzQFQJb3+dURRQVA0Y4uSXhVBUANJmO83mUFQEm9ly9FdgVAhFTMoquGBUDA6wAWEpcFQPuCNYl4pwVANxpq/N63BUBzsZ5vRcgFQK5I0+Kr2AVA6t8HVhLpBUAmdzzJePkFQGEOcTzfCQZAnaWlr0UaBkDZPNoirCoGQBTUDpYSOwZAUGtDCXlLBkCMAnh831sGQMeZrO9FbAZAAzHhYqx8BkA/yBXWEo0GQHpfSkl5nQZAtvZ+vN+tBkDyjbMvRr4GQC0l6KKszgZAabwcFhPfBkClU1GJee8GQODqhfzf/wZAHIK6b0YQB0BXGe/irCAHQJOwI1YTMQdAz0dYyXlBB0AK34w84FEHQEZ2wa9GYgdAgg32Iq1yB0C9pCqWE4MHQPk7Xwl6kwdANdOTfOCjB0BwasjvRrQHQKwB/WKtxAdA6Jgx1hPVB0AjMGZJeuUHQF/Hmrzg9QdAm17PL0cGCEDW9QOjrRYIQBKNOBYUJwhATiRtiXo3CECJu6H84EcIQMVS1m9HWAhAAeoK461oCEA8gT9WFHkIQHgYdMl6iQhAs6+oPOGZCEDvRt2vR6oIQCveESOuughAZnVGlhTLCECiDHsJe9sIQN6jr3zh6whAGTvk70f8CEBV0hhjrgwJQJFpTdYUHQlAzACCSXstCUAImLa84T0JQEQv6y9ITglAf8Yfo65eCUC7XVQWFW8JQPf0iIl7fwlAMoy9/OGPCUBuI/JvSKAJQKq6JuOusAlA5VFbVhXBCUAh6Y/Je9EJQF2AxDzi4QlAmBf5r0jyCUDUri0jrwIKQBBGYpYVEwpAS92WCXwjCkCHdMt84jMKQMILAPBIRApA/qI0Y69UCkA6OmnWFWUKQHXRnUl8dQpAsWjSvOKFCkDt/wYwSZYKQCiXO6OvpgpAZC5wFha3CkCgxaSJfMcKQNtc2fzi1wpAF/QNcEnoCkBTi0Ljr/gKQI4id1YWCQtAyrmryXwZC0AGUeA84ykLQEHoFLBJOgtAfX9JI7BKC0C5Fn6WFlsLQPStsgl9awtAMEXnfON7C0Bs3BvwSYwLQKdzUGOwnAtA4wqF1hatC0AeorlJfb0LQFo57rzjzQtAltAiMEreC0DRZ1ejsO4LQA3/ixYX/wtASZbAiX0PDECELfX84x8MQMDEKXBKMAxA/Fte47BADEA385JWF1EMQHOKx8l9YQxAryH8PORxDEDquDCwSoIMQCZQZSOxkgxAYueZlhejDECdfs4JfrMMQNkVA33kwwxAFa038ErUDEBQRGxjseQMQIzboNYX9QxAyHLVSX4FDUADCgq95BUNQD+hPjBLJg1Aejhzo7E2DUC2z6cWGEcNQPJm3Il+Vw1ALf4Q/eRnDUBplUVwS3gNQKUseuOxiA1A4MOuVhiZDUAcW+PJfqkNQFjyFz3luQ1Ak4lMsEvKDUDPIIEjstoNQAu4tZYY6w1ARk/qCX/7DUCC5h595QsOQL59U/BLHA5A+RSIY7IsDkA1rLzWGD0OQHFD8Ul/TQ5ArNolveVdDkDocVowTG4OQCQJj6Oyfg5AX6DDFhmPDkCbN/iJf58OQNbOLP3lrw5AEmZhcEzADkBO/ZXjstAOQImUylYZ4Q5AxSv/yX/xDkABwzM95gEPQDxaaLBMEg9AePGcI7MiD0C0iNGWGTMPQO8fBgqAQw9AK7c6feZTD0BnTm/wTGQPQKLlo2OzdA9A3nzY1hmFD0AaFA1KgJUPQFWrQb3mpQ9AkUJ2ME22D0DN2aqjs8YPQAhx3xYa1w9ARAgUioDnD0CAn0j95vcPQF2bPrgmBBBA++bY8VkMEECZMnMrjRQQQDd+DWXAHBBA1MmnnvMkEEByFULYJi0QQBBh3BFaNRBArqx2S409EEBM+BCFwEUQQOpDq77zTRBAh49F+CZWEEAl298xWl4QQMMmemuNZhBAYXIUpcBuEED/va7e83YQQJwJSRgnfxBAOlXjUVqHEEDYoH2LjY8QQHbsF8XAlxBAFDiy/vOfEECyg0w4J6gQQE/P5nFasBBA7RqBq424EECLZhvlwMAQQCmytR70yBBAx/1PWCfREEBlSeqRWtkQQAKVhMuN4RBAoOAeBcHpEEA+LLk+9PEQQNx3U3gn+hBAesPtsVoCEUAYD4jrjQoRQLVaIiXBEhFAU6a8XvQaEUDx8VaYJyMRQI898dFaKxFALYmLC44zEUDK1CVFwTsRQGggwH70QxFABmxauCdMEUCkt/TxWlQRQEIDjyuOXBFA4E4pZcFkEUB9msOe9GwRQBvmXdgndRFAuTH4EVt9EUBXfZJLjoURQPXILIXBjRFAkxTHvvSVEUAwYGH4J54RQM6r+zFbphFAbPeVa46uEUAKQzClwbYRQKiOyt70vhFARtpkGCjHEUDjJf9RW88RQIFxmYuO1xFAH70zxcHfEUC9CM7+9OcRQFtUaDgo8BFA+J8Cclv4EUCW65yrjgASQDQ3N+XBCBJA0oLRHvUQEkBwzmtYKBkSQA4aBpJbIRJAq2Wgy44pEkBJsToFwjESQOf81D71ORJAhUhveChCEkAjlAmyW0oSQMHfo+uOUhJAXis+JcJaEkD8dthe9WISQJrCcpgoaxJAOA4N0ltzEkDWWacLj3sSQHSlQUXCgxJAEfHbfvWLEkCvPHa4KJQSQE2IEPJbnBJA69OqK4+kEkCJH0VlwqwSQCZr3571tBJAxLZ52Ci9EkBiAhQSXMUSQABOrkuPzRJAnplIhcLVEkA85eK+9d0SQNkwffgo5hJAd3wXMlzuEkAVyLFrj/YSQLMTTKXC/hJAUV/m3vUGE0DvqoAYKQ8TQIz2GlJcFxNAKkK1i48fE0DIjU/FwicTQGbZ6f71LxNABCWEOCk4E0CicB5yXEATQD+8uKuPSBNA3QdT5cJQE0B7U+0e9lgTQBmfh1gpYRNAt+ohklxpE0BUNrzLj3ETQPKBVgXDeRNAkM3wPvaBE0AuGYt4KYoTQMxkJbJckhNAarC/64+aE0AH/Fklw6ITQKVH9F72qhNAQ5OOmCmzE0Dh3ijSXLsTQH8qwwuQwxNAHXZdRcPLE0C6wfd+9tMTQFgNkrgp3BNA9lgs8lzkE0CUpMYrkOwTQDLwYGXD9BNA0Dv7nvb8E0Bth5XYKQUUQAvTLxJdDRRAqR7KS5AVFEBHamSFwx0UQOW1/r72JRRAggGZ+CkuFEAgTTMyXTYUQL6YzWuQPhRAXORnpcNGFED6LwLf9k4UQJh7nBgqVxRANcc2Ul1fFEDTEtGLkGcUQHFea8XDbxRAD6oF//Z3FECt9Z84KoAUQEtBOnJdiBRA6IzUq5CQFECG2G7lw5gUQCQkCR/3oBRAwm+jWCqpFEBguz2SXbEUQP4G2MuQuRRAm1JyBcTBFEA5ngw/98kUQNfppngq0hRAdTVBsl3aFEATgdvrkOIUQLDMdSXE6hRAThgQX/fyFEDsY6qYKvsUQIqvRNJdAxVAKPveC5ELFUDGRnlFxBMVQGOSE3/3GxVAAd6tuCokFUCfKUjyXSwVQD114iuRNBVA28B8ZcQ8FUB5DBef90QVQBZYsdgqTRVAtKNLEl5VFUBS7+VLkV0VQPA6gIXEZRVAjoYav/dtFUAs0rT4KnYVQMkdTzJefhVAZ2npa5GGFUAFtYOlxI4VQKMAHt/3lhVAQUy4GCufFUDel1JSXqcVQHzj7IuRrxVAGi+HxcS3FUC4eiH/978VQFbGuzgryBVA9BFWcl7QFUCRXfCrkdgVQC+piuXE4BVAzfQkH/joFUBrQL9YK/EVQAmMWZJe+RVAp9fzy5EBFkBEI44FxQkWQOJuKD/4ERZAgLrCeCsaFkAeBl2yXiIWQLxR9+uRKhZAWp2RJcUyFkD36Ctf+DoWQJU0xpgrQxZAM4Bg0l5LFkDRy/oLklMWQG8XlUXFWxZADGMvf/hjFkCqrsm4K2wWQEj6Y/JedBZA5kX+K5J8FkCEkZhlxYQWQCLdMp/4jBZAvyjN2CuVFkBddGcSX50WQPu/AUySpRZAmQuchcWtFkA3Vza/+LUWQNWi0PgrvhZAcu5qMl/GFkAQOgVsks4WQK6Fn6XF1hZATNE53/jeFkDqHNQYLOcWQIhoblJf7xZAJbQIjJL3FkDD/6LFxf8WQGFLPf/4BxdA/5bXOCwQF0Cd4nFyXxgXQDouDKySIBdA2Hmm5cUoF0B2xUAf+TAXQBQR21gsORdAslx1kl9BF0BQqA/MkkkXQO3zqQXGURdAiz9EP/lZF0Api954LGIXQMfWeLJfahdAZSIT7JJyF0ADbq0lxnoXQKC5R1/5ghdAPgXimCyLF0DcUHzSX5MXQHqcFgyTmxdAGOiwRcajF0C2M0t/+asXQFN/5bgstBdA8cp/8l+8F0CPFhosk8QXQC1itGXGzBdAy61On/nUF0Bo+ejYLN0XQAZFgxJg5RdApJAdTJPtF0BC3LeFxvUXQOAnUr/5/RdAfnPs+CwGGEAbv4YyYA4YQLkKIWyTFhhAV1a7pcYeGED1oVXf+SYYQJPt7xgtLxhAMTmKUmA3GEDOhCSMkz8YQGzQvsXGRxhAChxZ//lPGECoZ/M4LVgYQEazjXJgYBhA5P4nrJNoGECBSsLlxnAYQB+WXB/6eBhAveH2WC2BGEBbLZGSYIkYQPl4K8yTkRhAlsTFBceZGEA0EGA/+qEYQNJb+ngtqhhAcKeUsmCyGEAO8y7sk7oYQKw+ySXHwhhASYpjX/rKGEDn1f2YLdMYQIUhmNJg2xhAI20yDJTjGEDBuMxFx+sYQF8EZ3/68xhA/E8BuS38GECam5vyYAQZQDjnNSyUDBlA1jLQZccUGUB0fmqf+hwZQBLKBNktJRlArxWfEmEtGUBNYTlMlDUZQOus04XHPRlAifhtv/pFGUAnRAj5LU4ZQMWPojJhVhlAYts8bJReGUAAJ9elx2YZQJ5ycd/6bhlAPL4LGS53GUDaCaZSYX8ZQHdVQIyUhxlAFaHaxcePGUCz7HT/+pcZQFE4DzkuoBlA74OpcmGoGUCNz0OslLAZQCob3uXHuBlAyGZ4H/vAGUBmshJZLskZQAT+rJJh0RlAoklHzJTZGUBAleEFyOEZQN3gez/76RlAeywWeS7yGUAZeLCyYfoZQLfDSuyUAhpAVQ/lJcgKGkDzWn9f+xIaQJCmGZkuGxpALvKz0mEjGkDMPU4MlSsaQGqJ6EXIMxpACNWCf/s7GkClIB25LkQaQENst/JhTBpA4bdRLJVUGkB/A+xlyFwaQB1Php/7ZBpAu5og2S5tGkBY5roSYnUaQPYxVUyVfRpAlH3vhciFGkAyyYm/+40aQNAUJPkulhpAbmC+MmKeGkALrFhslaYaQKn38qXIrhpAR0ON3/u2GkDljicZL78aQIPawVJixxpAISZcjJXPGkC+cfbFyNcaQFy9kP/73xpA+ggrOS/oGkCYVMVyYvAaQDagX6yV+BpA0+v55cgAG0BxN5Qf/AgbQA+DLlkvERtArc7IkmIZG0BLGmPMlSEbQOll/QXJKRtAhrGXP/wxG0Ak/TF5LzobQMJIzLJiQhtAYJRm7JVKG0D+3wAmyVIbQJwrm1/8WhtAOXc1mS9jG0DXws/SYmsbQHUOagyWcxtAE1oERsl7G0CxpZ5//IMbQE/xOLkvjBtA7DzT8mKUG0CKiG0slpwbQCjUB2bJpBtAxh+in/ysG0BkazzZL7UbQAG31hJjvRtAnwJxTJbFG0A9TguGyc0bQNuZpb/81RtAeeU/+S/eG0AXMdoyY+YbQLR8dGyW7htAUsgOpsn2G0DwE6nf/P4bQI5fQxkwBxxALKvdUmMPHEDK9neMlhccQGdCEsbJHxxABY6s//wnHECj2UY5MDAcQEEl4XJjOBxA33B7rJZAHEB9vBXmyUgcQBoIsB/9UBxAuFNKWTBZHEBWn+SSY2EcQPTqfsyWaRxAkjYZBspxHEAvgrM//XkcQM3NTXkwghxAaxnosmOKHEAJZYLslpIcQKewHCbKmhxARfy2X/2iHEDiR1GZMKscQICT69JjsxxAHt+FDJe7HEC8KiBGysMcQFp2un/9yxxA+MFUuTDUHECVDe/yY9wcQDNZiSyX5BxA0aQjZsrsHEBv8L2f/fQcQA08WNkw/RxAq4fyEmQFHUBI04xMlw0dQOYeJ4bKFR1AhGrBv/0dHUAitlv5MCYdQMAB9jJkLh1AXU2QbJc2HUD7mCqmyj4dQJnkxN/9Rh1ANzBfGTFPHUDVe/lSZFcdQHPHk4yXXx1AEBMuxspnHUCuXsj//W8dQEyqYjkxeB1A6vX8cmSAHUCIQZesl4gdQCaNMebKkB1Aw9jLH/6YHUBhJGZZMaEdQP9vAJNkqR1AnbuazJexHUA7BzUGy7kdQNlSzz/+wR1Adp5peTHKHUAU6gOzZNIdQLI1nuyX2h1AUIE4JsviHUDuzNJf/uodQIsYbZkx8x1AKWQH02T7HUDHr6EMmAMeQGX7O0bLCx5AA0fWf/4THkChknC5MRweQD7eCvNkJB5A3CmlLJgsHkB6dT9myzQeQBjB2Z/+PB5Atgx02TFFHkBUWA4TZU0eQPGjqEyYVR5Aj+9ChstdHkAtO92//mUeQMuGd/kxbh5AadIRM2V2HkAHHqxsmH4eQKRpRqbLhh5AQrXg3/6OHkDgAHsZMpceQH5MFVNlnx5AHJivjJinHkC540nGy68eQFcv5P/+tx5A9Xp+OTLAHkCTxhhzZcgeQDESs6yY0B5Az11N5svYHkBsqecf/+AeQAr1gVky6R5AqEAck2XxHkBGjLbMmPkeQOTXUAbMAR9AgiPrP/8JH0Afb4V5MhIfQL26H7NlGh9AWwa67JgiH0D5UVQmzCofQJed7l//Mh9ANemImTI7H0DSNCPTZUMfQHCAvQyZSx9ADsxXRsxTH0CsF/J//1sfQEpjjLkyZB9A564m82VsH0CF+sAsmXQfQCNGW2bMfB9AwZH1n/+EH0Bf3Y/ZMo0fQP0oKhNmlR9AmnTETJmdH0A4wF6GzKUfQNYL+b//rR9AdFeT+TK2H0ASoy0zZr4fQLDux2yZxh9ATTpipszOH0Drhfzf/9YfQInRlhkz3x9AJx0xU2bnH0DFaMuMme8fQGO0ZcbM9x9AAAAAAAAAIEA=\",\"dtype\":\"float64\",\"order\":\"little\",\"shape\":[1000]},\"y\":{\"__ndarray__\":\"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\",\"dtype\":\"float64\",\"order\":\"little\",\"shape\":[1000]}},\"selected\":{\"id\":\"1110\"},\"selection_policy\":{\"id\":\"1109\"}},\"id\":\"1094\",\"type\":\"ColumnDataSource\"},{\"attributes\":{},\"id\":\"1102\",\"type\":\"BasicTickFormatter\"}],\"root_ids\":[\"1319\"]},\"title\":\"Bokeh Application\",\"version\":\"2.4.3\"}};\n",
       "  const render_items = [{\"docid\":\"2306bd8c-8227-4a5b-8a8a-9e46cea07b23\",\"root_ids\":[\"1319\"],\"roots\":{\"1319\":\"9c0333a3-5c50-4dcf-84c8-38135f67d39b\"}}];\n",
       "  root.Bokeh.embed.embed_items_notebook(docs_json, render_items);\n",
       "  }\n",
       "  if (root.Bokeh !== undefined) {\n",
       "    embed_document(root);\n",
       "  } else {\n",
       "    let attempts = 0;\n",
       "    const timer = setInterval(function(root) {\n",
       "      if (root.Bokeh !== undefined) {\n",
       "        clearInterval(timer);\n",
       "        embed_document(root);\n",
       "      } else {\n",
       "        attempts++;\n",
       "        if (attempts > 100) {\n",
       "          clearInterval(timer);\n",
       "          console.log(\"Bokeh: ERROR: Unable to run BokehJS code because BokehJS library is missing\");\n",
       "        }\n",
       "      }\n",
       "    }, 10, root)\n",
       "  }\n",
       "})(window);"
      ],
      "application/vnd.bokehjs_exec.v0+json": ""
     },
     "metadata": {
      "application/vnd.bokehjs_exec.v0+json": {
       "id": "1319"
      }
     },
     "output_type": "display_data"
    }
   ],
   "source": [
    "# import numpy as np\n",
    "import scipy.special\n",
    "\n",
    "# from bokeh.layouts import gridplot\n",
    "# from bokeh.plotting import figure, show\n",
    "\n",
    "\n",
    "def make_plot(title, hist, edges, x, pdf, cdf):\n",
    "    p = bk.figure(title=title, tools='', background_fill_color=\"#fafafa\")\n",
    "    p.quad(top=hist, bottom=0, left=edges[:-1], right=edges[1:],\n",
    "           fill_color=\"navy\", line_color=\"white\", alpha=0.5)\n",
    "    p.line(x, pdf, line_color=\"#ff8888\", line_width=4, alpha=0.7, legend_label=\"PDF\")\n",
    "    p.line(x, cdf, line_color=\"orange\", line_width=2, alpha=0.7, legend_label=\"CDF\")\n",
    "\n",
    "    p.y_range.start = 0\n",
    "    p.legend.location = \"center_right\"\n",
    "    p.legend.background_fill_color = \"#fefefe\"\n",
    "    p.xaxis.axis_label = 'x'\n",
    "    p.yaxis.axis_label = 'Pr(x)'\n",
    "    p.grid.grid_line_color=\"white\"\n",
    "    return p\n",
    "\n",
    "# Normal Distribution\n",
    "\n",
    "measured = sizes.copy()\n",
    "\n",
    "hist, edges = np.histogram(measured, density=True, bins=50)\n",
    "\n",
    "x = np.linspace(-2, 2, 1000)\n",
    "pdf = 1/(sigma * np.sqrt(2*np.pi)) * np.exp(-(x-mu)**2 / (2*sigma**2))\n",
    "cdf = (1+scipy.special.erf((x-mu)/np.sqrt(2*sigma**2)))/2\n",
    "\n",
    "p1 = make_plot(\"Normal Distribution (μ=0, σ=0.5)\", hist, edges, x, pdf, cdf)\n",
    "\n",
    "# Log-Normal Distribution\n",
    "\n",
    "mu, sigma = 0, 0.5\n",
    "\n",
    "measured = np.random.lognormal(mu, sigma, 1000)\n",
    "hist, edges = np.histogram(measured, density=True, bins=50)\n",
    "\n",
    "x = np.linspace(0.0001, 8.0, 1000)\n",
    "pdf = 1/(x* sigma * np.sqrt(2*np.pi)) * np.exp(-(np.log(x)-mu)**2 / (2*sigma**2))\n",
    "cdf = (1+scipy.special.erf((np.log(x)-mu)/(np.sqrt(2)*sigma)))/2\n",
    "\n",
    "p2 = make_plot(\"Log Normal Distribution (μ=0, σ=0.5)\", hist, edges, x, pdf, cdf)\n",
    "\n",
    "# Gamma Distribution\n",
    "\n",
    "k, theta = 7.5, 1.0\n",
    "\n",
    "measured = np.random.gamma(k, theta, 1000)\n",
    "hist, edges = np.histogram(measured, density=True, bins=50)\n",
    "\n",
    "x = np.linspace(0.0001, 20.0, 1000)\n",
    "pdf = x**(k-1) * np.exp(-x/theta) / (theta**k * scipy.special.gamma(k))\n",
    "cdf = scipy.special.gammainc(k, x/theta)\n",
    "\n",
    "p3 = make_plot(\"Gamma Distribution (k=7.5, θ=1)\", hist, edges, x, pdf, cdf)\n",
    "\n",
    "# Weibull Distribution\n",
    "\n",
    "lam, k = 1, 1.25\n",
    "measured = lam*(-np.log(np.random.uniform(0, 1, 1000)))**(1/k)\n",
    "hist, edges = np.histogram(measured, density=True, bins=50)\n",
    "\n",
    "x = np.linspace(0.0001, 8, 1000)\n",
    "pdf = (k/lam)*(x/lam)**(k-1) * np.exp(-(x/lam)**k)\n",
    "cdf = 1 - np.exp(-(x/lam)**k)\n",
    "\n",
    "p4 = make_plot(\"Weibull Distribution (λ=1, k=1.25)\", hist, edges, x, pdf, cdf)\n",
    "\n",
    "bk.show(bk.gridplot([p1,p2,p3,p4], ncols=2, width=400, height=400, toolbar_location=None))"
   ]
  },
  {
   "cell_type": "code",
   "execution_count": null,
   "id": "b440f680-0b1f-440a-9b6c-a091248a2619",
   "metadata": {},
   "outputs": [],
   "source": []
  },
  {
   "cell_type": "code",
   "execution_count": null,
   "id": "17239e76-4066-4bbf-94bf-84c2c5a8e799",
   "metadata": {},
   "outputs": [],
   "source": []
  },
  {
   "cell_type": "code",
   "execution_count": null,
   "id": "c79eb12e-ef92-41e8-a6dd-a66684552488",
   "metadata": {},
   "outputs": [],
   "source": []
  },
  {
   "cell_type": "code",
   "execution_count": null,
   "id": "ec4fbcb2-e584-4122-9179-a550823a0b28",
   "metadata": {},
   "outputs": [],
   "source": []
  },
  {
   "cell_type": "code",
   "execution_count": null,
   "id": "73ced74e-2275-4d90-84a5-402be8340f87",
   "metadata": {
    "lines_to_next_cell": 2
   },
   "outputs": [],
   "source": []
  },
  {
   "cell_type": "code",
   "execution_count": 19,
   "id": "8e36aa9f-c6fe-4017-983f-c7800c609b2b",
   "metadata": {
    "lines_to_next_cell": 0,
    "tags": []
   },
   "outputs": [],
   "source": [
    "log = '''\n",
    "3/1037: 0.3%, 1:54:34 remaining                                                                     96_6 empty\n",
    "5/1037: 0.5%, 1:40:08 remaining                                                                     115_5 empty\n",
    "12/1037: 1.2%, 2:34:11 remaining                                                                    655_6 empty\n",
    "20/1037: 1.9%, 2:39:56 remaining                                                                    740_0 empty\n",
    "740_8 empty\n",
    "21/1037: 2.0%, 2:40:16 remaining                                                                    743_5 empty\n",
    "24/1037: 2.3%, 2:26:15 remaining                                                                    753_0 empty\n",
    "26/1037: 2.5%, 2:23:46 remaining                                                                    760_7 empty\n",
    "760_9 empty\n",
    "28/1037: 2.7%, 2:22:54 remaining                                                                    950_6 empty\n",
    "950_7 empty\n",
    "32/1037: 3.1%, 2:28:42 remaining                                                                    1036_5 empty\n",
    "35/1037: 3.4%, 2:25:56 remaining                                                                    1523_6 empty\n",
    "40/1037: 3.9%, 2:17:15 remaining                                                                    1877_6 empty\n",
    "1877_7 empty\n",
    "41/1037: 4.0%, 2:14:57 remaining                                                                    1883_6 empty\n",
    "42/1037: 4.1%, 2:13:01 remaining                                                                    1893_8 empty\n",
    "45/1037: 4.3%, 2:09:29 remaining                                                                    1948_7 empty\n",
    "51/1037: 4.9%, 2:09:19 remaining                                                                    1960_7 empty\n",
    "53/1037: 5.1%, 2:12:02 remaining                                                                    1965_9 empty\n",
    "55/1037: 5.3%, 2:11:32 remaining                                                                    1982_6 empty\n",
    "57/1037: 5.5%, 2:11:21 remaining                                                                    no silhs for 1985/2\n",
    "58/1037: 5.6%, 2:09:54 remaining                                                                    1986_2 empty\n",
    "1986_3 empty\n",
    "1986_5 empty\n",
    "no silhs for 1986/6\n",
    "62/1037: 6.0%, 2:11:18 remaining                                                                    2218_4 empty\n",
    "2218_9 empty\n",
    "63/1037: 6.1%, 2:10:54 remaining                                                                    2219_6 empty\n",
    "2219_7 empty\n",
    "64/1037: 6.2%, 2:10:25 remaining                                                                    2267_6 empty\n",
    "2267_7 empty\n",
    "65/1037: 6.3%, 2:09:05 remaining                                                                    2269_6 empty\n",
    "67/1037: 6.5%, 2:07:42 remaining                                                                    2271_6 empty\n",
    "69/1037: 6.7%, 2:05:42 remaining                                                                    no silhs for 2274/0\n",
    "2274_7 empty\n",
    "70/1037: 6.8%, 2:04:26 remaining                                                                    2276_7 empty\n",
    "72/1037: 6.9%, 2:03:13 remaining                                                                    2278_7 empty\n",
    "74/1037: 7.1%, 2:02:32 remaining                                                                    2281_6 empty\n",
    "75/1037: 7.2%, 2:01:56 remaining                                                                    2282_7 empty\n",
    "76/1037: 7.3%, 2:01:21 remaining                                                                    2284_6 empty\n",
    "77/1037: 7.4%, 2:01:10 remaining                                                                    2285_6 empty\n",
    "78/1037: 7.5%, 2:00:12 remaining                                                                    2286_6 empty\n",
    "2286_7 empty\n",
    "81/1037: 7.8%, 1:58:29 remaining                                                                    2290_7 empty\n",
    "82/1037: 7.9%, 1:57:48 remaining                                                                    2292_6 empty\n",
    "2292_7 empty\n",
    "83/1037: 8.0%, 1:57:04 remaining                                                                    2293_6 empty\n",
    "2293_7 empty\n",
    "86/1037: 8.3%, 1:55:08 remaining                                                                    2521_2 empty\n",
    "88/1037: 8.5%, 1:54:13 remaining                                                                    2535_4 empty\n",
    "2535_9 empty\n",
    "97/1037: 9.4%, 1:53:05 remaining                                                                    2574_6 empty\n",
    "102/1037: 9.8%, 1:51:08 remaining                                                                   2763_5 empty\n",
    "104/1037: 10.0%, 1:51:03 remaining                                                                  2784_6 empty\n",
    "2784_7 empty\n",
    "108/1037: 10.4%, 1:50:59 remaining                                                                  2792_3 empty\n",
    "111/1037: 10.7%, 1:50:30 remaining                                                                  2802_6 empty\n",
    "117/1037: 11.3%, 1:49:21 remaining                                                                  2808_6 empty\n",
    "123/1037: 11.9%, 1:50:47 remaining                                                                  2827_7 empty\n",
    "125/1037: 12.1%, 1:50:43 remaining                                                                  2830_5 empty\n",
    "130/1037: 12.5%, 1:51:12 remaining                                                                  3447_3 empty\n",
    "3447_8 empty\n",
    "131/1037: 12.6%, 1:50:53 remaining                                                                  3453_2 empty\n",
    "3453_3 empty\n",
    "3453_5 empty\n",
    "139/1037: 13.4%, 1:47:26 remaining                                                                  3725_5 empty\n",
    "142/1037: 13.7%, 1:47:00 remaining                                                                  3758_7 empty\n",
    "144/1037: 13.9%, 1:46:43 remaining                                                                  3765_5 empty\n",
    "146/1037: 14.1%, 1:46:24 remaining                                                                  3789_5 empty\n",
    "148/1037: 14.3%, 1:46:10 remaining                                                                  no silhs for 3793/3\n",
    "3793_6 empty\n",
    "3793_7 empty\n",
    "153/1037: 14.8%, 1:43:51 remaining                                                                  3818_2 empty\n",
    "154/1037: 14.9%, 1:43:24 remaining                                                                  3819_2 empty\n",
    "3819_5 empty\n",
    "3819_6 empty\n",
    "159/1037: 15.3%, 1:41:28 remaining                                                                  3839_6 empty\n",
    "160/1037: 15.4%, 1:41:11 remaining                                                                  3840_6 empty\n",
    "3840_8 empty\n",
    "161/1037: 15.5%, 1:40:45 remaining                                                                  3841_8 empty\n",
    "162/1037: 15.6%, 1:40:23 remaining                                                                  3842_5 empty\n",
    "165/1037: 15.9%, 1:40:04 remaining                                                                  3846_4 empty\n",
    "166/1037: 16.0%, 1:40:12 remaining                                                                  3851_9 empty\n",
    "169/1037: 16.3%, 1:39:36 remaining                                                                  3854_5 empty\n",
    "170/1037: 16.4%, 1:39:13 remaining                                                                  3855_0 empty\n",
    "3855_1 empty\n",
    "175/1037: 16.9%, 1:37:11 remaining                                                                  3900_6 empty\n",
    "3900_8 empty\n",
    "176/1037: 17.0%, 1:36:48 remaining                                                                  3913_4 empty\n",
    "192/1037: 18.5%, 1:32:40 remaining                                                                  4486_1 empty\n",
    "199/1037: 19.2%, 1:32:47 remaining                                                                  4505_5 empty\n",
    "206/1037: 19.9%, 1:31:50 remaining                                                                  4549_5 empty\n",
    "207/1037: 20.0%, 1:31:35 remaining                                                                  4550_5 empty\n",
    "210/1037: 20.3%, 1:30:45 remaining                                                                  4567_5 empty\n",
    "211/1037: 20.3%, 1:30:31 remaining                                                                  4582_4 empty\n",
    "4582_5 empty\n",
    "4582_8 empty\n",
    "4582_9 empty\n",
    "218/1037: 21.0%, 1:29:43 remaining                                                                  4603_0 empty\n",
    "4603_1 empty\n",
    "4603_3 empty\n",
    "219/1037: 21.1%, 1:29:21 remaining                                                                  4607_5 empty\n",
    "225/1037: 21.7%, 1:33:17 remaining                                                                  4651_5 empty\n",
    "227/1037: 21.9%, 1:33:01 remaining                                                                  4657_5 empty\n",
    "228/1037: 22.0%, 1:32:46 remaining                                                                  4674_3 empty\n",
    "4674_5 empty\n",
    "4674_8 empty\n",
    "232/1037: 22.4%, 1:32:30 remaining                                                                  4957_6 empty\n",
    "235/1037: 22.7%, 1:31:47 remaining                                                                  5190_5 empty\n",
    "236/1037: 22.8%, 1:31:40 remaining                                                                  5314_5 empty\n",
    "238/1037: 23.0%, 1:31:10 remaining                                                                  5364_2 empty\n",
    "241/1037: 23.2%, 1:30:47 remaining                                                                  5388_2 empty\n",
    "245/1037: 23.6%, 1:29:47 remaining                                                                  5411_4 empty\n",
    "249/1037: 24.0%, 1:29:17 remaining                                                                  5435_3 empty\n",
    "5435_5 empty\n",
    "5435_8 empty\n",
    "267/1037: 25.7%, 1:28:30 remaining                                                                  5590_4 empty\n",
    "270/1037: 26.0%, 1:27:47 remaining                                                                  5770_3 empty\n",
    "275/1037: 26.5%, 1:27:14 remaining                                                                  6103_6 empty\n",
    "276/1037: 26.6%, 1:27:07 remaining                                                                  6224_6 empty\n",
    "6224_7 empty\n",
    "277/1037: 26.7%, 1:26:51 remaining                                                                  no silhs for 6260/7\n",
    "278/1037: 26.8%, 1:26:35 remaining                                                                  no silhs for 6261/2\n",
    "6261_3 empty\n",
    "6261_5 empty\n",
    "279/1037: 26.9%, 1:26:15 remaining                                                                  6355_6 empty\n",
    "280/1037: 27.0%, 1:26:09 remaining                                                                  6397_0 empty\n",
    "6397_1 empty\n",
    "6397_2 empty\n",
    "6397_3 empty\n",
    "281/1037: 27.1%, 1:25:48 remaining                                                                  6399_0 empty\n",
    "6399_1 empty\n",
    "282/1037: 27.2%, 1:25:34 remaining                                                                  6400_0 empty\n",
    "283/1037: 27.3%, 1:25:20 remaining                                                                  6401_0 empty\n",
    "290/1037: 28.0%, 1:24:53 remaining                                                                  6433_6 empty\n",
    "292/1037: 28.2%, 1:24:36 remaining                                                                  6563_5 empty\n",
    "295/1037: 28.4%, 1:23:40 remaining                                                                  6576_6 empty\n",
    "6576_7 empty\n",
    "296/1037: 28.5%, 1:23:23 remaining                                                                  6577_1 empty\n",
    "297/1037: 28.6%, 1:23:09 remaining                                                                  6585_6 empty\n",
    "302/1037: 29.1%, 1:22:15 remaining                                                                  6654_5 empty\n",
    "303/1037: 29.2%, 1:22:02 remaining                                                                  6675_5 empty\n",
    "311/1037: 30.0%, 1:21:18 remaining                                                                  6707_2 empty\n",
    "6707_6 empty\n",
    "6707_8 empty\n",
    "318/1037: 30.7%, 1:21:00 remaining                                                                  7035_6 empty\n",
    "322/1037: 31.1%, 1:20:48 remaining                                                                  7039_6 empty\n",
    "323/1037: 31.1%, 1:20:41 remaining                                                                  7040_7 empty\n",
    "324/1037: 31.2%, 1:20:39 remaining                                                                  7041_6 empty\n",
    "325/1037: 31.3%, 1:20:27 remaining                                                                  7043_7 empty\n",
    "327/1037: 31.5%, 1:20:18 remaining                                                                  7045_6 empty\n",
    "329/1037: 31.7%, 1:20:06 remaining                                                                  7047_6 empty\n",
    "331/1037: 31.9%, 1:20:04 remaining                                                                  7049_1 empty\n",
    "7049_2 empty\n",
    "7049_6 empty\n",
    "7049_7 empty\n",
    "333/1037: 32.1%, 1:19:36 remaining                                                                  7152_6 empty\n",
    "346/1037: 33.4%, 1:16:49 remaining                                                                  no silhs for 7287/0\n",
    "347/1037: 33.5%, 1:16:37 remaining                                                                  no silhs for 7335/3\n",
    "7335_5 empty\n",
    "348/1037: 33.6%, 1:16:23 remaining                                                                  7346_6 empty\n",
    "349/1037: 33.7%, 1:16:15 remaining                                                                  7356_7 empty\n",
    "351/1037: 33.8%, 1:16:10 remaining                                                                  7422_6 empty\n",
    "352/1037: 33.9%, 1:15:59 remaining                                                                  7423_7 empty\n",
    "353/1037: 34.0%, 1:15:48 remaining                                                                  7424_6 empty\n",
    "354/1037: 34.1%, 1:15:36 remaining                                                                  7426_7 empty\n",
    "360/1037: 34.7%, 1:14:48 remaining                                                                  7473_6 empty\n",
    "361/1037: 34.8%, 1:14:36 remaining                                                                  7474_6 empty\n",
    "7474_7 empty\n",
    "362/1037: 34.9%, 1:14:23 remaining                                                                  7475_6 empty\n",
    "7475_7 empty\n",
    "363/1037: 35.0%, 1:14:10 remaining                                                                  7476_6 empty\n",
    "364/1037: 35.1%, 1:13:58 remaining                                                                  7477_6 empty\n",
    "7477_7 empty\n",
    "365/1037: 35.2%, 1:13:45 remaining                                                                  7478_7 empty\n",
    "366/1037: 35.3%, 1:13:34 remaining                                                                  no silhs for 7493/6\n",
    "7493_7 empty\n",
    "370/1037: 35.7%, 1:13:09 remaining                                                                  7585_6 empty\n",
    "375/1037: 36.2%, 1:12:34 remaining                                                                  no silhs for 7628/3\n",
    "7628_6 empty\n",
    "376/1037: 36.3%, 1:12:21 remaining                                                                  7629_6 empty\n",
    "7629_7 empty\n",
    "379/1037: 36.5%, 1:12:03 remaining                                                                  7640_6 empty\n",
    "380/1037: 36.6%, 1:12:00 remaining                                                                  7641_6 empty\n",
    "382/1037: 36.8%, 1:11:50 remaining                                                                  7683_6 empty\n",
    "404/1037: 39.0%, 1:08:28 remaining                                                                  no silhs for 8474/0\n",
    "8474_6 empty\n",
    "406/1037: 39.2%, 1:08:09 remaining                                                                  8564_6 empty\n",
    "414/1037: 39.9%, 1:07:08 remaining                                                                  no silhs for 8914/2\n",
    "8914_6 empty\n",
    "420/1037: 40.5%, 1:06:21 remaining                                                                  8939_5 empty\n",
    "424/1037: 40.9%, 1:05:43 remaining                                                                  8945_2 empty\n",
    "8945_5 empty\n",
    "425/1037: 41.0%, 1:05:32 remaining                                                                  8948_3 empty\n",
    "426/1037: 41.1%, 1:05:23 remaining                                                                  8949_2 empty\n",
    "427/1037: 41.2%, 1:05:14 remaining                                                                  8951_2 empty\n",
    "428/1037: 41.3%, 1:05:05 remaining                                                                  8959_5 empty\n",
    "433/1037: 41.8%, 1:04:22 remaining                                                                  9077_6 empty\n",
    "435/1037: 41.9%, 1:04:05 remaining                                                                  9079_6 empty\n",
    "437/1037: 42.1%, 1:03:44 remaining                                                                  9081_6 empty\n",
    "9081_7 empty\n",
    "438/1037: 42.2%, 1:03:34 remaining                                                                  9082_6 empty\n",
    "440/1037: 42.4%, 1:03:16 remaining                                                                  no silhs for 9084/3\n",
    "443/1037: 42.7%, 1:03:01 remaining                                                                  no silhs for 9111/3\n",
    "9111_6 empty\n",
    "451/1037: 43.5%, 1:02:53 remaining                                                                  9147_6 empty\n",
    "453/1037: 43.7%, 1:02:42 remaining                                                                  9326_3 empty\n",
    "464/1037: 44.7%, 1:02:26 remaining                                                                  9491_6 empty\n",
    "484/1037: 46.7%, 1:00:13 remaining                                                                  9598_3 empty\n",
    "485/1037: 46.8%, 1:00:09 remaining                                                                  9762_3 empty\n",
    "498/1037: 48.0%, 0:58:39 remaining                                                                  9951_2 empty\n",
    "500/1037: 48.2%, 0:58:26 remaining                                                                  9954_2 empty\n",
    "9954_5 empty\n",
    "502/1037: 48.4%, 0:58:11 remaining                                                                  9957_5 empty\n",
    "508/1037: 49.0%, 0:57:30 remaining                                                                  9976_7 empty\n",
    "509/1037: 49.1%, 0:57:22 remaining                                                                  no silhs for 10036/6\n",
    "510/1037: 49.2%, 0:57:14 remaining                                                                  10042_8 empty\n",
    "513/1037: 49.5%, 0:56:47 remaining                                                                  10087_6 empty\n",
    "518/1037: 50.0%, 0:56:46 remaining                                                                  10126_5 empty\n",
    "521/1037: 50.2%, 0:56:27 remaining                                                                  no silhs for 10687/2\n",
    "10687_6 empty\n",
    "525/1037: 50.6%, 0:56:04 remaining                                                                  10711_6 empty\n",
    "526/1037: 50.7%, 0:55:55 remaining                                                                  10712_1 empty\n",
    "10712_6 empty\n",
    "10712_7 empty\n",
    "527/1037: 50.8%, 0:55:45 remaining                                                                  10713_7 empty\n",
    "534/1037: 51.5%, 0:55:01 remaining                                                                  10929_6 empty\n",
    "540/1037: 52.1%, 0:54:38 remaining                                                                  10943_6 empty\n",
    "10943_7 empty\n",
    "541/1037: 52.2%, 0:54:30 remaining                                                                  10944_7 empty\n",
    "542/1037: 52.3%, 0:54:23 remaining                                                                  10946_7 empty\n",
    "543/1037: 52.4%, 0:54:15 remaining                                                                  10947_6 empty\n",
    "10947_7 empty\n",
    "544/1037: 52.5%, 0:54:07 remaining                                                                  10948_6 empty\n",
    "546/1037: 52.7%, 0:53:54 remaining                                                                  10950_6 empty\n",
    "562/1037: 54.2%, 0:52:41 remaining                                                                  10966_7 empty\n",
    "570/1037: 55.0%, 0:52:05 remaining                                                                  10974_6 empty\n",
    "574/1037: 55.4%, 0:51:44 remaining                                                                  10989_8 empty\n",
    "577/1037: 55.6%, 0:51:28 remaining                                                                  11007_6 empty\n",
    "584/1037: 56.3%, 0:50:44 remaining                                                                  11073_7 empty\n",
    "589/1037: 56.8%, 0:50:24 remaining                                                                  11124_2 empty\n",
    "593/1037: 57.2%, 0:50:07 remaining                                                                  11249_7 empty\n",
    "596/1037: 57.5%, 0:49:48 remaining                                                                  no silhs for 11685/3\n",
    "no silhs for 11685/6\n",
    "602/1037: 58.1%, 0:49:17 remaining                                                                  11831_6 empty\n",
    "603/1037: 58.1%, 0:49:10 remaining                                                                  11832_0 empty\n",
    "11832_7 empty\n",
    "604/1037: 58.2%, 0:49:01 remaining                                                                  11833_0 empty\n",
    "11833_6 empty\n",
    "11833_7 empty\n",
    "606/1037: 58.4%, 0:48:45 remaining                                                                  no silhs for 11835/6\n",
    "608/1037: 58.6%, 0:48:30 remaining                                                                  11837_6 empty\n",
    "11837_7 empty\n",
    "609/1037: 58.7%, 0:48:21 remaining                                                                  11880_3 empty\n",
    "11880_5 empty\n",
    "11880_8 empty\n",
    "610/1037: 58.8%, 0:48:12 remaining                                                                  11881_2 empty\n",
    "11881_3 empty\n",
    "11881_5 empty\n",
    "611/1037: 58.9%, 0:48:03 remaining                                                                  no silhs for 11882/6\n",
    "11882_8 empty\n",
    "612/1037: 59.0%, 0:47:55 remaining                                                                  11883_5 empty\n",
    "613/1037: 59.1%, 0:47:47 remaining                                                                  11884_2 empty\n",
    "11884_5 empty\n",
    "619/1037: 59.7%, 0:47:14 remaining                                                                  no silhs for 12148/1\n",
    "620/1037: 59.8%, 0:47:07 remaining                                                                  12149_7 empty\n",
    "621/1037: 59.9%, 0:46:59 remaining                                                                  12150_7 empty\n",
    "623/1037: 60.1%, 0:46:44 remaining                                                                  no silhs for 12152/2\n",
    "no silhs for 12152/6\n",
    "12152_7 empty\n",
    "625/1037: 60.3%, 0:46:32 remaining                                                                  12341_4 empty\n",
    "628/1037: 60.6%, 0:46:16 remaining                                                                  12363_3 empty\n",
    "12363_5 empty\n",
    "629/1037: 60.7%, 0:46:08 remaining                                                                  12365_5 empty\n",
    "632/1037: 60.9%, 0:45:48 remaining                                                                  12370_5 empty\n",
    "639/1037: 61.6%, 0:45:05 remaining                                                                  12387_7 empty\n",
    "640/1037: 61.7%, 0:44:58 remaining                                                                  12388_6 empty\n",
    "12388_7 empty\n",
    "643/1037: 62.0%, 0:44:38 remaining                                                                  12463_4 empty\n",
    "12463_5 empty\n",
    "12463_6 empty\n",
    "12463_8 empty\n",
    "12463_9 empty\n",
    "644/1037: 62.1%, 0:44:28 remaining                                                                  12466_4 empty\n",
    "no silhs for 12466/6\n",
    "645/1037: 62.2%, 0:44:20 remaining                                                                  12470_4 empty\n",
    "12470_5 empty\n",
    "12470_6 empty\n",
    "12470_8 empty\n",
    "12470_9 empty\n",
    "647/1037: 62.4%, 0:44:04 remaining                                                                  12507_7 empty\n",
    "649/1037: 62.6%, 0:43:50 remaining                                                                  12509_6 empty\n",
    "650/1037: 62.7%, 0:43:43 remaining                                                                  12510_6 empty\n",
    "12510_7 empty\n",
    "655/1037: 63.2%, 0:43:10 remaining                                                                  12515_6 empty\n",
    "12515_7 empty\n",
    "658/1037: 63.5%, 0:42:49 remaining                                                                  12518_7 empty\n",
    "659/1037: 63.5%, 0:42:42 remaining                                                                  12519_6 empty\n",
    "661/1037: 63.7%, 0:42:28 remaining                                                                  12521_6 empty\n",
    "662/1037: 63.8%, 0:42:21 remaining                                                                  12522_6 empty\n",
    "663/1037: 63.9%, 0:42:14 remaining                                                                  12523_6 empty\n",
    "12523_7 empty\n",
    "664/1037: 64.0%, 0:42:06 remaining                                                                  12524_7 empty\n",
    "666/1037: 64.2%, 0:41:52 remaining                                                                  12526_6 empty\n",
    "12526_7 empty\n",
    "667/1037: 64.3%, 0:41:44 remaining                                                                  12527_6 empty\n",
    "668/1037: 64.4%, 0:41:37 remaining                                                                  12528_6 empty\n",
    "669/1037: 64.5%, 0:41:30 remaining                                                                  12529_6 empty\n",
    "671/1037: 64.7%, 0:41:17 remaining                                                                  12531_6 empty\n",
    "672/1037: 64.8%, 0:41:10 remaining                                                                  12532_6 empty\n",
    "673/1037: 64.9%, 0:41:03 remaining                                                                  12533_7 empty\n",
    "674/1037: 65.0%, 0:40:56 remaining                                                                  12534_2 empty\n",
    "678/1037: 65.4%, 0:40:28 remaining                                                                  12546_7 empty\n",
    "682/1037: 65.8%, 0:40:11 remaining                                                                  12556_5 empty\n",
    "692/1037: 66.7%, 0:39:06 remaining                                                                  12697_6 empty\n",
    "697/1037: 67.2%, 0:38:41 remaining                                                                  no silhs for 13189/6\n",
    "no silhs for 13189/7\n",
    "701/1037: 67.6%, 0:38:14 remaining                                                                  no silhs for 13286/1\n",
    "no silhs for 13286/2\n",
    "13286_6 empty\n",
    "13286_7 empty\n",
    "702/1037: 67.7%, 0:38:05 remaining                                                                  13287_6 empty\n",
    "705/1037: 68.0%, 0:37:46 remaining                                                                  13290_7 empty\n",
    "712/1037: 68.7%, 0:37:07 remaining                                                                  13617_3 empty\n",
    "13617_5 empty\n",
    "no silhs for 13617/6\n",
    "720/1037: 69.4%, 0:36:15 remaining                                                                  13658_5 empty\n",
    "13658_8 empty\n",
    "721/1037: 69.5%, 0:36:06 remaining                                                                  13660_5 empty\n",
    "no silhs for 13660/6\n",
    "722/1037: 69.6%, 0:35:57 remaining                                                                  no silhs for 13667/7\n",
    "724/1037: 69.8%, 0:35:42 remaining                                                                  13672_5 empty\n",
    "733/1037: 70.7%, 0:34:42 remaining                                                                  13771_5 empty\n",
    "735/1037: 70.9%, 0:34:28 remaining                                                                  13790_6 empty\n",
    "753/1037: 72.6%, 0:32:26 remaining                                                                  14543_6 empty\n",
    "14543_7 empty\n",
    "764/1037: 73.7%, 0:31:13 remaining                                                                  14582_5 empty\n",
    "782/1037: 75.4%, 0:29:21 remaining                                                                  no silhs for 14699/1\n",
    "14699_6 empty\n",
    "14699_7 empty\n",
    "783/1037: 75.5%, 0:29:13 remaining                                                                  no silhs for 14700/1\n",
    "14700_6 empty\n",
    "790/1037: 76.2%, 0:28:23 remaining                                                                  14825_9 empty\n",
    "797/1037: 76.9%, 0:27:37 remaining                                                                  14891_2 empty\n",
    "no silhs for 14891/3\n",
    "no silhs for 14891/7\n",
    "798/1037: 77.0%, 0:27:29 remaining                                                                  no silhs for 14892/6\n",
    "806/1037: 77.7%, 0:26:37 remaining                                                                  15074_5 empty\n",
    "807/1037: 77.8%, 0:26:30 remaining                                                                  15152_6 empty\n",
    "810/1037: 78.1%, 0:26:11 remaining                                                                  no silhs for 15359/3\n",
    "15359_7 empty\n",
    "811/1037: 78.2%, 0:26:03 remaining                                                                  15360_7 empty\n",
    "812/1037: 78.3%, 0:25:56 remaining                                                                  no silhs for 15361/2\n",
    "814/1037: 78.5%, 0:25:42 remaining                                                                  no silhs for 15365/2\n",
    "816/1037: 78.7%, 0:25:28 remaining                                                                  15543_5 empty\n",
    "817/1037: 78.8%, 0:25:21 remaining                                                                  15549_6 empty\n",
    "821/1037: 79.2%, 0:24:52 remaining                                                                  15625_5 empty\n",
    "822/1037: 79.3%, 0:24:45 remaining                                                                  15664_6 empty\n",
    "824/1037: 79.5%, 0:24:30 remaining                                                                  15700_6 empty\n",
    "825/1037: 79.6%, 0:24:22 remaining                                                                  15705_1 empty\n",
    "827/1037: 79.7%, 0:24:09 remaining                                                                  15721_4 empty\n",
    "15721_9 empty\n",
    "828/1037: 79.8%, 0:24:02 remaining                                                                  15723_6 empty\n",
    "833/1037: 80.3%, 0:23:27 remaining                                                                  15799_7 empty\n",
    "838/1037: 80.8%, 0:22:55 remaining                                                                  15967_2 empty\n",
    "859/1037: 82.8%, 0:20:32 remaining                                                                  16708_9 empty\n",
    "863/1037: 83.2%, 0:20:02 remaining                                                                  16737_1 empty\n",
    "16737_2 empty\n",
    "16737_6 empty\n",
    "870/1037: 83.9%, 0:19:17 remaining                                                                  no silhs for 16824/3\n",
    "16824_7 empty\n",
    "871/1037: 84.0%, 0:19:09 remaining                                                                  16825_0 empty\n",
    "16825_7 empty\n",
    "873/1037: 84.2%, 0:18:55 remaining                                                                  no silhs for 16827/2\n",
    "874/1037: 84.3%, 0:18:47 remaining                                                                  16828_7 empty\n",
    "877/1037: 84.6%, 0:18:27 remaining                                                                  16954_0 empty\n",
    "883/1037: 85.1%, 0:17:50 remaining                                                                  17242_2 empty\n",
    "886/1037: 85.4%, 0:17:28 remaining                                                                  17440_7 empty\n",
    "895/1037: 86.3%, 0:16:27 remaining                                                                  17659_6 empty\n",
    "900/1037: 86.8%, 0:15:53 remaining                                                                  17724_0 empty\n",
    "902/1037: 87.0%, 0:15:38 remaining                                                                  17726_0 empty\n",
    "903/1037: 87.1%, 0:15:31 remaining                                                                  17727_1 empty\n",
    "907/1037: 87.5%, 0:15:03 remaining                                                                  17744_6 empty\n",
    "17744_7 empty\n",
    "908/1037: 87.6%, 0:14:56 remaining                                                                  17746_5 empty\n",
    "909/1037: 87.7%, 0:14:49 remaining                                                                  17843_5 empty\n",
    "920/1037: 88.7%, 0:13:34 remaining                                                                  18082_6 empty\n",
    "922/1037: 88.9%, 0:13:21 remaining                                                                  18087_2 empty\n",
    "18087_5 empty\n",
    "923/1037: 89.0%, 0:13:14 remaining                                                                  no silhs for 18088/3\n",
    "925/1037: 89.2%, 0:13:00 remaining                                                                  18092_3 empty\n",
    "no silhs for 18092/6\n",
    "931/1037: 89.8%, 0:12:17 remaining                                                                  18452_6 empty\n",
    "939/1037: 90.5%, 0:11:21 remaining                                                                  18891_6 empty\n",
    "942/1037: 90.8%, 0:11:01 remaining                                                                  18908_6 empty\n",
    "18908_7 empty\n",
    "944/1037: 91.0%, 0:10:47 remaining                                                                  18910_6 empty\n",
    "18910_7 empty\n",
    "947/1037: 91.3%, 0:10:26 remaining                                                                  18999_8 empty\n",
    "950/1037: 91.6%, 0:10:06 remaining                                                                  no silhs for 19021/1\n",
    "955/1037: 92.1%, 0:09:31 remaining                                                                  19572_6 empty\n",
    "956/1037: 92.2%, 0:09:24 remaining                                                                  no silhs for 19573/1\n",
    "957/1037: 92.3%, 0:09:17 remaining                                                                  no silhs for 19574/3\n",
    "986/1037: 95.1%, 0:05:55 remaining                                                                  20325_1 empty\n",
    "20325_2 empty\n",
    "20325_7 empty\n",
    "987/1037: 95.2%, 0:05:48 remaining                                                                  20326_0 empty\n",
    "990/1037: 95.5%, 0:05:27 remaining                                                                  20831_8 empty\n",
    "991/1037: 95.6%, 0:05:20 remaining                                                                  20928_3 empty\n",
    "993/1037: 95.8%, 0:05:06 remaining                                                                  20986_7 empty\n",
    "997/1037: 96.1%, 0:04:38 remaining                                                                  21154_5 empty\n",
    "998/1037: 96.2%, 0:04:31 remaining                                                                  21163_5 empty\n",
    "21163_9 empty\n",
    "999/1037: 96.3%, 0:04:24 remaining                                                                  21183_3 empty\n",
    "1006/1037: 97.0%, 0:03:35 remaining                                                                 21305_3 empty\n",
    "1008/1037: 97.2%, 0:03:21 remaining                                                                 21394_1 empty\n",
    "1009/1037: 97.3%, 0:03:14 remaining                                                                 21401_3 empty\n",
    "1020/1037: 98.4%, 0:01:58 remaining                                                                 22289_3 empty\n",
    "22289_8 empty\n",
    "1021/1037: 98.5%, 0:01:51 remaining                                                                 22298_3 empty\n",
    "22298_8 empty\n",
    "1036/1037: 99.9%, 0:00:06 remaining                                                                 49899_4 empty\n",
    "1037 done, 1:59:36 total  \n",
    "'''"
   ]
  },
  {
   "cell_type": "code",
   "execution_count": 20,
   "id": "7423718c-79d9-4997-ba7e-baa8ba1e5828",
   "metadata": {},
   "outputs": [],
   "source": []
  },
  {
   "cell_type": "code",
   "execution_count": null,
   "id": "25513139-d65f-4fa5-be84-98333c072040",
   "metadata": {},
   "outputs": [],
   "source": []
  },
  {
   "cell_type": "code",
   "execution_count": null,
   "id": "07b87b1a-7c6a-4849-9fed-b7adf4836936",
   "metadata": {},
   "outputs": [],
   "source": [
    "empty = re.findall(r'([0-9_]+) empty', log)\n",
    "\n",
    "obs = np.sort(np.unique([_.split('_')[0] for _ in empty]).astype(int)).astype(str)\n",
    "\n",
    "empty_dict = {}\n",
    "for k in obs:\n",
    "    empty_dict[k] = []\n",
    "    \n",
    "for obsid_ccd in empty:\n",
    "        \n",
    "    obsid, ccd = obsid_ccd.split('_')\n",
    "    \n",
    "    empty_dict[obsid].append(ccd)\n",
    "\n",
    "for k, v in empty_dict.items():\n",
    "    \n",
    "    if len(v)==1:\n",
    "        empty_dict[k] = v[0]\n",
    "        \n",
    "# empty_dict    "
   ]
  },
  {
   "cell_type": "code",
   "execution_count": null,
   "id": "e6f626df-d993-420f-87eb-9bf36ec336ad",
   "metadata": {},
   "outputs": [],
   "source": [
    "nosilh = re.findall(r'no silhs for ([0-9/]+)', log)\n",
    "\n",
    "obs = np.sort(np.unique([_.split('/')[0] for _ in nosilh]).astype(int)).astype(str)\n",
    "\n",
    "nosilh_dict = {}\n",
    "for k in obs:\n",
    "    nosilh_dict[k] = []\n",
    "    \n",
    "for obsid_ccd in nosilh:\n",
    "        \n",
    "    obsid, ccd = obsid_ccd.split('/')\n",
    "    \n",
    "    nosilh_dict[obsid].append(ccd)\n",
    "\n",
    "for k, v in nosilh_dict.items():\n",
    "    \n",
    "    if len(v)==1:\n",
    "        nosilh_dict[k] = v[0]\n",
    "        \n",
    "# nosilh_dict    "
   ]
  },
  {
   "cell_type": "code",
   "execution_count": 85,
   "id": "596a7fed-805f-4898-a318-2833ab289452",
   "metadata": {},
   "outputs": [],
   "source": [
    "bad_obsids_ccd = {\n",
    "    'empty': empty_dict,\n",
    "    'nosilh': nosilh_dict\n",
    "}\n",
    "\n",
    "json.dump(bad_obsids_ccd, open(f'{cache_dir}/bad_obsids_ccd.json', 'wt'))"
   ]
  },
  {
   "cell_type": "code",
   "execution_count": 56,
   "id": "0ab32966-e393-4eeb-9e12-870e86a06ccb",
   "metadata": {
    "lines_to_next_cell": 0
   },
   "outputs": [
    {
     "name": "stdout",
     "output_type": "stream",
     "text": [
      "{'a': [], 'b': []}\n",
      "{'a': [4], 'b': [4]}\n",
      "{'a': [], 'b': []}\n",
      "{'a': [4], 'b': []}\n"
     ]
    }
   ],
   "source": [
    "tst = dict(zip(['a', 'b'], [[]]*2))\n",
    "print(tst)\n",
    "tst['a'].append(4)\n",
    "print(tst)\n",
    "\n",
    "tst = dict(zip(['a', 'b'], [[], []]))\n",
    "print(tst)\n",
    "tst['a'].append(4)\n",
    "print(tst)"
   ]
  },
  {
   "cell_type": "code",
   "execution_count": null,
   "id": "03f5c40e-cf87-455a-9fe2-723c88f44e74",
   "metadata": {},
   "outputs": [],
   "source": []
  },
  {
   "cell_type": "code",
   "execution_count": null,
   "id": "ae2b6051-25c8-47c7-b5c1-99aab8ea2b73",
   "metadata": {},
   "outputs": [],
   "source": []
  },
  {
   "cell_type": "code",
   "execution_count": 19,
   "id": "834eaadb-60de-4af5-8161-e5ae6e428ff5",
   "metadata": {},
   "outputs": [],
   "source": [
    "X, clusters, data = pkl.load(open('tmp.pkl', 'rb'))"
   ]
  },
  {
   "cell_type": "code",
   "execution_count": 40,
   "id": "ca047a1c-3730-44cd-be3d-c704c8432824",
   "metadata": {},
   "outputs": [
    {
     "data": {
      "text/plain": [
       "18776"
      ]
     },
     "execution_count": 40,
     "metadata": {},
     "output_type": "execute_result"
    }
   ],
   "source": [
    "len(X)"
   ]
  },
  {
   "cell_type": "code",
   "execution_count": 20,
   "id": "7ad4c9e9-77c6-4312-9699-9f66b5865119",
   "metadata": {},
   "outputs": [
    {
     "data": {
      "text/plain": [
       "1022"
      ]
     },
     "execution_count": 20,
     "metadata": {},
     "output_type": "execute_result"
    }
   ],
   "source": [
    "len(np.concatenate(clusters))"
   ]
  },
  {
   "cell_type": "code",
   "execution_count": 21,
   "id": "6e60af7e-504d-4888-befa-58cae40089d4",
   "metadata": {},
   "outputs": [
    {
     "data": {
      "text/plain": [
       "0.029689833533616747"
      ]
     },
     "execution_count": 21,
     "metadata": {},
     "output_type": "execute_result"
    }
   ],
   "source": [
    "np.sum(data['area'])"
   ]
  },
  {
   "cell_type": "code",
   "execution_count": 20,
   "id": "89ad12d9-a7c0-49b8-a09e-b6000b89f3b0",
   "metadata": {},
   "outputs": [
    {
     "data": {
      "text/plain": [
       "18297.242071218774"
      ]
     },
     "execution_count": 20,
     "metadata": {},
     "output_type": "execute_result"
    }
   ],
   "source": [
    "bkg = (len(X) - len(np.concatenate(clusters))) / (1 - np.sum(data['area']))\n",
    "bkg"
   ]
  },
  {
   "cell_type": "code",
   "execution_count": 23,
   "id": "a6c39c96-6524-4724-bcb8-459d416f67cb",
   "metadata": {},
   "outputs": [],
   "source": [
    "from scipy.stats import poisson\n",
    "from scipy.stats import skellam"
   ]
  },
  {
   "cell_type": "code",
   "execution_count": 21,
   "id": "395a37fc-3790-4d73-8627-1c8087e51a8a",
   "metadata": {},
   "outputs": [],
   "source": [
    "mu = data['area'][0] * bkg\n",
    "k = len(clusters[0])"
   ]
  },
  {
   "cell_type": "code",
   "execution_count": 43,
   "id": "bc9521fb-daec-4e03-99a3-7a3d04cf0b23",
   "metadata": {},
   "outputs": [
    {
     "data": {
      "text/plain": [
       "(417.5553041614676, 752)"
      ]
     },
     "execution_count": 43,
     "metadata": {},
     "output_type": "execute_result"
    }
   ],
   "source": [
    "mu, k"
   ]
  },
  {
   "cell_type": "code",
   "execution_count": 30,
   "id": "e17b7a8b-2216-4a3d-9a66-cbce087d49ee",
   "metadata": {},
   "outputs": [
    {
     "data": {
      "text/plain": [
       "0.0"
      ]
     },
     "execution_count": 30,
     "metadata": {},
     "output_type": "execute_result"
    }
   ],
   "source": [
    "1 - poisson.cdf(k, mu)"
   ]
  },
  {
   "cell_type": "code",
   "execution_count": null,
   "id": "59fe39df-ac7d-4665-a7dd-ef25197b5b77",
   "metadata": {},
   "outputs": [],
   "source": [
    "data['signif.'] = [1 - skellam.cdf(x, len(X) * a, bkg_dens * a) for x, a in zip(data['n-n_bkg'], data['area'])]"
   ]
  },
  {
   "cell_type": "code",
   "execution_count": 230,
   "id": "d7567b53-7f32-4604-b4b0-b3678aa1078a",
   "metadata": {},
   "outputs": [
    {
     "data": {
      "text/plain": [
       "0.0"
      ]
     },
     "execution_count": 230,
     "metadata": {},
     "output_type": "execute_result"
    }
   ],
   "source": [
    "1-skellam.cdf(k-mu, k-mu, mu)"
   ]
  },
  {
   "cell_type": "code",
   "execution_count": 231,
   "id": "8b8e953a-3f71-45a2-afb0-a21e1777fe26",
   "metadata": {},
   "outputs": [],
   "source": [
    "from scipy.special import loggamma"
   ]
  },
  {
   "cell_type": "code",
   "execution_count": 232,
   "id": "61e3bcb1-9173-4885-b839-ecbd2ccf21f5",
   "metadata": {},
   "outputs": [
    {
     "data": {
      "text/plain": [
       "2255.589468630342"
      ]
     },
     "execution_count": 232,
     "metadata": {},
     "output_type": "execute_result"
    },
    {
     "name": "stderr",
     "output_type": "stream",
     "text": [
      "WARNING: AstropyDeprecationWarning: The following keywords are now recognized as special column-related attributes and should be set via the Column objects: TCDLTn, TCRPXn, TCRVLn, TCTYPn, TCUNIn. In future, these values will be dropped from manually specified headers automatically and replaced with values generated based on the Column objects. [astropy.io.fits.hdu.table]\n",
      "WARNING:astropy:AstropyDeprecationWarning: The following keywords are now recognized as special column-related attributes and should be set via the Column objects: TCDLTn, TCRPXn, TCRVLn, TCTYPn, TCUNIn. In future, these values will be dropped from manually specified headers automatically and replaced with values generated based on the Column objects.\n"
     ]
    }
   ],
   "source": [
    "loggamma(mu)"
   ]
  },
  {
   "cell_type": "code",
   "execution_count": 22,
   "id": "8c14c901-e8a2-4217-a2dc-7b0aed87361f",
   "metadata": {},
   "outputs": [],
   "source": [
    "from mpmath import mp\n",
    "\n",
    "mp.dps = 100\n",
    "mp.pretty = True"
   ]
  },
  {
   "cell_type": "code",
   "execution_count": 146,
   "id": "19fe891f-a42e-4b59-80c8-2a89a5a9e7b6",
   "metadata": {},
   "outputs": [
    {
     "data": {
      "text/plain": [
       "(752, 417.5553041614676)"
      ]
     },
     "execution_count": 146,
     "metadata": {},
     "output_type": "execute_result"
    }
   ],
   "source": [
    "k, mu"
   ]
  },
  {
   "cell_type": "code",
   "execution_count": 147,
   "id": "2df79f88-61d0-45b3-9ca7-399beeda3687",
   "metadata": {},
   "outputs": [
    {
     "data": {
      "text/plain": [
       "1.833656121605866086001914216568221889815276165685332134477855434911450598107365538303016507900786437e-47"
      ]
     },
     "execution_count": 147,
     "metadata": {},
     "output_type": "execute_result"
    }
   ],
   "source": [
    "x = 1 - **(1/data['area'][0])\n",
    "x"
   ]
  },
  {
   "cell_type": "code",
   "execution_count": 237,
   "id": "70c4ae84-dfc3-43d6-a406-eced6f8f25c4",
   "metadata": {},
   "outputs": [
    {
     "data": {
      "text/plain": [
       "array([4158.98837465, 3572.28185366, 4115.69136511, 4224.70648737,\n",
       "       3910.8355373 ])"
      ]
     },
     "execution_count": 237,
     "metadata": {},
     "output_type": "execute_result"
    }
   ],
   "source": [
    "data['x']"
   ]
  },
  {
   "cell_type": "code",
   "execution_count": 23,
   "id": "d4b5916a-6dbc-47ff-8121-ec38a453bc42",
   "metadata": {},
   "outputs": [],
   "source": [
    "def get_signif_sigma(k, mu, N):\n",
    "        \n",
    "    mp.pretty = True\n",
    "    \n",
    "    mp.dps = 25\n",
    "    \n",
    "    p = 0\n",
    "    \n",
    "    while p==0 and mp.dps<2000:\n",
    "    \n",
    "        cdf = mp.gammainc(k, mu, regularized=True)\n",
    "    \n",
    "        p = 1 - cdf**N\n",
    "    \n",
    "        mp.dps *= 2\n",
    "    \n",
    "    sigma = np.sqrt(2) * mp.erfinv(1-p)\n",
    "    \n",
    "    dps = mp.dps \n",
    "    \n",
    "    mp.dps = 3\n",
    "    \n",
    "    return p, sigma, dps   "
   ]
  },
  {
   "cell_type": "code",
   "execution_count": 24,
   "id": "78cad66b-9dbc-4086-83eb-1fce62d53756",
   "metadata": {},
   "outputs": [
    {
     "name": "stdout",
     "output_type": "stream",
     "text": [
      "CPU times: user 18.3 s, sys: 230 ms, total: 18.6 s\n",
      "Wall time: 18.6 s\n"
     ]
    }
   ],
   "source": [
    "%time p, sigma, dps = get_signif_sigma(3000, mu, 1/data['area'][0])"
   ]
  },
  {
   "cell_type": "code",
   "execution_count": 236,
   "id": "d7a74d5d-de84-4c24-992b-569219afbb28",
   "metadata": {},
   "outputs": [
    {
     "data": {
      "text/plain": [
       "(7.74e-1449, 81.6, 3200)"
      ]
     },
     "execution_count": 236,
     "metadata": {},
     "output_type": "execute_result"
    }
   ],
   "source": [
    "p, sigma, dps"
   ]
  },
  {
   "cell_type": "code",
   "execution_count": 26,
   "id": "35ff9bc8-89e6-4c6d-a692-f124e12d4bcf",
   "metadata": {},
   "outputs": [
    {
     "data": {
      "text/plain": [
       "81.60602194863712"
      ]
     },
     "execution_count": 26,
     "metadata": {},
     "output_type": "execute_result"
    }
   ],
   "source": [
    "float(sigma)"
   ]
  },
  {
   "cell_type": "code",
   "execution_count": 119,
   "id": "8166a19b-3740-49bd-9cc2-5d9ee11658f7",
   "metadata": {},
   "outputs": [
    {
     "data": {
      "text/plain": [
       "-0.0000000000000000000000000000000000000000000000000000000000000000000000000000000000000000000055104187427846748833508982299924905444759299004039439115721869937922938362934206904880494950604055030356025677826250372781052345413285054409216476428623229047950697404160775366530771230315393719341221346983426272605027276435313787448345984092449195548079728194647412348024567191974895078025281149759361859380715392265588843079563304010364665078695343500077494062568361258992753409003334829291507796614111221436431373659452314632278368498658254253447829633861945166741546647249978578992388443856625114"
      ]
     },
     "execution_count": 119,
     "metadata": {},
     "output_type": "execute_result"
    }
   ],
   "source": [
    "mp.log(mp.gammainc(900, mu, mp.inf)) - mp.log(mp.gammainc(900, 0, mp.inf))"
   ]
  },
  {
   "cell_type": "code",
   "execution_count": 112,
   "id": "5fff25fc-cab1-4d87-83f5-15f5ada4e44f",
   "metadata": {},
   "outputs": [
    {
     "data": {
      "text/plain": [
       "5219.673120736010975309372887058761020647110233490018519181251149623386216669204180875802329232268224"
      ]
     },
     "execution_count": 112,
     "metadata": {},
     "output_type": "execute_result"
    }
   ],
   "source": [
    "x = \n",
    "x"
   ]
  },
  {
   "cell_type": "code",
   "execution_count": 113,
   "id": "5a6ba03f-a86c-43a3-bd05-35984cf13a74",
   "metadata": {},
   "outputs": [
    {
     "data": {
      "text/plain": [
       "5219.673120736010975309372887058761020647110233490018519181251149623386216669204180875802329232273734"
      ]
     },
     "execution_count": 113,
     "metadata": {},
     "output_type": "execute_result"
    }
   ],
   "source": [
    "y = mp.log(mp.gammainc(900, 0, mp.inf))\n",
    "y"
   ]
  },
  {
   "cell_type": "code",
   "execution_count": 114,
   "id": "47849a15-e806-4960-b608-d634f76ee8a3",
   "metadata": {},
   "outputs": [
    {
     "data": {
      "text/plain": [
       "-5.510391590427151083541524208229335556247106407552488690620286183636844371436256012441388092742433714e-93"
      ]
     },
     "execution_count": 114,
     "metadata": {},
     "output_type": "execute_result"
    }
   ],
   "source": [
    "x - y"
   ]
  },
  {
   "cell_type": "code",
   "execution_count": 91,
   "id": "28cb5b8a-c04e-4a93-bc32-71cce52060e2",
   "metadata": {},
   "outputs": [
    {
     "data": {
      "text/plain": [
       "0.95449973610364158559943472566693312505644755259664313203266799973904741929444850330346169584842077015497692563611540917510416"
      ]
     },
     "execution_count": 91,
     "metadata": {},
     "output_type": "execute_result"
    }
   ],
   "source": [
    "mp.erf(2/mp.sqrt(2))"
   ]
  },
  {
   "cell_type": "code",
   "execution_count": 68,
   "id": "0b3cc9e6-430a-4676-b291-e940798d3d22",
   "metadata": {},
   "outputs": [
    {
     "data": {
      "text/plain": [
       "+inf"
      ]
     },
     "execution_count": 68,
     "metadata": {},
     "output_type": "execute_result"
    }
   ],
   "source": []
  },
  {
   "cell_type": "code",
   "execution_count": 69,
   "id": "cf2d3f3d-ef5d-4294-9dd4-1e2161f5d7d2",
   "metadata": {},
   "outputs": [
    {
     "data": {
      "text/plain": [
       "18600.0"
      ]
     },
     "execution_count": 69,
     "metadata": {},
     "output_type": "execute_result"
    }
   ],
   "source": [
    "nbins = 10\n",
    "sigma = 0\n",
    "\n",
    "H, bkg_dens = app1_lib.nbins_sigma_func(X, nbins, sigma)\n",
    "\n",
    "bkg_dens"
   ]
  },
  {
   "cell_type": "code",
   "execution_count": 62,
   "id": "809ac10d-9dae-46c9-a5ed-baeae52b2a0a",
   "metadata": {},
   "outputs": [
    {
     "data": {
      "text/plain": [
       "18776"
      ]
     },
     "execution_count": 62,
     "metadata": {},
     "output_type": "execute_result"
    }
   ],
   "source": [
    "len(X)"
   ]
  },
  {
   "cell_type": "code",
   "execution_count": 55,
   "id": "c7186143-b38b-4f56-b72a-16b7b5257cc1",
   "metadata": {},
   "outputs": [
    {
     "data": {
      "text/plain": [
       "40.65625005696858"
      ]
     },
     "execution_count": 55,
     "metadata": {},
     "output_type": "execute_result"
    }
   ],
   "source": [
    "1 / data['area'][0]"
   ]
  },
  {
   "cell_type": "code",
   "execution_count": 45,
   "id": "8dbd7b0e-9162-45dd-8625-155bcf2e9427",
   "metadata": {},
   "outputs": [],
   "source": []
  },
  {
   "cell_type": "code",
   "execution_count": 44,
   "id": "e07bf897-d55a-40e2-a520-65bf4e079bce",
   "metadata": {},
   "outputs": [],
   "source": []
  },
  {
   "cell_type": "code",
   "execution_count": 54,
   "id": "6c94e4c4-6d8f-46b0-9d30-123d7cf0ab7b",
   "metadata": {},
   "outputs": [
    {
     "data": {
      "text/plain": [
       "0.9999964779525532"
      ]
     },
     "execution_count": 54,
     "metadata": {},
     "output_type": "execute_result"
    }
   ],
   "source": [
    "poisson.cdf(mu+100, mu, loc=0)"
   ]
  },
  {
   "cell_type": "code",
   "execution_count": 73,
   "id": "d25f1aaa-9db2-400a-8fb3-6773a8eb18a1",
   "metadata": {},
   "outputs": [],
   "source": [
    "from scipy.ndimage import gaussian_filter\n",
    "from astropy.stats import sigma_clipped_stats "
   ]
  },
  {
   "cell_type": "code",
   "execution_count": 200,
   "id": "58e813ab-15c0-4f4a-bb28-73c78a14812b",
   "metadata": {},
   "outputs": [
    {
     "data": {
      "text/plain": [
       "(0.4444444444444444, 0.0, 0.4969039949999533)"
      ]
     },
     "execution_count": 200,
     "metadata": {},
     "output_type": "execute_result"
    }
   ],
   "source": [
    "a = np.array([0,0,0,0,0,1,1,1,1,2])\n",
    "sigma_clipped_stats(a, sigma=2.2)"
   ]
  },
  {
   "cell_type": "code",
   "execution_count": 202,
   "id": "74f23960-b7ea-43c4-bb36-d364264663ff",
   "metadata": {},
   "outputs": [
    {
     "data": {
      "text/plain": [
       "0.4444444444444444"
      ]
     },
     "execution_count": 202,
     "metadata": {},
     "output_type": "execute_result"
    }
   ],
   "source": [
    "np.mean([0,0,0,0,0,1,1,1,1])"
   ]
  },
  {
   "cell_type": "code",
   "execution_count": 215,
   "id": "9ea4230f-a27b-4943-a396-4801b6d88e09",
   "metadata": {},
   "outputs": [
    {
     "name": "stdout",
     "output_type": "stream",
     "text": [
      "(0.21893781236161194, 0.0, 0.41352635548398364) 0.0\n"
     ]
    },
    {
     "data": {
      "text/plain": [
       "18776.0"
      ]
     },
     "execution_count": 215,
     "metadata": {},
     "output_type": "execute_result"
    }
   ],
   "source": [
    "nbins = 256\n",
    "sigma = 0\n",
    "\n",
    "H, xe, ye = np.histogram2d(*X.T, bins=nbins)  \n",
    "\n",
    "# H = gaussian_filter(H, sigma=sigma)            \n",
    "\n",
    "mean, median, std = sigma_clipped_stats(H, sigma=3, cenfunc='median')\n",
    "\n",
    "bkg_dens = median * nbins**2\n",
    "\n",
    "print((mean, median, std), bkg_dens) \n",
    "\n",
    "np.mean(H) * nbins**2"
   ]
  },
  {
   "cell_type": "code",
   "execution_count": 203,
   "id": "4b491739-0fc1-4f88-ac0b-c9c54a61b4ff",
   "metadata": {},
   "outputs": [
    {
     "data": {
      "text/plain": [
       "0.2864990234375"
      ]
     },
     "execution_count": 203,
     "metadata": {},
     "output_type": "execute_result"
    }
   ],
   "source": [
    "H.mean()"
   ]
  },
  {
   "cell_type": "code",
   "execution_count": 132,
   "id": "4d34b803-5cb1-4b37-a7c7-32abebdd4eb2",
   "metadata": {},
   "outputs": [],
   "source": [
    "a=1j"
   ]
  },
  {
   "cell_type": "code",
   "execution_count": 142,
   "id": "c2d933ea-3105-435a-963a-bc1a97fc6f1c",
   "metadata": {},
   "outputs": [],
   "source": [
    "X, Y = np.mgrid[0:1000:101*1j, 0:1000:101*1j]\n",
    "positions = np.vstack([X.ravel(), Y.ravel()]).T"
   ]
  },
  {
   "cell_type": "code",
   "execution_count": 143,
   "id": "30be1e6b-a8c4-4d30-9b6e-55acfa18cfbb",
   "metadata": {},
   "outputs": [
    {
     "data": {
      "text/plain": [
       "array([[   0.,    0.],\n",
       "       [   0.,   10.],\n",
       "       [   0.,   20.],\n",
       "       ...,\n",
       "       [1000.,  980.],\n",
       "       [1000.,  990.],\n",
       "       [1000., 1000.]])"
      ]
     },
     "execution_count": 143,
     "metadata": {},
     "output_type": "execute_result"
    }
   ],
   "source": [
    "positions"
   ]
  },
  {
   "cell_type": "code",
   "execution_count": 184,
   "id": "c4e35ad2-ca1b-486f-ac2b-929d4d36641d",
   "metadata": {},
   "outputs": [
    {
     "name": "stdout",
     "output_type": "stream",
     "text": [
      "CPU times: user 10.5 s, sys: 0 ns, total: 10.5 s\n",
      "Wall time: 10.5 s\n"
     ]
    }
   ],
   "source": [
    "%%time\n",
    "\n",
    "X_data, clusters, data = pkl.load(open('tmp.pkl', 'rb'))\n",
    "\n",
    "from scipy import stats\n",
    "def measure(n):\n",
    "    \"Measurement model, return two coupled measurements.\"\n",
    "    m1 = np.random.normal(size=n)\n",
    "    m2 = np.random.normal(scale=0.5, size=n)\n",
    "    return m1+m2, m1-m2\n",
    "m1, m2 = X_data.T # measure(2000)\n",
    "xmin = m1.min()\n",
    "xmax = m1.max()\n",
    "ymin = m2.min()\n",
    "ymax = m2.max()\n",
    "# Perform a kernel density estimate on the data:\n",
    "\n",
    "nbins = 256\n",
    "\n",
    "X, Y = np.mgrid[xmin:xmax:nbins*1j, ymin:ymax:nbins*1j]\n",
    "positions = np.vstack([X.ravel(), Y.ravel()])\n",
    "values = np.vstack([m1, m2])\n",
    "kernel = stats.gaussian_kde(values)\n",
    "Z = np.reshape(kernel(positions).T, X.shape)\n",
    "# Plot the results:"
   ]
  },
  {
   "cell_type": "code",
   "execution_count": 153,
   "id": "a8634fd6-c5a1-4ef6-ada8-de410f735115",
   "metadata": {},
   "outputs": [
    {
     "data": {
      "image/png": "[encoded data removed]",
      "text/plain": [
       "<Figure size 432x288 with 1 Axes>"
      ]
     },
     "metadata": {
      "needs_background": "light"
     },
     "output_type": "display_data"
    }
   ],
   "source": [
    "import matplotlib.pyplot as plt\n",
    "fig, ax = plt.subplots()\n",
    "ax.imshow(np.rot90(Z), cmap=plt.cm.gist_earth_r,\n",
    "          extent=[xmin, xmax, ymin, ymax])\n",
    "# ax.plot(m1, m2, 'k.', markersize=2)\n",
    "ax.set_xlim([xmin, xmax])\n",
    "ax.set_ylim([ymin, ymax])\n",
    "plt.show()"
   ]
  },
  {
   "cell_type": "code",
   "execution_count": 155,
   "id": "3aaf2861-2b1d-4bd4-84fe-dbd0610fa6c0",
   "metadata": {},
   "outputs": [
    {
     "data": {
      "text/plain": [
       "20078.489872260347"
      ]
     },
     "execution_count": 155,
     "metadata": {},
     "output_type": "execute_result"
    }
   ],
   "source": [
    "np.median(Z)*nbins**2/np.sum(Z) * len(X_data)"
   ]
  },
  {
   "cell_type": "code",
   "execution_count": 130,
   "id": "30da75b6-6150-4a27-8ea8-a23fe950efe5",
   "metadata": {},
   "outputs": [
    {
     "data": {
      "text/plain": [
       "100"
      ]
     },
     "execution_count": 130,
     "metadata": {},
     "output_type": "execute_result"
    }
   ],
   "source": [
    "len(X)"
   ]
  },
  {
   "cell_type": "code",
   "execution_count": 120,
   "id": "55d4d226-016d-40f2-9b61-9f8fdc09ecd0",
   "metadata": {},
   "outputs": [
    {
     "data": {
      "text/plain": [
       "0.9997481831566372"
      ]
     },
     "execution_count": 120,
     "metadata": {},
     "output_type": "execute_result"
    }
   ],
   "source": [
    "np.median(Z)"
   ]
  },
  {
   "cell_type": "code",
   "execution_count": null,
   "id": "0a97b929-2141-47f0-a7b0-a72345f6c421",
   "metadata": {},
   "outputs": [],
   "source": []
  },
  {
   "cell_type": "code",
   "execution_count": 37,
   "id": "cd8b6ae7-2619-40b0-bb28-6c37b8f581f1",
   "metadata": {},
   "outputs": [
    {
     "data": {
      "text/plain": [
       "5.325948018747337e-05"
      ]
     },
     "execution_count": 37,
     "metadata": {},
     "output_type": "execute_result"
    }
   ],
   "source": [
    "dens = 1 / len(X)\n",
    "dens"
   ]
  },
  {
   "cell_type": "code",
   "execution_count": 20,
   "id": "b6335d0f-2d47-407a-9a00-b3c4a85e36a9",
   "metadata": {},
   "outputs": [
    {
     "data": {
      "text/plain": [
       "dict_keys(['xs', 'ys', 'area', 'silhouette', 'x_scaled', 'y_scaled', 'x', 'y', 'n-n_bkg', 'signif.', 'sigmas'])"
      ]
     },
     "execution_count": 20,
     "metadata": {},
     "output_type": "execute_result"
    }
   ],
   "source": [
    "data.keys()"
   ]
  },
  {
   "cell_type": "code",
   "execution_count": 21,
   "id": "bc478a79-ee2e-4e5c-bfea-afc64a331c37",
   "metadata": {},
   "outputs": [
    {
     "data": {
      "text/plain": [
       "[0.024596464223797677,\n",
       " 0.003041193668724474,\n",
       " 0.002050742862755891,\n",
       " 0.0018511704311339728,\n",
       " 0.0016428292437399477,\n",
       " 0.001686992526752165,\n",
       " 0.0014461260753326774,\n",
       " 0.0013413074551465287,\n",
       " 0.0011153419981250051,\n",
       " 0.0011497767029929032,\n",
       " 0.0010451974908277453,\n",
       " 0.0010098759734852754,\n",
       " 0.0010418940241528653]"
      ]
     },
     "execution_count": 21,
     "metadata": {},
     "output_type": "execute_result"
    }
   ],
   "source": [
    "data['area']"
   ]
  },
  {
   "cell_type": "code",
   "execution_count": 32,
   "id": "46971770-302e-4273-8ef2-68e0ae8a8142",
   "metadata": {},
   "outputs": [
    {
     "data": {
      "text/html": [
       "\n",
       "  <div class=\"bk-root\" id=\"1c80fa48-765f-4c60-b9a4-1bb2cfa7c35a\" data-root-id=\"1620\"></div>\n"
      ]
     },
     "metadata": {},
     "output_type": "display_data"
    },
    {
     "data": {
      "application/javascript": [
       "(function(root) {\n",
       "  function embed_document(root) {\n",
       "  const docs_json = {\"8600f54d-56db-47f1-bceb-f58fc7e46c36\":{\"defs\":[],\"roots\":{\"references\":[{\"attributes\":{\"below\":[{\"id\":\"1629\"}],\"center\":[{\"id\":\"1632\"},{\"id\":\"1636\"}],\"left\":[{\"id\":\"1633\"}],\"renderers\":[{\"id\":\"1655\"}],\"title\":{\"id\":\"1690\"},\"toolbar\":{\"id\":\"1644\"},\"x_range\":{\"id\":\"1621\"},\"x_scale\":{\"id\":\"1625\"},\"y_range\":{\"id\":\"1623\"},\"y_scale\":{\"id\":\"1627\"}},\"id\":\"1620\",\"subtype\":\"Figure\",\"type\":\"Plot\"},{\"attributes\":{\"bottom_units\":\"screen\",\"coordinates\":null,\"fill_alpha\":0.5,\"fill_color\":\"lightgrey\",\"group\":null,\"left_units\":\"screen\",\"level\":\"overlay\",\"line_alpha\":1.0,\"line_color\":\"black\",\"line_dash\":[4,4],\"line_width\":2,\"right_units\":\"screen\",\"syncable\":false,\"top_units\":\"screen\"},\"id\":\"1643\",\"type\":\"BoxAnnotation\"},{\"attributes\":{},\"id\":\"1698\",\"type\":\"UnionRenderers\"},{\"attributes\":{},\"id\":\"1634\",\"type\":\"BasicTicker\"},{\"attributes\":{},\"id\":\"1641\",\"type\":\"ResetTool\"},{\"attributes\":{},\"id\":\"1621\",\"type\":\"DataRange1d\"},{\"attributes\":{\"fill_alpha\":{\"value\":0.1},\"fill_color\":{\"value\":\"#1f77b4\"},\"hatch_alpha\":{\"value\":0.1},\"line_alpha\":{\"value\":0.1},\"line_color\":{\"value\":\"#1f77b4\"},\"x\":{\"field\":\"x\"},\"y\":{\"field\":\"y\"}},\"id\":\"1653\",\"type\":\"Scatter\"},{\"attributes\":{},\"id\":\"1699\",\"type\":\"Selection\"},{\"attributes\":{\"source\":{\"id\":\"1651\"}},\"id\":\"1656\",\"type\":\"CDSView\"},{\"attributes\":{\"axis\":{\"id\":\"1633\"},\"coordinates\":null,\"dimension\":1,\"group\":null,\"ticker\":null},\"id\":\"1636\",\"type\":\"Grid\"},{\"attributes\":{},\"id\":\"1623\",\"type\":\"DataRange1d\"},{\"attributes\":{},\"id\":\"1638\",\"type\":\"WheelZoomTool\"},{\"attributes\":{},\"id\":\"1642\",\"type\":\"HelpTool\"},{\"attributes\":{\"coordinates\":null,\"formatter\":{\"id\":\"1693\"},\"group\":null,\"major_label_policy\":{\"id\":\"1694\"},\"ticker\":{\"id\":\"1634\"}},\"id\":\"1633\",\"type\":\"LinearAxis\"},{\"attributes\":{\"coordinates\":null,\"group\":null},\"id\":\"1690\",\"type\":\"Title\"},{\"attributes\":{},\"id\":\"1625\",\"type\":\"LinearScale\"},{\"attributes\":{\"data\":{\"x\":[0.2332013500980337,0.2228505012194248,0.2142092649123609,0.21331547062692136,0.21560122588645217,0.21904101377276491,0.26746747119680786,0.279123013082285,0.2804708578031245,0.28666345260742065,0.2964588882577949,0.30504337117981917,0.31917560749802293,0.3171374739368254,0.31248585171535154,0.30652542494420765,0.2853048509564437,0.28215597874191256,0.2573392963483682,0.24568294363661267,0.2431186210505971,0.2332013500980337],\"y\":[0.22539383505281066,0.23767534469545873,0.2621312454763213,0.3494711169681038,0.4426731155883524,0.4506542481701165,0.5351010379317771,0.5444664112030072,0.545200156351677,0.5453727391636823,0.5408246691631913,0.5292316687531166,0.4939180216111059,0.47212025771764377,0.43685129287149055,0.36299312052770927,0.27027079184105607,0.252771878404875,0.22970407849914803,0.2215796938717066,0.2220567922353541,0.22539383505281066]},\"selected\":{\"id\":\"1699\"},\"selection_policy\":{\"id\":\"1698\"}},\"id\":\"1651\",\"type\":\"ColumnDataSource\"},{\"attributes\":{},\"id\":\"1693\",\"type\":\"BasicTickFormatter\"},{\"attributes\":{\"coordinates\":null,\"data_source\":{\"id\":\"1651\"},\"glyph\":{\"id\":\"1652\"},\"group\":null,\"hover_glyph\":null,\"muted_glyph\":{\"id\":\"1654\"},\"nonselection_glyph\":{\"id\":\"1653\"},\"view\":{\"id\":\"1656\"}},\"id\":\"1655\",\"type\":\"GlyphRenderer\"},{\"attributes\":{},\"id\":\"1637\",\"type\":\"PanTool\"},{\"attributes\":{},\"id\":\"1694\",\"type\":\"AllLabels\"},{\"attributes\":{\"fill_alpha\":{\"value\":0.2},\"fill_color\":{\"value\":\"#1f77b4\"},\"hatch_alpha\":{\"value\":0.2},\"line_alpha\":{\"value\":0.2},\"line_color\":{\"value\":\"#1f77b4\"},\"x\":{\"field\":\"x\"},\"y\":{\"field\":\"y\"}},\"id\":\"1654\",\"type\":\"Scatter\"},{\"attributes\":{\"coordinates\":null,\"formatter\":{\"id\":\"1696\"},\"group\":null,\"major_label_policy\":{\"id\":\"1697\"},\"ticker\":{\"id\":\"1630\"}},\"id\":\"1629\",\"type\":\"LinearAxis\"},{\"attributes\":{\"tools\":[{\"id\":\"1637\"},{\"id\":\"1638\"},{\"id\":\"1639\"},{\"id\":\"1640\"},{\"id\":\"1641\"},{\"id\":\"1642\"}]},\"id\":\"1644\",\"type\":\"Toolbar\"},{\"attributes\":{\"axis\":{\"id\":\"1629\"},\"coordinates\":null,\"group\":null,\"ticker\":null},\"id\":\"1632\",\"type\":\"Grid\"},{\"attributes\":{},\"id\":\"1627\",\"type\":\"LinearScale\"},{\"attributes\":{},\"id\":\"1696\",\"type\":\"BasicTickFormatter\"},{\"attributes\":{},\"id\":\"1697\",\"type\":\"AllLabels\"},{\"attributes\":{},\"id\":\"1640\",\"type\":\"SaveTool\"},{\"attributes\":{},\"id\":\"1630\",\"type\":\"BasicTicker\"},{\"attributes\":{\"overlay\":{\"id\":\"1643\"}},\"id\":\"1639\",\"type\":\"BoxZoomTool\"},{\"attributes\":{\"fill_color\":{\"value\":\"#1f77b4\"},\"line_color\":{\"value\":\"#1f77b4\"},\"x\":{\"field\":\"x\"},\"y\":{\"field\":\"y\"}},\"id\":\"1652\",\"type\":\"Scatter\"}],\"root_ids\":[\"1620\"]},\"title\":\"Bokeh Application\",\"version\":\"2.4.3\"}};\n",
       "  const render_items = [{\"docid\":\"8600f54d-56db-47f1-bceb-f58fc7e46c36\",\"root_ids\":[\"1620\"],\"roots\":{\"1620\":\"1c80fa48-765f-4c60-b9a4-1bb2cfa7c35a\"}}];\n",
       "  root.Bokeh.embed.embed_items_notebook(docs_json, render_items);\n",
       "  }\n",
       "  if (root.Bokeh !== undefined) {\n",
       "    embed_document(root);\n",
       "  } else {\n",
       "    let attempts = 0;\n",
       "    const timer = setInterval(function(root) {\n",
       "      if (root.Bokeh !== undefined) {\n",
       "        clearInterval(timer);\n",
       "        embed_document(root);\n",
       "      } else {\n",
       "        attempts++;\n",
       "        if (attempts > 100) {\n",
       "          clearInterval(timer);\n",
       "          console.log(\"Bokeh: ERROR: Unable to run BokehJS code because BokehJS library is missing\");\n",
       "        }\n",
       "      }\n",
       "    }, 10, root)\n",
       "  }\n",
       "})(window);"
      ],
      "application/vnd.bokehjs_exec.v0+json": ""
     },
     "metadata": {
      "application/vnd.bokehjs_exec.v0+json": {
       "id": "1620"
      }
     },
     "output_type": "display_data"
    }
   ],
   "source": [
    "p = bk.figure()\n",
    "p.scatter(data['xs'][0][0][0], data['ys'][0][0][0])\n",
    "\n",
    "bk.show(p)"
   ]
  },
  {
   "cell_type": "code",
   "execution_count": 33,
   "id": "8ef3923a-80b7-417a-af24-a9fb22a91f7d",
   "metadata": {},
   "outputs": [
    {
     "data": {
      "text/html": [
       "\n",
       "  <div class=\"bk-root\" id=\"16c6e85d-e211-4b3a-910b-0b7d3fdc5d60\" data-root-id=\"1756\"></div>\n"
      ]
     },
     "metadata": {},
     "output_type": "display_data"
    },
    {
     "data": {
      "application/javascript": [
       "(function(root) {\n",
       "  function embed_document(root) {\n",
       "  const docs_json = {\"3c702463-9bd8-46af-bf48-d1b4e5671f54\":{\"defs\":[],\"roots\":{\"references\":[{\"attributes\":{\"below\":[{\"id\":\"1765\"}],\"center\":[{\"id\":\"1768\"},{\"id\":\"1772\"}],\"left\":[{\"id\":\"1769\"}],\"renderers\":[{\"id\":\"1791\"}],\"title\":{\"id\":\"1837\"},\"toolbar\":{\"id\":\"1780\"},\"x_range\":{\"id\":\"1757\"},\"x_scale\":{\"id\":\"1761\"},\"y_range\":{\"id\":\"1759\"},\"y_scale\":{\"id\":\"1763\"}},\"id\":\"1756\",\"subtype\":\"Figure\",\"type\":\"Plot\"},{\"attributes\":{\"coordinates\":null,\"formatter\":{\"id\":\"1843\"},\"group\":null,\"major_label_policy\":{\"id\":\"1844\"},\"ticker\":{\"id\":\"1766\"}},\"id\":\"1765\",\"type\":\"LinearAxis\"},{\"attributes\":{},\"id\":\"1761\",\"type\":\"LinearScale\"},{\"attributes\":{},\"id\":\"1846\",\"type\":\"Selection\"},{\"attributes\":{},\"id\":\"1759\",\"type\":\"DataRange1d\"},{\"attributes\":{\"coordinates\":null,\"data_source\":{\"id\":\"1787\"},\"glyph\":{\"id\":\"1788\"},\"group\":null,\"hover_glyph\":null,\"muted_glyph\":{\"id\":\"1790\"},\"nonselection_glyph\":{\"id\":\"1789\"},\"view\":{\"id\":\"1792\"}},\"id\":\"1791\",\"type\":\"GlyphRenderer\"},{\"attributes\":{},\"id\":\"1778\",\"type\":\"HelpTool\"},{\"attributes\":{\"fill_alpha\":{\"value\":0.1},\"fill_color\":{\"value\":\"#1f77b4\"},\"hatch_alpha\":{\"value\":0.1},\"line_alpha\":{\"value\":0.1},\"line_color\":{\"value\":\"#1f77b4\"},\"x\":{\"field\":\"x\"},\"y\":{\"field\":\"y\"}},\"id\":\"1789\",\"type\":\"Scatter\"},{\"attributes\":{\"coordinates\":null,\"formatter\":{\"id\":\"1840\"},\"group\":null,\"major_label_policy\":{\"id\":\"1841\"},\"ticker\":{\"id\":\"1770\"}},\"id\":\"1769\",\"type\":\"LinearAxis\"},{\"attributes\":{},\"id\":\"1763\",\"type\":\"LinearScale\"},{\"attributes\":{\"axis\":{\"id\":\"1765\"},\"coordinates\":null,\"group\":null,\"ticker\":null},\"id\":\"1768\",\"type\":\"Grid\"},{\"attributes\":{},\"id\":\"1840\",\"type\":\"BasicTickFormatter\"},{\"attributes\":{},\"id\":\"1766\",\"type\":\"BasicTicker\"},{\"attributes\":{\"coordinates\":null,\"group\":null},\"id\":\"1837\",\"type\":\"Title\"},{\"attributes\":{\"tools\":[{\"id\":\"1773\"},{\"id\":\"1774\"},{\"id\":\"1775\"},{\"id\":\"1776\"},{\"id\":\"1777\"},{\"id\":\"1778\"}]},\"id\":\"1780\",\"type\":\"Toolbar\"},{\"attributes\":{\"data\":{\"x\":{\"__ndarray__\":\"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\",\"dtype\":\"float64\",\"order\":\"little\",\"shape\":[787]},\"y\":{\"__ndarray__\":\"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\",\"dtype\":\"float64\",\"order\":\"little\",\"shape\":[787]}},\"selected\":{\"id\":\"1846\"},\"selection_policy\":{\"id\":\"1845\"}},\"id\":\"1787\",\"type\":\"ColumnDataSource\"},{\"attributes\":{},\"id\":\"1757\",\"type\":\"DataRange1d\"},{\"attributes\":{\"source\":{\"id\":\"1787\"}},\"id\":\"1792\",\"type\":\"CDSView\"},{\"attributes\":{},\"id\":\"1841\",\"type\":\"AllLabels\"},{\"attributes\":{\"fill_alpha\":{\"value\":0.2},\"fill_color\":{\"value\":\"#1f77b4\"},\"hatch_alpha\":{\"value\":0.2},\"line_alpha\":{\"value\":0.2},\"line_color\":{\"value\":\"#1f77b4\"},\"x\":{\"field\":\"x\"},\"y\":{\"field\":\"y\"}},\"id\":\"1790\",\"type\":\"Scatter\"},{\"attributes\":{},\"id\":\"1770\",\"type\":\"BasicTicker\"},{\"attributes\":{},\"id\":\"1844\",\"type\":\"AllLabels\"},{\"attributes\":{\"axis\":{\"id\":\"1769\"},\"coordinates\":null,\"dimension\":1,\"group\":null,\"ticker\":null},\"id\":\"1772\",\"type\":\"Grid\"},{\"attributes\":{},\"id\":\"1843\",\"type\":\"BasicTickFormatter\"},{\"attributes\":{},\"id\":\"1773\",\"type\":\"PanTool\"},{\"attributes\":{\"overlay\":{\"id\":\"1779\"}},\"id\":\"1775\",\"type\":\"BoxZoomTool\"},{\"attributes\":{},\"id\":\"1774\",\"type\":\"WheelZoomTool\"},{\"attributes\":{\"fill_color\":{\"value\":\"#1f77b4\"},\"line_color\":{\"value\":\"#1f77b4\"},\"x\":{\"field\":\"x\"},\"y\":{\"field\":\"y\"}},\"id\":\"1788\",\"type\":\"Scatter\"},{\"attributes\":{},\"id\":\"1776\",\"type\":\"SaveTool\"},{\"attributes\":{},\"id\":\"1777\",\"type\":\"ResetTool\"},{\"attributes\":{},\"id\":\"1845\",\"type\":\"UnionRenderers\"},{\"attributes\":{\"bottom_units\":\"screen\",\"coordinates\":null,\"fill_alpha\":0.5,\"fill_color\":\"lightgrey\",\"group\":null,\"left_units\":\"screen\",\"level\":\"overlay\",\"line_alpha\":1.0,\"line_color\":\"black\",\"line_dash\":[4,4],\"line_width\":2,\"right_units\":\"screen\",\"syncable\":false,\"top_units\":\"screen\"},\"id\":\"1779\",\"type\":\"BoxAnnotation\"}],\"root_ids\":[\"1756\"]},\"title\":\"Bokeh Application\",\"version\":\"2.4.3\"}};\n",
       "  const render_items = [{\"docid\":\"3c702463-9bd8-46af-bf48-d1b4e5671f54\",\"root_ids\":[\"1756\"],\"roots\":{\"1756\":\"16c6e85d-e211-4b3a-910b-0b7d3fdc5d60\"}}];\n",
       "  root.Bokeh.embed.embed_items_notebook(docs_json, render_items);\n",
       "  }\n",
       "  if (root.Bokeh !== undefined) {\n",
       "    embed_document(root);\n",
       "  } else {\n",
       "    let attempts = 0;\n",
       "    const timer = setInterval(function(root) {\n",
       "      if (root.Bokeh !== undefined) {\n",
       "        clearInterval(timer);\n",
       "        embed_document(root);\n",
       "      } else {\n",
       "        attempts++;\n",
       "        if (attempts > 100) {\n",
       "          clearInterval(timer);\n",
       "          console.log(\"Bokeh: ERROR: Unable to run BokehJS code because BokehJS library is missing\");\n",
       "        }\n",
       "      }\n",
       "    }, 10, root)\n",
       "  }\n",
       "})(window);"
      ],
      "application/vnd.bokehjs_exec.v0+json": ""
     },
     "metadata": {
      "application/vnd.bokehjs_exec.v0+json": {
       "id": "1756"
      }
     },
     "output_type": "display_data"
    }
   ],
   "source": [
    "p = bk.figure()\n",
    "p.scatter(*np.transpose(clusters[0]))\n",
    "\n",
    "bk.show(p)"
   ]
  },
  {
   "cell_type": "code",
   "execution_count": 34,
   "id": "c1c47464-e2e2-45ef-bac8-b26ee6b960a5",
   "metadata": {},
   "outputs": [
    {
     "data": {
      "text/plain": [
       "0.03"
      ]
     },
     "execution_count": 34,
     "metadata": {},
     "output_type": "execute_result"
    }
   ],
   "source": [
    "0.1 * 0.3"
   ]
  },
  {
   "cell_type": "code",
   "execution_count": 35,
   "id": "e7e496c3-092f-48a7-9cf5-025eb6ac3a4d",
   "metadata": {},
   "outputs": [
    {
     "data": {
      "text/plain": [
       "787"
      ]
     },
     "execution_count": 35,
     "metadata": {},
     "output_type": "execute_result"
    }
   ],
   "source": [
    "len(clusters[0])"
   ]
  },
  {
   "cell_type": "code",
   "execution_count": 16,
   "id": "789f123c-44fb-4f2c-98e4-f6b5377c2b89",
   "metadata": {},
   "outputs": [
    {
     "data": {
      "text/html": [
       "\n",
       "  <div class=\"bk-root\" id=\"8ed9dcff-9773-4034-b141-21d829b30ad7\" data-root-id=\"1004\"></div>\n"
      ]
     },
     "metadata": {},
     "output_type": "display_data"
    },
    {
     "data": {
      "application/javascript": [
       "(function(root) {\n",
       "  function embed_document(root) {\n",
       "  const docs_json = {\"b2e8aec7-b744-4d1c-ac44-9a001d86306a\":{\"defs\":[],\"roots\":{\"references\":[{\"attributes\":{\"text\":\"<input id=\\\"file-input\\\" type=\\\"file\\\">\"},\"id\":\"1004\",\"type\":\"Div\"}],\"root_ids\":[\"1004\"]},\"title\":\"Bokeh Application\",\"version\":\"2.4.3\"}};\n",
       "  const render_items = [{\"docid\":\"b2e8aec7-b744-4d1c-ac44-9a001d86306a\",\"root_ids\":[\"1004\"],\"roots\":{\"1004\":\"8ed9dcff-9773-4034-b141-21d829b30ad7\"}}];\n",
       "  root.Bokeh.embed.embed_items_notebook(docs_json, render_items);\n",
       "  }\n",
       "  if (root.Bokeh !== undefined) {\n",
       "    embed_document(root);\n",
       "  } else {\n",
       "    let attempts = 0;\n",
       "    const timer = setInterval(function(root) {\n",
       "      if (root.Bokeh !== undefined) {\n",
       "        clearInterval(timer);\n",
       "        embed_document(root);\n",
       "      } else {\n",
       "        attempts++;\n",
       "        if (attempts > 100) {\n",
       "          clearInterval(timer);\n",
       "          console.log(\"Bokeh: ERROR: Unable to run BokehJS code because BokehJS library is missing\");\n",
       "        }\n",
       "      }\n",
       "    }, 10, root)\n",
       "  }\n",
       "})(window);"
      ],
      "application/vnd.bokehjs_exec.v0+json": ""
     },
     "metadata": {
      "application/vnd.bokehjs_exec.v0+json": {
       "id": "1004"
      }
     },
     "output_type": "display_data"
    }
   ],
   "source": [
    "input_div = bk.Div(text='<input id=\"file-input\" type=\"file\">')\n",
    "bk.show(input_div)"
   ]
  },
  {
   "cell_type": "code",
   "execution_count": 17,
   "id": "70306e3e-1ea8-497e-b9b5-61693cb94625",
   "metadata": {},
   "outputs": [
    {
     "data": {
      "text/html": [
       "<div class=\"bk-root\">\n",
       "        <a href=\"https://bokeh.org\" target=\"_blank\" class=\"bk-logo bk-logo-small bk-logo-notebook\"></a>\n",
       "        <span id=\"1005\">Loading BokehJS ...</span>\n",
       "    </div>\n"
      ]
     },
     "metadata": {},
     "output_type": "display_data"
    },
    {
     "data": {
      "application/javascript": [
       "(function(root) {\n",
       "  function now() {\n",
       "    return new Date();\n",
       "  }\n",
       "\n",
       "  const force = true;\n",
       "\n",
       "  if (typeof root._bokeh_onload_callbacks === \"undefined\" || force === true) {\n",
       "    root._bokeh_onload_callbacks = [];\n",
       "    root._bokeh_is_loading = undefined;\n",
       "  }\n",
       "\n",
       "const JS_MIME_TYPE = 'application/javascript';\n",
       "  const HTML_MIME_TYPE = 'text/html';\n",
       "  const EXEC_MIME_TYPE = 'application/vnd.bokehjs_exec.v0+json';\n",
       "  const CLASS_NAME = 'output_bokeh rendered_html';\n",
       "\n",
       "  /**\n",
       "   * Render data to the DOM node\n",
       "   */\n",
       "  function render(props, node) {\n",
       "    const script = document.createElement(\"script\");\n",
       "    node.appendChild(script);\n",
       "  }\n",
       "\n",
       "  /**\n",
       "   * Handle when an output is cleared or removed\n",
       "   */\n",
       "  function handleClearOutput(event, handle) {\n",
       "    const cell = handle.cell;\n",
       "\n",
       "    const id = cell.output_area._bokeh_element_id;\n",
       "    const server_id = cell.output_area._bokeh_server_id;\n",
       "    // Clean up Bokeh references\n",
       "    if (id != null && id in Bokeh.index) {\n",
       "      Bokeh.index[id].model.document.clear();\n",
       "      delete Bokeh.index[id];\n",
       "    }\n",
       "\n",
       "    if (server_id !== undefined) {\n",
       "      // Clean up Bokeh references\n",
       "      const cmd_clean = \"from bokeh.io.state import curstate; print(curstate().uuid_to_server['\" + server_id + \"'].get_sessions()[0].document.roots[0]._id)\";\n",
       "      cell.notebook.kernel.execute(cmd_clean, {\n",
       "        iopub: {\n",
       "          output: function(msg) {\n",
       "            const id = msg.content.text.trim();\n",
       "            if (id in Bokeh.index) {\n",
       "              Bokeh.index[id].model.document.clear();\n",
       "              delete Bokeh.index[id];\n",
       "            }\n",
       "          }\n",
       "        }\n",
       "      });\n",
       "      // Destroy server and session\n",
       "      const cmd_destroy = \"import bokeh.io.notebook as ion; ion.destroy_server('\" + server_id + \"')\";\n",
       "      cell.notebook.kernel.execute(cmd_destroy);\n",
       "    }\n",
       "  }\n",
       "\n",
       "  /**\n",
       "   * Handle when a new output is added\n",
       "   */\n",
       "  function handleAddOutput(event, handle) {\n",
       "    const output_area = handle.output_area;\n",
       "    const output = handle.output;\n",
       "\n",
       "    // limit handleAddOutput to display_data with EXEC_MIME_TYPE content only\n",
       "    if ((output.output_type != \"display_data\") || (!Object.prototype.hasOwnProperty.call(output.data, EXEC_MIME_TYPE))) {\n",
       "      return\n",
       "    }\n",
       "\n",
       "    const toinsert = output_area.element.find(\".\" + CLASS_NAME.split(' ')[0]);\n",
       "\n",
       "    if (output.metadata[EXEC_MIME_TYPE][\"id\"] !== undefined) {\n",
       "      toinsert[toinsert.length - 1].firstChild.textContent = output.data[JS_MIME_TYPE];\n",
       "      // store reference to embed id on output_area\n",
       "      output_area._bokeh_element_id = output.metadata[EXEC_MIME_TYPE][\"id\"];\n",
       "    }\n",
       "    if (output.metadata[EXEC_MIME_TYPE][\"server_id\"] !== undefined) {\n",
       "      const bk_div = document.createElement(\"div\");\n",
       "      bk_div.innerHTML = output.data[HTML_MIME_TYPE];\n",
       "      const script_attrs = bk_div.children[0].attributes;\n",
       "      for (let i = 0; i < script_attrs.length; i++) {\n",
       "        toinsert[toinsert.length - 1].firstChild.setAttribute(script_attrs[i].name, script_attrs[i].value);\n",
       "        toinsert[toinsert.length - 1].firstChild.textContent = bk_div.children[0].textContent\n",
       "      }\n",
       "      // store reference to server id on output_area\n",
       "      output_area._bokeh_server_id = output.metadata[EXEC_MIME_TYPE][\"server_id\"];\n",
       "    }\n",
       "  }\n",
       "\n",
       "  function register_renderer(events, OutputArea) {\n",
       "\n",
       "    function append_mime(data, metadata, element) {\n",
       "      // create a DOM node to render to\n",
       "      const toinsert = this.create_output_subarea(\n",
       "        metadata,\n",
       "        CLASS_NAME,\n",
       "        EXEC_MIME_TYPE\n",
       "      );\n",
       "      this.keyboard_manager.register_events(toinsert);\n",
       "      // Render to node\n",
       "      const props = {data: data, metadata: metadata[EXEC_MIME_TYPE]};\n",
       "      render(props, toinsert[toinsert.length - 1]);\n",
       "      element.append(toinsert);\n",
       "      return toinsert\n",
       "    }\n",
       "\n",
       "    /* Handle when an output is cleared or removed */\n",
       "    events.on('clear_output.CodeCell', handleClearOutput);\n",
       "    events.on('delete.Cell', handleClearOutput);\n",
       "\n",
       "    /* Handle when a new output is added */\n",
       "    events.on('output_added.OutputArea', handleAddOutput);\n",
       "\n",
       "    /**\n",
       "     * Register the mime type and append_mime function with output_area\n",
       "     */\n",
       "    OutputArea.prototype.register_mime_type(EXEC_MIME_TYPE, append_mime, {\n",
       "      /* Is output safe? */\n",
       "      safe: true,\n",
       "      /* Index of renderer in `output_area.display_order` */\n",
       "      index: 0\n",
       "    });\n",
       "  }\n",
       "\n",
       "  // register the mime type if in Jupyter Notebook environment and previously unregistered\n",
       "  if (root.Jupyter !== undefined) {\n",
       "    const events = require('base/js/events');\n",
       "    const OutputArea = require('notebook/js/outputarea').OutputArea;\n",
       "\n",
       "    if (OutputArea.prototype.mime_types().indexOf(EXEC_MIME_TYPE) == -1) {\n",
       "      register_renderer(events, OutputArea);\n",
       "    }\n",
       "  }\n",
       "  if (typeof (root._bokeh_timeout) === \"undefined\" || force === true) {\n",
       "    root._bokeh_timeout = Date.now() + 5000;\n",
       "    root._bokeh_failed_load = false;\n",
       "  }\n",
       "\n",
       "  const NB_LOAD_WARNING = {'data': {'text/html':\n",
       "     \"<div style='background-color: #fdd'>\\n\"+\n",
       "     \"<p>\\n\"+\n",
       "     \"BokehJS does not appear to have successfully loaded. If loading BokehJS from CDN, this \\n\"+\n",
       "     \"may be due to a slow or bad network connection. Possible fixes:\\n\"+\n",
       "     \"</p>\\n\"+\n",
       "     \"<ul>\\n\"+\n",
       "     \"<li>re-rerun `output_notebook()` to attempt to load from CDN again, or</li>\\n\"+\n",
       "     \"<li>use INLINE resources instead, as so:</li>\\n\"+\n",
       "     \"</ul>\\n\"+\n",
       "     \"<code>\\n\"+\n",
       "     \"from bokeh.resources import INLINE\\n\"+\n",
       "     \"output_notebook(resources=INLINE)\\n\"+\n",
       "     \"</code>\\n\"+\n",
       "     \"</div>\"}};\n",
       "\n",
       "  function display_loaded() {\n",
       "    const el = document.getElementById(\"1005\");\n",
       "    if (el != null) {\n",
       "      el.textContent = \"BokehJS is loading...\";\n",
       "    }\n",
       "    if (root.Bokeh !== undefined) {\n",
       "      if (el != null) {\n",
       "        el.textContent = \"BokehJS \" + root.Bokeh.version + \" successfully loaded.\";\n",
       "      }\n",
       "    } else if (Date.now() < root._bokeh_timeout) {\n",
       "      setTimeout(display_loaded, 100)\n",
       "    }\n",
       "  }\n",
       "\n",
       "  function run_callbacks() {\n",
       "    try {\n",
       "      root._bokeh_onload_callbacks.forEach(function(callback) {\n",
       "        if (callback != null)\n",
       "          callback();\n",
       "      });\n",
       "    } finally {\n",
       "      delete root._bokeh_onload_callbacks\n",
       "    }\n",
       "    console.debug(\"Bokeh: all callbacks have finished\");\n",
       "  }\n",
       "\n",
       "  function load_libs(css_urls, js_urls, callback) {\n",
       "    if (css_urls == null) css_urls = [];\n",
       "    if (js_urls == null) js_urls = [];\n",
       "\n",
       "    root._bokeh_onload_callbacks.push(callback);\n",
       "    if (root._bokeh_is_loading > 0) {\n",
       "      console.debug(\"Bokeh: BokehJS is being loaded, scheduling callback at\", now());\n",
       "      return null;\n",
       "    }\n",
       "    if (js_urls == null || js_urls.length === 0) {\n",
       "      run_callbacks();\n",
       "      return null;\n",
       "    }\n",
       "    console.debug(\"Bokeh: BokehJS not loaded, scheduling load and callback at\", now());\n",
       "    root._bokeh_is_loading = css_urls.length + js_urls.length;\n",
       "\n",
       "    function on_load() {\n",
       "      root._bokeh_is_loading--;\n",
       "      if (root._bokeh_is_loading === 0) {\n",
       "        console.debug(\"Bokeh: all BokehJS libraries/stylesheets loaded\");\n",
       "        run_callbacks()\n",
       "      }\n",
       "    }\n",
       "\n",
       "    function on_error(url) {\n",
       "      console.error(\"failed to load \" + url);\n",
       "    }\n",
       "\n",
       "    for (let i = 0; i < css_urls.length; i++) {\n",
       "      const url = css_urls[i];\n",
       "      const element = document.createElement(\"link\");\n",
       "      element.onload = on_load;\n",
       "      element.onerror = on_error.bind(null, url);\n",
       "      element.rel = \"stylesheet\";\n",
       "      element.type = \"text/css\";\n",
       "      element.href = url;\n",
       "      console.debug(\"Bokeh: injecting link tag for BokehJS stylesheet: \", url);\n",
       "      document.body.appendChild(element);\n",
       "    }\n",
       "\n",
       "    for (let i = 0; i < js_urls.length; i++) {\n",
       "      const url = js_urls[i];\n",
       "      const element = document.createElement('script');\n",
       "      element.onload = on_load;\n",
       "      element.onerror = on_error.bind(null, url);\n",
       "      element.async = false;\n",
       "      element.src = url;\n",
       "      console.debug(\"Bokeh: injecting script tag for BokehJS library: \", url);\n",
       "      document.head.appendChild(element);\n",
       "    }\n",
       "  };\n",
       "\n",
       "  function inject_raw_css(css) {\n",
       "    const element = document.createElement(\"style\");\n",
       "    element.appendChild(document.createTextNode(css));\n",
       "    document.body.appendChild(element);\n",
       "  }\n",
       "\n",
       "  const js_urls = [\"https://cdn.bokeh.org/bokeh/release/bokeh-2.4.3.min.js\", \"https://cdn.bokeh.org/bokeh/release/bokeh-gl-2.4.3.min.js\", \"https://cdn.bokeh.org/bokeh/release/bokeh-widgets-2.4.3.min.js\", \"https://cdn.bokeh.org/bokeh/release/bokeh-tables-2.4.3.min.js\", \"https://cdn.bokeh.org/bokeh/release/bokeh-mathjax-2.4.3.min.js\"];\n",
       "  const css_urls = [];\n",
       "\n",
       "  const inline_js = [    function(Bokeh) {\n",
       "      Bokeh.set_log_level(\"info\");\n",
       "    },\n",
       "function(Bokeh) {\n",
       "    }\n",
       "  ];\n",
       "\n",
       "  function run_inline_js() {\n",
       "    if (root.Bokeh !== undefined || force === true) {\n",
       "          for (let i = 0; i < inline_js.length; i++) {\n",
       "      inline_js[i].call(root, root.Bokeh);\n",
       "    }\n",
       "if (force === true) {\n",
       "        display_loaded();\n",
       "      }} else if (Date.now() < root._bokeh_timeout) {\n",
       "      setTimeout(run_inline_js, 100);\n",
       "    } else if (!root._bokeh_failed_load) {\n",
       "      console.log(\"Bokeh: BokehJS failed to load within specified timeout.\");\n",
       "      root._bokeh_failed_load = true;\n",
       "    } else if (force !== true) {\n",
       "      const cell = $(document.getElementById(\"1005\")).parents('.cell').data().cell;\n",
       "      cell.output_area.append_execute_result(NB_LOAD_WARNING)\n",
       "    }\n",
       "  }\n",
       "\n",
       "  if (root._bokeh_is_loading === 0) {\n",
       "    console.debug(\"Bokeh: BokehJS loaded, going straight to plotting\");\n",
       "    run_inline_js();\n",
       "  } else {\n",
       "    load_libs(css_urls, js_urls, function() {\n",
       "      console.debug(\"Bokeh: BokehJS plotting callback run at\", now());\n",
       "      run_inline_js();\n",
       "    });\n",
       "  }\n",
       "}(window));"
      ],
      "application/vnd.bokehjs_load.v0+json": "(function(root) {\n  function now() {\n    return new Date();\n  }\n\n  const force = true;\n\n  if (typeof root._bokeh_onload_callbacks === \"undefined\" || force === true) {\n    root._bokeh_onload_callbacks = [];\n    root._bokeh_is_loading = undefined;\n  }\n\n\n  if (typeof (root._bokeh_timeout) === \"undefined\" || force === true) {\n    root._bokeh_timeout = Date.now() + 5000;\n    root._bokeh_failed_load = false;\n  }\n\n  const NB_LOAD_WARNING = {'data': {'text/html':\n     \"<div style='background-color: #fdd'>\\n\"+\n     \"<p>\\n\"+\n     \"BokehJS does not appear to have successfully loaded. If loading BokehJS from CDN, this \\n\"+\n     \"may be due to a slow or bad network connection. Possible fixes:\\n\"+\n     \"</p>\\n\"+\n     \"<ul>\\n\"+\n     \"<li>re-rerun `output_notebook()` to attempt to load from CDN again, or</li>\\n\"+\n     \"<li>use INLINE resources instead, as so:</li>\\n\"+\n     \"</ul>\\n\"+\n     \"<code>\\n\"+\n     \"from bokeh.resources import INLINE\\n\"+\n     \"output_notebook(resources=INLINE)\\n\"+\n     \"</code>\\n\"+\n     \"</div>\"}};\n\n  function display_loaded() {\n    const el = document.getElementById(\"1005\");\n    if (el != null) {\n      el.textContent = \"BokehJS is loading...\";\n    }\n    if (root.Bokeh !== undefined) {\n      if (el != null) {\n        el.textContent = \"BokehJS \" + root.Bokeh.version + \" successfully loaded.\";\n      }\n    } else if (Date.now() < root._bokeh_timeout) {\n      setTimeout(display_loaded, 100)\n    }\n  }\n\n  function run_callbacks() {\n    try {\n      root._bokeh_onload_callbacks.forEach(function(callback) {\n        if (callback != null)\n          callback();\n      });\n    } finally {\n      delete root._bokeh_onload_callbacks\n    }\n    console.debug(\"Bokeh: all callbacks have finished\");\n  }\n\n  function load_libs(css_urls, js_urls, callback) {\n    if (css_urls == null) css_urls = [];\n    if (js_urls == null) js_urls = [];\n\n    root._bokeh_onload_callbacks.push(callback);\n    if (root._bokeh_is_loading > 0) {\n      console.debug(\"Bokeh: BokehJS is being loaded, scheduling callback at\", now());\n      return null;\n    }\n    if (js_urls == null || js_urls.length === 0) {\n      run_callbacks();\n      return null;\n    }\n    console.debug(\"Bokeh: BokehJS not loaded, scheduling load and callback at\", now());\n    root._bokeh_is_loading = css_urls.length + js_urls.length;\n\n    function on_load() {\n      root._bokeh_is_loading--;\n      if (root._bokeh_is_loading === 0) {\n        console.debug(\"Bokeh: all BokehJS libraries/stylesheets loaded\");\n        run_callbacks()\n      }\n    }\n\n    function on_error(url) {\n      console.error(\"failed to load \" + url);\n    }\n\n    for (let i = 0; i < css_urls.length; i++) {\n      const url = css_urls[i];\n      const element = document.createElement(\"link\");\n      element.onload = on_load;\n      element.onerror = on_error.bind(null, url);\n      element.rel = \"stylesheet\";\n      element.type = \"text/css\";\n      element.href = url;\n      console.debug(\"Bokeh: injecting link tag for BokehJS stylesheet: \", url);\n      document.body.appendChild(element);\n    }\n\n    for (let i = 0; i < js_urls.length; i++) {\n      const url = js_urls[i];\n      const element = document.createElement('script');\n      element.onload = on_load;\n      element.onerror = on_error.bind(null, url);\n      element.async = false;\n      element.src = url;\n      console.debug(\"Bokeh: injecting script tag for BokehJS library: \", url);\n      document.head.appendChild(element);\n    }\n  };\n\n  function inject_raw_css(css) {\n    const element = document.createElement(\"style\");\n    element.appendChild(document.createTextNode(css));\n    document.body.appendChild(element);\n  }\n\n  const js_urls = [\"https://cdn.bokeh.org/bokeh/release/bokeh-2.4.3.min.js\", \"https://cdn.bokeh.org/bokeh/release/bokeh-gl-2.4.3.min.js\", \"https://cdn.bokeh.org/bokeh/release/bokeh-widgets-2.4.3.min.js\", \"https://cdn.bokeh.org/bokeh/release/bokeh-tables-2.4.3.min.js\", \"https://cdn.bokeh.org/bokeh/release/bokeh-mathjax-2.4.3.min.js\"];\n  const css_urls = [];\n\n  const inline_js = [    function(Bokeh) {\n      Bokeh.set_log_level(\"info\");\n    },\nfunction(Bokeh) {\n    }\n  ];\n\n  function run_inline_js() {\n    if (root.Bokeh !== undefined || force === true) {\n          for (let i = 0; i < inline_js.length; i++) {\n      inline_js[i].call(root, root.Bokeh);\n    }\nif (force === true) {\n        display_loaded();\n      }} else if (Date.now() < root._bokeh_timeout) {\n      setTimeout(run_inline_js, 100);\n    } else if (!root._bokeh_failed_load) {\n      console.log(\"Bokeh: BokehJS failed to load within specified timeout.\");\n      root._bokeh_failed_load = true;\n    } else if (force !== true) {\n      const cell = $(document.getElementById(\"1005\")).parents('.cell').data().cell;\n      cell.output_area.append_execute_result(NB_LOAD_WARNING)\n    }\n  }\n\n  if (root._bokeh_is_loading === 0) {\n    console.debug(\"Bokeh: BokehJS loaded, going straight to plotting\");\n    run_inline_js();\n  } else {\n    load_libs(css_urls, js_urls, function() {\n      console.debug(\"Bokeh: BokehJS plotting callback run at\", now());\n      run_inline_js();\n    });\n  }\n}(window));"
     },
     "metadata": {},
     "output_type": "display_data"
    }
   ],
   "source": [
    "from bokeh.models import ActionTool\n",
    "from bokeh.util.compiler import TypeScript\n",
    "from bokeh.core.properties import String\n",
    "\n",
    "from bokeh.io import show, output_notebook\n",
    "from bokeh.plotting import figure\n",
    "\n",
    "output_notebook()\n",
    "\n",
    "CUSTOM_SAVE_TS = \"\"\"\n",
    "import {ActionTool, ActionToolView} from \"models/tools/actions/action_tool\"\n",
    "import * as p from \"core/properties\"\n",
    "import {tool_icon_save} from \"styles/icons.css\"\n",
    "\n",
    "export class CustomSaveToolView extends ActionToolView {\n",
    "  model: CustomSaveTool\n",
    "\n",
    "  async save(name: string): Promise<void> {\n",
    "    const blob = await this.plot_view.to_blob()\n",
    "    const link = document.createElement(\"a\")\n",
    "    link.href = URL.createObjectURL(blob)\n",
    "    link.download = name // + \".png\" | \"svg\" (inferred from MIME type)\n",
    "    link.target = \"_blank\"\n",
    "    link.dispatchEvent(new MouseEvent(\"click\"))\n",
    "  }\n",
    "\n",
    "  doit(): void {\n",
    "    this.save(this.model.save_name)\n",
    "  }\n",
    "}\n",
    "\n",
    "export namespace CustomSaveTool {\n",
    "  export type Attrs = p.AttrsOf<Props>\n",
    "\n",
    "  export type Props = ActionTool.Props & {\n",
    "    save_name: p.Property<string>\n",
    "  } \n",
    "}\n",
    "\n",
    "export interface CustomSaveTool extends CustomSaveTool.Attrs {}\n",
    "\n",
    "export class CustomSaveTool extends ActionTool {\n",
    "  properties: CustomSaveTool.Props \n",
    "  __view_type__: CustomSaveToolView\n",
    "\n",
    "  constructor(attrs?: Partial<CustomSaveTool.Attrs>) {\n",
    "    super(attrs)\n",
    "  }\n",
    "\n",
    "  static init_CustomSaveTool(): void {\n",
    "    this.prototype.default_view = CustomSaveToolView\n",
    "\n",
    "    this.register_alias(\"save\", () => new CustomSaveTool())\n",
    "\n",
    "    this.define<CustomSaveTool.Props>(({String}) => ({\n",
    "      save_name: [ String ],\n",
    "    }))\n",
    "  }\n",
    "\n",
    "  tool_name = \"Custom Save\"\n",
    "  icon = tool_icon_save\n",
    "\n",
    "}\n",
    "\"\"\"\n",
    "\n",
    "class CustomSaveTool(ActionTool):\n",
    "    \"\"\"Modified save tool allowing custom file names\"\"\"\n",
    "    __implementation__ = TypeScript(CUSTOM_SAVE_TS)\n",
    "    save_name = String()"
   ]
  },
  {
   "cell_type": "code",
   "execution_count": 18,
   "id": "bab72abe-218e-4aac-9143-3e23ee8446c5",
   "metadata": {},
   "outputs": [
    {
     "name": "stderr",
     "output_type": "stream",
     "text": [
      "WARNING:bokeh.core.validation.check:W-1000 (MISSING_RENDERERS): Plot has no renderers: Figure(id='1007', ...)\n"
     ]
    },
    {
     "data": {
      "text/html": [
       "\n",
       "  <div class=\"bk-root\" id=\"8bb27f91-6f73-4b82-9b34-5e205b6b197e\" data-root-id=\"1007\"></div>\n"
      ]
     },
     "metadata": {},
     "output_type": "display_data"
    },
    {
     "data": {
      "application/javascript": [
       "(function(root) {\n",
       "  function embed_document(root) {\n",
       "  const docs_json = {\"99387ef0-42ef-45b2-b754-c2c057480222\":{\"defs\":[],\"roots\":{\"references\":[{\"attributes\":{\"below\":[{\"id\":\"1016\"}],\"center\":[{\"id\":\"1019\"},{\"id\":\"1023\"}],\"height\":70,\"left\":[{\"id\":\"1020\"}],\"title\":{\"id\":\"1027\"},\"toolbar\":{\"id\":\"1024\"},\"width\":40,\"x_range\":{\"id\":\"1008\"},\"x_scale\":{\"id\":\"1012\"},\"y_range\":{\"id\":\"1010\"},\"y_scale\":{\"id\":\"1014\"}},\"id\":\"1007\",\"subtype\":\"Figure\",\"type\":\"Plot\"},{\"attributes\":{\"coordinates\":null,\"formatter\":{\"id\":\"1030\"},\"group\":null,\"major_label_policy\":{\"id\":\"1031\"},\"ticker\":{\"id\":\"1021\"}},\"id\":\"1020\",\"type\":\"LinearAxis\"},{\"attributes\":{\"axis\":{\"id\":\"1016\"},\"coordinates\":null,\"group\":null,\"ticker\":null},\"id\":\"1019\",\"type\":\"Grid\"},{\"attributes\":{},\"id\":\"1008\",\"type\":\"DataRange1d\"},{\"attributes\":{\"save_name\":\"custom_filename\"},\"id\":\"1006\",\"type\":\"CustomSaveTool\"},{\"attributes\":{\"axis\":{\"id\":\"1020\"},\"coordinates\":null,\"dimension\":1,\"group\":null,\"ticker\":null},\"id\":\"1023\",\"type\":\"Grid\"},{\"attributes\":{\"logo\":null,\"tools\":[{\"id\":\"1006\"}]},\"id\":\"1024\",\"type\":\"Toolbar\"},{\"attributes\":{},\"id\":\"1021\",\"type\":\"BasicTicker\"},{\"attributes\":{},\"id\":\"1033\",\"type\":\"BasicTickFormatter\"},{\"attributes\":{},\"id\":\"1010\",\"type\":\"DataRange1d\"},{\"attributes\":{},\"id\":\"1012\",\"type\":\"LinearScale\"},{\"attributes\":{\"coordinates\":null,\"formatter\":{\"id\":\"1033\"},\"group\":null,\"major_label_policy\":{\"id\":\"1034\"},\"ticker\":{\"id\":\"1017\"}},\"id\":\"1016\",\"type\":\"LinearAxis\"},{\"attributes\":{},\"id\":\"1034\",\"type\":\"AllLabels\"},{\"attributes\":{},\"id\":\"1014\",\"type\":\"LinearScale\"},{\"attributes\":{},\"id\":\"1030\",\"type\":\"BasicTickFormatter\"},{\"attributes\":{},\"id\":\"1017\",\"type\":\"BasicTicker\"},{\"attributes\":{\"coordinates\":null,\"group\":null},\"id\":\"1027\",\"type\":\"Title\"},{\"attributes\":{},\"id\":\"1031\",\"type\":\"AllLabels\"}],\"root_ids\":[\"1007\"]},\"title\":\"Bokeh Application\",\"version\":\"2.4.3\"}};\n",
       "  const render_items = [{\"docid\":\"99387ef0-42ef-45b2-b754-c2c057480222\",\"root_ids\":[\"1007\"],\"roots\":{\"1007\":\"8bb27f91-6f73-4b82-9b34-5e205b6b197e\"}}];\n",
       "  root.Bokeh.embed.embed_items_notebook(docs_json, render_items);\n",
       "  }\n",
       "  if (root.Bokeh !== undefined) {\n",
       "    embed_document(root);\n",
       "  } else {\n",
       "    let attempts = 0;\n",
       "    const timer = setInterval(function(root) {\n",
       "      if (root.Bokeh !== undefined) {\n",
       "        clearInterval(timer);\n",
       "        embed_document(root);\n",
       "      } else {\n",
       "        attempts++;\n",
       "        if (attempts > 100) {\n",
       "          clearInterval(timer);\n",
       "          console.log(\"Bokeh: ERROR: Unable to run BokehJS code because BokehJS library is missing\");\n",
       "        }\n",
       "      }\n",
       "    }, 10, root)\n",
       "  }\n",
       "})(window);"
      ],
      "application/vnd.bokehjs_exec.v0+json": ""
     },
     "metadata": {
      "application/vnd.bokehjs_exec.v0+json": {
       "id": "1007"
      }
     },
     "output_type": "display_data"
    }
   ],
   "source": [
    "save_tool = CustomSaveTool(save_name='custom_filename')\n",
    "\n",
    "a = figure(tools=[save_tool],\n",
    "          width=40,\n",
    "          height=70)\n",
    "\n",
    "a.toolbar.logo = None\n",
    "\n",
    "show(a)"
   ]
  },
  {
   "cell_type": "code",
   "execution_count": 19,
   "id": "4275cd92-54a8-4446-b4ad-3a7e96d34711",
   "metadata": {},
   "outputs": [
    {
     "data": {
      "text/plain": [
       "{'save_name': 'custom_filename',\n",
       " 'description': None,\n",
       " 'name': None,\n",
       " 'tags': [],\n",
       " 'js_event_callbacks': {},\n",
       " 'subscribed_events': [],\n",
       " 'js_property_callbacks': {},\n",
       " 'syncable': True}"
      ]
     },
     "execution_count": 19,
     "metadata": {},
     "output_type": "execute_result"
    }
   ],
   "source": [
    "save_tool.properties_with_values()"
   ]
  },
  {
   "cell_type": "code",
   "execution_count": 20,
   "id": "9203a2f6-1f1c-4650-84f4-dac8b9193b66",
   "metadata": {},
   "outputs": [
    {
     "data": {
      "text/plain": [
       "{'active_drag': 'auto',\n",
       " 'active_inspect': 'auto',\n",
       " 'active_scroll': 'auto',\n",
       " 'active_tap': 'auto',\n",
       " 'active_multi': 'auto',\n",
       " 'logo': None,\n",
       " 'autohide': False,\n",
       " 'tools': [CustomSaveTool(id='1006', ...)],\n",
       " 'name': None,\n",
       " 'tags': [],\n",
       " 'js_event_callbacks': {},\n",
       " 'subscribed_events': [],\n",
       " 'js_property_callbacks': {},\n",
       " 'syncable': True}"
      ]
     },
     "execution_count": 20,
     "metadata": {},
     "output_type": "execute_result"
    }
   ],
   "source": [
    "a.toolbar.properties_with_values()"
   ]
  },
  {
   "cell_type": "code",
   "execution_count": 21,
   "id": "12164adc-20dc-4bf0-befc-5da4dff5928e",
   "metadata": {
    "lines_to_next_cell": 0
   },
   "outputs": [
    {
     "data": {
      "text/plain": [
       "\u001b[0;31mType:\u001b[0m        NoneType\n",
       "\u001b[0;31mString form:\u001b[0m None\n",
       "\u001b[0;31mDocstring:\u001b[0m   <no docstring>\n"
      ]
     },
     "metadata": {},
     "output_type": "display_data"
    }
   ],
   "source": [
    "a.toolbar.logo?"
   ]
  },
  {
   "cell_type": "code",
   "execution_count": null,
   "id": "cbd0cfc0-1b8e-4a0a-b8f2-02f04ded3104",
   "metadata": {
    "lines_to_next_cell": 2
   },
   "outputs": [],
   "source": []
  },
  {
   "cell_type": "code",
   "execution_count": 15,
   "id": "5e9a05b0-58ed-40e7-b8af-fca8a67f73c2",
   "metadata": {},
   "outputs": [],
   "source": [
    "X, clusters, data = pkl.load(open('tmp.pkl', 'rb'))"
   ]
  },
  {
   "cell_type": "code",
   "execution_count": 16,
   "id": "f12acb29-f551-4633-9498-ef40c78e7e68",
   "metadata": {},
   "outputs": [
    {
     "data": {
      "text/plain": [
       "5"
      ]
     },
     "execution_count": 16,
     "metadata": {},
     "output_type": "execute_result"
    }
   ],
   "source": [
    "len(data['xs'])"
   ]
  },
  {
   "cell_type": "code",
   "execution_count": 19,
   "id": "1850e20a-bd99-4f88-abc5-b0ac016571d8",
   "metadata": {},
   "outputs": [
    {
     "data": {
      "text/plain": [
       "\u001b[0;31mSignature:\u001b[0m \u001b[0mext_lib\u001b[0m\u001b[0;34m.\u001b[0m\u001b[0munscale\u001b[0m\u001b[0;34m(\u001b[0m\u001b[0mxs\u001b[0m\u001b[0;34m,\u001b[0m \u001b[0mys\u001b[0m\u001b[0;34m,\u001b[0m \u001b[0mpars\u001b[0m\u001b[0;34m)\u001b[0m\u001b[0;34m\u001b[0m\u001b[0;34m\u001b[0m\u001b[0m\n",
       "\u001b[0;31mDocstring:\u001b[0m <no docstring>\n",
       "\u001b[0;31mSource:\u001b[0m   \n",
       "\u001b[0;32mdef\u001b[0m \u001b[0munscale\u001b[0m\u001b[0;34m(\u001b[0m\u001b[0mxs\u001b[0m\u001b[0;34m,\u001b[0m \u001b[0mys\u001b[0m\u001b[0;34m,\u001b[0m \u001b[0mpars\u001b[0m\u001b[0;34m)\u001b[0m\u001b[0;34m:\u001b[0m\u001b[0;34m\u001b[0m\n",
       "\u001b[0;34m\u001b[0m        \u001b[0;34m\u001b[0m\n",
       "\u001b[0;34m\u001b[0m    \u001b[0mnms\u001b[0m \u001b[0;34m=\u001b[0m \u001b[0;34m[\u001b[0m\u001b[0;34m'phi'\u001b[0m\u001b[0;34m,\u001b[0m \u001b[0;34m'offset'\u001b[0m\u001b[0;34m,\u001b[0m \u001b[0;34m'xmin'\u001b[0m\u001b[0;34m,\u001b[0m \u001b[0;34m'xmax'\u001b[0m\u001b[0;34m,\u001b[0m \u001b[0;34m'ymin'\u001b[0m\u001b[0;34m,\u001b[0m \u001b[0;34m'ymax'\u001b[0m\u001b[0;34m,\u001b[0m \u001b[0;34m'dx<dy'\u001b[0m\u001b[0;34m,\u001b[0m \u001b[0;34m'X.min(0)'\u001b[0m\u001b[0;34m,\u001b[0m \u001b[0;34m'dX(0)'\u001b[0m\u001b[0;34m]\u001b[0m\u001b[0;34m\u001b[0m\n",
       "\u001b[0;34m\u001b[0m    \u001b[0;34m\u001b[0m\n",
       "\u001b[0;34m\u001b[0m    \u001b[0mphi\u001b[0m\u001b[0;34m,\u001b[0m \u001b[0moffset\u001b[0m\u001b[0;34m,\u001b[0m \u001b[0mxmin\u001b[0m\u001b[0;34m,\u001b[0m \u001b[0mxmax\u001b[0m\u001b[0;34m,\u001b[0m \u001b[0mymin\u001b[0m\u001b[0;34m,\u001b[0m \u001b[0mymax\u001b[0m\u001b[0;34m,\u001b[0m \u001b[0mdxdy\u001b[0m\u001b[0;34m,\u001b[0m \u001b[0mXmin0\u001b[0m\u001b[0;34m,\u001b[0m \u001b[0mdX0\u001b[0m \u001b[0;34m=\u001b[0m \u001b[0;34m[\u001b[0m\u001b[0mpars\u001b[0m\u001b[0;34m[\u001b[0m\u001b[0m_\u001b[0m\u001b[0;34m]\u001b[0m \u001b[0;32mfor\u001b[0m \u001b[0m_\u001b[0m \u001b[0;32min\u001b[0m \u001b[0mnms\u001b[0m\u001b[0;34m]\u001b[0m\u001b[0;34m\u001b[0m\n",
       "\u001b[0;34m\u001b[0m    \u001b[0;34m\u001b[0m\n",
       "\u001b[0;34m\u001b[0m    \u001b[0mx\u001b[0m\u001b[0;34m,\u001b[0m \u001b[0my\u001b[0m \u001b[0;34m=\u001b[0m \u001b[0;34m(\u001b[0m\u001b[0mnp\u001b[0m\u001b[0;34m.\u001b[0m\u001b[0mtranspose\u001b[0m\u001b[0;34m(\u001b[0m\u001b[0;34m[\u001b[0m\u001b[0mxs\u001b[0m\u001b[0;34m,\u001b[0m \u001b[0mys\u001b[0m\u001b[0;34m]\u001b[0m\u001b[0;34m)\u001b[0m \u001b[0;34m*\u001b[0m \u001b[0mdX0\u001b[0m \u001b[0;34m+\u001b[0m \u001b[0mXmin0\u001b[0m\u001b[0;34m)\u001b[0m\u001b[0;34m.\u001b[0m\u001b[0mT\u001b[0m\u001b[0;34m\u001b[0m\n",
       "\u001b[0;34m\u001b[0m                                                             \u001b[0;34m\u001b[0m\n",
       "\u001b[0;34m\u001b[0m    \u001b[0mdx\u001b[0m\u001b[0;34m,\u001b[0m \u001b[0mdy\u001b[0m \u001b[0;34m=\u001b[0m \u001b[0mxmax\u001b[0m \u001b[0;34m-\u001b[0m \u001b[0mxmin\u001b[0m\u001b[0;34m,\u001b[0m \u001b[0mymax\u001b[0m \u001b[0;34m-\u001b[0m \u001b[0mymin\u001b[0m\u001b[0;34m\u001b[0m\n",
       "\u001b[0;34m\u001b[0m                \u001b[0;34m\u001b[0m\n",
       "\u001b[0;34m\u001b[0m    \u001b[0;32mif\u001b[0m \u001b[0mdxdy\u001b[0m\u001b[0;34m:\u001b[0m\u001b[0;34m\u001b[0m\n",
       "\u001b[0;34m\u001b[0m        \u001b[0mxp\u001b[0m \u001b[0;34m=\u001b[0m \u001b[0mx\u001b[0m \u001b[0;34m*\u001b[0m \u001b[0mdy\u001b[0m \u001b[0;34m+\u001b[0m \u001b[0mxmin\u001b[0m \u001b[0;34m-\u001b[0m \u001b[0;34m(\u001b[0m\u001b[0mdy\u001b[0m \u001b[0;34m-\u001b[0m \u001b[0mdx\u001b[0m\u001b[0;34m)\u001b[0m \u001b[0;34m/\u001b[0m \u001b[0;36m2\u001b[0m\u001b[0;34m\u001b[0m\n",
       "\u001b[0;34m\u001b[0m        \u001b[0myp\u001b[0m \u001b[0;34m=\u001b[0m \u001b[0my\u001b[0m \u001b[0;34m*\u001b[0m \u001b[0mdy\u001b[0m \u001b[0;34m+\u001b[0m \u001b[0mymin\u001b[0m\u001b[0;34m\u001b[0m\n",
       "\u001b[0;34m\u001b[0m    \u001b[0;32melse\u001b[0m\u001b[0;34m:\u001b[0m\u001b[0;34m\u001b[0m\n",
       "\u001b[0;34m\u001b[0m        \u001b[0mxp\u001b[0m \u001b[0;34m=\u001b[0m \u001b[0mx\u001b[0m \u001b[0;34m*\u001b[0m \u001b[0mdx\u001b[0m \u001b[0;34m+\u001b[0m \u001b[0mxmin\u001b[0m\u001b[0;34m\u001b[0m\n",
       "\u001b[0;34m\u001b[0m        \u001b[0myp\u001b[0m \u001b[0;34m=\u001b[0m \u001b[0my\u001b[0m \u001b[0;34m*\u001b[0m \u001b[0mdx\u001b[0m \u001b[0;34m+\u001b[0m \u001b[0mymin\u001b[0m \u001b[0;34m-\u001b[0m \u001b[0;34m(\u001b[0m\u001b[0mdx\u001b[0m \u001b[0;34m-\u001b[0m \u001b[0mdy\u001b[0m\u001b[0;34m)\u001b[0m \u001b[0;34m/\u001b[0m \u001b[0;36m2\u001b[0m\u001b[0;34m\u001b[0m\n",
       "\u001b[0;34m\u001b[0m            \u001b[0;34m\u001b[0m\n",
       "\u001b[0;34m\u001b[0m    \u001b[0mxy\u001b[0m \u001b[0;34m=\u001b[0m \u001b[0mnp\u001b[0m\u001b[0;34m.\u001b[0m\u001b[0mdot\u001b[0m\u001b[0;34m(\u001b[0m\u001b[0mrot2d\u001b[0m\u001b[0;34m(\u001b[0m\u001b[0mphi\u001b[0m\u001b[0;34m)\u001b[0m\u001b[0;34m,\u001b[0m \u001b[0mnp\u001b[0m\u001b[0;34m.\u001b[0m\u001b[0marray\u001b[0m\u001b[0;34m(\u001b[0m\u001b[0;34m[\u001b[0m\u001b[0mxp\u001b[0m\u001b[0;34m,\u001b[0m \u001b[0myp\u001b[0m\u001b[0;34m]\u001b[0m\u001b[0;34m)\u001b[0m\u001b[0;34m)\u001b[0m\u001b[0;34m.\u001b[0m\u001b[0mT\u001b[0m\u001b[0;34m\u001b[0m\n",
       "\u001b[0;34m\u001b[0m    \u001b[0;34m\u001b[0m\n",
       "\u001b[0;34m\u001b[0m    \u001b[0;32mreturn\u001b[0m \u001b[0;34m(\u001b[0m\u001b[0mxy\u001b[0m \u001b[0;34m+\u001b[0m \u001b[0moffset\u001b[0m\u001b[0;34m)\u001b[0m\u001b[0;34m.\u001b[0m\u001b[0mT\u001b[0m\u001b[0;34m\u001b[0m\u001b[0;34m\u001b[0m\u001b[0m\n",
       "\u001b[0;31mFile:\u001b[0m      ~/oyk/Extended_sources/2022/Chandra-ACIS-clusters-app/app/extended_library.py\n",
       "\u001b[0;31mType:\u001b[0m      function\n"
      ]
     },
     "metadata": {},
     "output_type": "display_data"
    }
   ],
   "source": [
    "ext_lib.unscale??"
   ]
  },
  {
   "cell_type": "code",
   "execution_count": 17,
   "id": "12b9878b-55b6-43ed-a412-3d32acefff2b",
   "metadata": {},
   "outputs": [
    {
     "data": {
      "text/plain": [
       "{'phi': 2.1533274599355527,\n",
       " 'offset': [4617.28369140625, 4225.53955078125],\n",
       " 'xmin': -55.46498249081688,\n",
       " 'xmax': 997.1357009140777,\n",
       " 'ymin': -1.297915767917157e-13,\n",
       " 'ymax': 1043.1528765054413,\n",
       " 'dx<dy': False,\n",
       " 'X.min(0)': array([0., 0.]),\n",
       " 'dX(0)': array([1., 1.])}"
      ]
     },
     "execution_count": 17,
     "metadata": {},
     "output_type": "execute_result"
    }
   ],
   "source": [
    "scaled_pars"
   ]
  },
  {
   "cell_type": "code",
   "execution_count": 24,
   "id": "6605fe5d-f3ee-42e9-813a-c00eb0bafd75",
   "metadata": {},
   "outputs": [],
   "source": [
    "polygons = 'physical\\n'\n",
    "\n",
    "for i, (xx, yy) in enumerate(zip(data['xs'], data['ys'])):\n",
    "    \n",
    "    xy = ext_lib.unscale(xx[0][0], yy[0][0], scaled_pars).T\n",
    "    \n",
    "    polygons += 'polygon(' + ','.join(np.ravel(xy).astype(str)) + ') # text={' + str(i) + '}\\n'\n",
    "    \n",
    "with open()    \n",
    "\n",
    "\n",
    "\n",
    "\n",
    "\n",
    "\n"
   ]
  }
 ],
 "metadata": {
  "kernelspec": {
   "display_name": "Python [conda env:p39] *",
   "language": "python",
   "name": "conda-env-p39-py"
  },
  "language_info": {
   "codemirror_mode": {
    "name": "ipython",
    "version": 3
   },
   "file_extension": ".py",
   "mimetype": "text/x-python",
   "name": "python",
   "nbconvert_exporter": "python",
   "pygments_lexer": "ipython3",
   "version": "3.9.13"
  }
 },
 "nbformat": 4,
 "nbformat_minor": 5
}
